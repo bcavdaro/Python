{
 "cells": [
  {
   "cell_type": "code",
   "execution_count": null,
   "metadata": {},
   "outputs": [],
   "source": [
    "#### FONKSIYONLAR  ###   Fonksiyon bir sablondur."
   ]
  },
  {
   "cell_type": "code",
   "execution_count": 2,
   "metadata": {},
   "outputs": [],
   "source": [
    "def fonskiyon_adi(parametreler):\n",
    "    fonskiyon_govdesi"
   ]
  },
  {
   "cell_type": "code",
   "execution_count": 8,
   "metadata": {},
   "outputs": [
    {
     "name": "stdout",
     "output_type": "stream",
     "text": [
      "Pasa\tGonul\t2010\tKarayazi\n"
     ]
    }
   ],
   "source": [
    "print(\"Pasa\",\"Gonul\",2010,\"Karayazi\", sep='\\t', end='\\n', file=sys.stdout,flush=False)"
   ]
  },
  {
   "cell_type": "code",
   "execution_count": 7,
   "metadata": {},
   "outputs": [],
   "source": [
    "import sys"
   ]
  },
  {
   "cell_type": "code",
   "execution_count": 9,
   "metadata": {},
   "outputs": [
    {
     "name": "stdout",
     "output_type": "stream",
     "text": [
      "Help on built-in function print in module builtins:\n",
      "\n",
      "print(...)\n",
      "    print(value, ..., sep=' ', end='\\n', file=sys.stdout, flush=False)\n",
      "    \n",
      "    Prints the values to a stream, or to sys.stdout by default.\n",
      "    Optional keyword arguments:\n",
      "    file:  a file-like object (stream); defaults to the current sys.stdout.\n",
      "    sep:   string inserted between values, default a space.\n",
      "    end:   string appended after the last value, default a newline.\n",
      "    flush: whether to forcibly flush the stream.\n",
      "\n"
     ]
    }
   ],
   "source": [
    "help(print)"
   ]
  },
  {
   "cell_type": "code",
   "execution_count": 18,
   "metadata": {},
   "outputs": [],
   "source": [
    "def sistem_bilgilerini_goster():\n",
    "    print(\"\\nSistemde kurul python'un;\")\n",
    "    print(\"\\tana surum numarasi :\", sys.version_info.major)\n",
    "    print(\"\\talt surum numarasi :\", sys.version_info.major)\n",
    "    print(\"\\tminik surum numarasi :\", sys.version_info.micro)\n",
    "\n",
    "    print(\"Isletim sistem adi:\",sys.platform)"
   ]
  },
  {
   "cell_type": "code",
   "execution_count": 19,
   "metadata": {},
   "outputs": [
    {
     "name": "stdout",
     "output_type": "stream",
     "text": [
      "\n",
      "Sistemde kurul python'un;\n",
      "\tana surum numarasi : 3\n",
      "\talt surum numarasi : 3\n",
      "\tminik surum numarasi : 7\n",
      "Isletim sistem adi: win32\n"
     ]
    }
   ],
   "source": [
    "sistem_bilgilerini_goster()"
   ]
  },
  {
   "cell_type": "code",
   "execution_count": 20,
   "metadata": {},
   "outputs": [],
   "source": [
    "del sys"
   ]
  },
  {
   "cell_type": "code",
   "execution_count": 24,
   "metadata": {},
   "outputs": [],
   "source": [
    "def sistem_bilgilerini_goster():                                        ### del ile sildim hata verdi sonra sys i import ettim calisti.\n",
    "    import sys\n",
    "    print(\"\\nSistemde kurul python'un;\")\n",
    "    print(\"\\tana surum numarasi :\", sys.version_info.major)\n",
    "    print(\"\\talt surum numarasi :\", sys.version_info.major)\n",
    "    print(\"\\tminik surum numarasi :\", sys.version_info.micro)\n",
    "\n",
    "    print(\"Isletim sistem adi:\",sys.platform)"
   ]
  },
  {
   "cell_type": "code",
   "execution_count": 25,
   "metadata": {},
   "outputs": [
    {
     "name": "stdout",
     "output_type": "stream",
     "text": [
      "\n",
      "Sistemde kurul python'un;\n",
      "\tana surum numarasi : 3\n",
      "\talt surum numarasi : 3\n",
      "\tminik surum numarasi : 7\n",
      "Isletim sistem adi: win32\n"
     ]
    }
   ],
   "source": [
    "sistem_bilgilerini_goster()"
   ]
  },
  {
   "cell_type": "code",
   "execution_count": 27,
   "metadata": {},
   "outputs": [
    {
     "data": {
      "text/plain": [
       "'3.10.7 (tags/v3.10.7:6cc6b13, Sep  5 2022, 14:08:36) [MSC v.1933 64 bit (AMD64)]'"
      ]
     },
     "execution_count": 27,
     "metadata": {},
     "output_type": "execute_result"
    }
   ],
   "source": [
    "import sys\n",
    "sys.version"
   ]
  },
  {
   "cell_type": "code",
   "execution_count": 31,
   "metadata": {},
   "outputs": [],
   "source": [
    "import math"
   ]
  },
  {
   "cell_type": "code",
   "execution_count": 32,
   "metadata": {},
   "outputs": [
    {
     "data": {
      "text/plain": [
       "120"
      ]
     },
     "execution_count": 32,
     "metadata": {},
     "output_type": "execute_result"
    }
   ],
   "source": [
    "math.factorial(5)"
   ]
  },
  {
   "cell_type": "code",
   "execution_count": 37,
   "metadata": {},
   "outputs": [],
   "source": [
    "from math import *"
   ]
  },
  {
   "cell_type": "code",
   "execution_count": 39,
   "metadata": {},
   "outputs": [
    {
     "data": {
      "text/plain": [
       "120"
      ]
     },
     "execution_count": 39,
     "metadata": {},
     "output_type": "execute_result"
    }
   ],
   "source": [
    "factorial(5)"
   ]
  },
  {
   "cell_type": "code",
   "execution_count": 40,
   "metadata": {},
   "outputs": [
    {
     "data": {
      "text/plain": [
       "14.101419947171719"
      ]
     },
     "execution_count": 40,
     "metadata": {},
     "output_type": "execute_result"
    }
   ],
   "source": [
    "tan (1.5)"
   ]
  },
  {
   "cell_type": "code",
   "execution_count": 41,
   "metadata": {},
   "outputs": [],
   "source": [
    "from math import factorial as f"
   ]
  },
  {
   "cell_type": "code",
   "execution_count": 42,
   "metadata": {},
   "outputs": [
    {
     "data": {
      "text/plain": [
       "120"
      ]
     },
     "execution_count": 42,
     "metadata": {},
     "output_type": "execute_result"
    }
   ],
   "source": [
    "f(5)"
   ]
  },
  {
   "cell_type": "code",
   "execution_count": 44,
   "metadata": {},
   "outputs": [],
   "source": [
    "def faktoriyel(x):\n",
    "    f=1\n",
    "    for i in range(2,x+1):\n",
    "        f = f*i\n",
    "    print(f)"
   ]
  },
  {
   "cell_type": "code",
   "execution_count": 45,
   "metadata": {},
   "outputs": [
    {
     "name": "stdout",
     "output_type": "stream",
     "text": [
      "120\n"
     ]
    }
   ],
   "source": [
    "faktoriyel(5)"
   ]
  },
  {
   "cell_type": "code",
   "execution_count": 47,
   "metadata": {},
   "outputs": [],
   "source": [
    "def kayit(isim,soyisim,d_tar, sehir):\n",
    "    print(\"-\"*30)\n",
    "\n",
    "    print(\"iaim     :\", isim)\n",
    "    print(\"soyisim  :\",soyisim)\n",
    "    print(\"d_tar    :\",d_tar)\n",
    "    print(\"sehir    :\",sehir)\n",
    "    print(\"-\"*30)"
   ]
  },
  {
   "cell_type": "code",
   "execution_count": 50,
   "metadata": {},
   "outputs": [
    {
     "name": "stdout",
     "output_type": "stream",
     "text": [
      "------------------------------\n",
      "iaim     : Sakir\n",
      "soyisim  : Karabiber\n",
      "d_tar    : 2005\n",
      "sehir    : Manisa\n",
      "------------------------------\n"
     ]
    }
   ],
   "source": [
    "kayit(\"Sakir\", \"Karabiber\", 2005, \"Manisa\")     ## argumanlardan biri eksik olursa hata verir"
   ]
  },
  {
   "cell_type": "code",
   "execution_count": 51,
   "metadata": {},
   "outputs": [
    {
     "name": "stdout",
     "output_type": "stream",
     "text": [
      "------------------------------\n",
      "iaim     : Sakir\n",
      "soyisim  : Karabiber\n",
      "d_tar    : 2005\n",
      "sehir    : Manisa\n",
      "------------------------------\n"
     ]
    }
   ],
   "source": [
    "kayit(sehir=\"Manisa\", isim=\"Sakir\", soyisim=\"Karabiber\", d_tar=2005)"
   ]
  },
  {
   "cell_type": "code",
   "execution_count": null,
   "metadata": {},
   "outputs": [],
   "source": [
    "###  Rastgele isimsiz parametre"
   ]
  },
  {
   "cell_type": "code",
   "execution_count": 52,
   "metadata": {},
   "outputs": [
    {
     "name": "stdout",
     "output_type": "stream",
     "text": [
      "A,l,i\n"
     ]
    }
   ],
   "source": [
    "print(*\"Ali\", sep=\",\")                                ## Burada * ayiriyor harflerine kelimelerde"
   ]
  },
  {
   "cell_type": "code",
   "execution_count": 53,
   "metadata": {},
   "outputs": [],
   "source": [
    "def fonksiyon(*args):                                    ###args 256 deger yazdirabiliryour\n",
    "    print(args)"
   ]
  },
  {
   "cell_type": "code",
   "execution_count": 55,
   "metadata": {},
   "outputs": [
    {
     "name": "stdout",
     "output_type": "stream",
     "text": [
      "(1, 2, 3, 4, 5, 6, 7, 8)\n"
     ]
    }
   ],
   "source": [
    "fonksiyon(1,2,3,4,5,6,7,8)"
   ]
  },
  {
   "cell_type": "code",
   "execution_count": 57,
   "metadata": {},
   "outputs": [],
   "source": [
    "def eb(*args):\n",
    "    b = args [0]\n",
    "    for i in args:\n",
    "        if b<i:\n",
    "            b=i\n",
    "    print(b)"
   ]
  },
  {
   "cell_type": "code",
   "execution_count": 58,
   "metadata": {},
   "outputs": [
    {
     "name": "stdout",
     "output_type": "stream",
     "text": [
      "87\n"
     ]
    }
   ],
   "source": [
    "eb(1,5,8,9,25,87,12)"
   ]
  },
  {
   "cell_type": "code",
   "execution_count": 59,
   "metadata": {},
   "outputs": [],
   "source": [
    "def eb(*args):\n",
    "    b = args [0]\n",
    "    for i in args:\n",
    "        if b>i:\n",
    "            b=i\n",
    "    print(b)"
   ]
  },
  {
   "cell_type": "code",
   "execution_count": 60,
   "metadata": {},
   "outputs": [
    {
     "name": "stdout",
     "output_type": "stream",
     "text": [
      "1\n"
     ]
    }
   ],
   "source": [
    "eb(1,5,8,9,25,87,12)"
   ]
  },
  {
   "cell_type": "code",
   "execution_count": 68,
   "metadata": {},
   "outputs": [],
   "source": [
    "def eb(*args):\n",
    "    b = args [0]\n",
    "    for i in args:\n",
    "        if b<i:\n",
    "            b=i\n",
    "    return(b)"
   ]
  },
  {
   "cell_type": "code",
   "execution_count": 69,
   "metadata": {},
   "outputs": [],
   "source": [
    "c= eb(1,5,8,9,25,87,12)\n",
    "\n"
   ]
  },
  {
   "cell_type": "code",
   "execution_count": 70,
   "metadata": {},
   "outputs": [],
   "source": [
    "a=max((1,5,8,9,25,87,12))"
   ]
  },
  {
   "cell_type": "code",
   "execution_count": 71,
   "metadata": {},
   "outputs": [
    {
     "data": {
      "text/plain": [
       "87"
      ]
     },
     "execution_count": 71,
     "metadata": {},
     "output_type": "execute_result"
    }
   ],
   "source": [
    "c                                     ### eger return yapmazsak onceden degistirdigimiz seyler sonucu gozukmuyour o yuzden return yapmaliyiz"
   ]
  },
  {
   "cell_type": "code",
   "execution_count": 62,
   "metadata": {},
   "outputs": [
    {
     "data": {
      "text/plain": [
       "87"
      ]
     },
     "execution_count": 62,
     "metadata": {},
     "output_type": "execute_result"
    }
   ],
   "source": [
    "max((1,5,8,9,25,87,12))"
   ]
  },
  {
   "cell_type": "code",
   "execution_count": null,
   "metadata": {},
   "outputs": [],
   "source": [
    "#### rastgele isimli parametre"
   ]
  },
  {
   "cell_type": "code",
   "execution_count": 72,
   "metadata": {},
   "outputs": [],
   "source": [
    "def kayit(**kwargs):\n",
    "    print(kwargs)"
   ]
  },
  {
   "cell_type": "code",
   "execution_count": 73,
   "metadata": {},
   "outputs": [
    {
     "name": "stdout",
     "output_type": "stream",
     "text": [
      "{'isim': 'Ahmet', 'soyisim': 'Oz', 'meslek': 'ogretmen', 'sehir': 'Ankara'}\n"
     ]
    }
   ],
   "source": [
    "kayit(isim =\"Ahmet\", soyisim = \"Oz\", meslek = \"ogretmen\", sehir = \"Ankara\")"
   ]
  },
  {
   "cell_type": "code",
   "execution_count": 74,
   "metadata": {},
   "outputs": [],
   "source": [
    "def kayit(**kwargs):\n",
    "    for i in kwargs:\n",
    "        print(i,kwargs[i])"
   ]
  },
  {
   "cell_type": "code",
   "execution_count": 75,
   "metadata": {},
   "outputs": [
    {
     "name": "stdout",
     "output_type": "stream",
     "text": [
      "isim Ahmet\n",
      "soyisim Oz\n",
      "meslek ogretmen\n",
      "sehir Ankara\n"
     ]
    }
   ],
   "source": [
    "kayit(isim =\"Ahmet\", soyisim = \"Oz\", meslek = \"ogretmen\", sehir = \"Ankara\")"
   ]
  },
  {
   "cell_type": "code",
   "execution_count": 76,
   "metadata": {},
   "outputs": [],
   "source": [
    "def kayit(**kwargs):\n",
    "    for i in kwargs:\n",
    "        print(f\"{i:10.8}  : {kwargs[i]:.10}\")          ### buradaki 10 tanelik yer ayir 8 tanesini kullanabilir.\n",
    "                                                       ### ikinci kisimdaki nokta ise sayi vermeden bosluk birak ve 10 tanesini kulllan"
   ]
  },
  {
   "cell_type": "code",
   "execution_count": 77,
   "metadata": {},
   "outputs": [
    {
     "name": "stdout",
     "output_type": "stream",
     "text": [
      "isim        : Ahmet\n",
      "soyisim     : Oz\n",
      "meslek      : ogretmen\n",
      "sehir       : Ankara\n"
     ]
    }
   ],
   "source": [
    "kayit(isim =\"Ahmet\", soyisim = \"Oz\", meslek = \"ogretmen\", sehir = \"Ankara\")"
   ]
  },
  {
   "cell_type": "code",
   "execution_count": 83,
   "metadata": {},
   "outputs": [],
   "source": [
    "def kayit(**kwargs):\n",
    "    for i,j in kwargs.items():\n",
    "        print(f\"{i:10.8} : {j}\")"
   ]
  },
  {
   "cell_type": "code",
   "execution_count": 84,
   "metadata": {},
   "outputs": [
    {
     "name": "stdout",
     "output_type": "stream",
     "text": [
      "isim       : Ahmet\n",
      "soyisim    : Oz\n",
      "meslek     : ogretmen\n",
      "sehir      : Ankara\n"
     ]
    }
   ],
   "source": [
    "kayit(isim =\"Ahmet\", soyisim = \"Oz\", meslek = \"ogretmen\", sehir = \"Ankara\")"
   ]
  },
  {
   "cell_type": "code",
   "execution_count": 85,
   "metadata": {},
   "outputs": [],
   "source": [
    "def karsilik_bul(*args,**kwargs) :                        \n",
    "    for sozcuk in args:                         ## bu su demek args listesindeki sozcgu bana donder\n",
    "        if sozcuk in kwargs:\n",
    "            print(\"{} = {}\".format(sozcuk,kwargs[sozcuk]))\n",
    "        else:\n",
    "            print(\"{}kelimesi sozlukte yoktur!\" .format(sozcuk))\n",
    "\n",
    "sozluk = {\"kitap\" :\"book\",\n",
    "          \"bilgisayar\" : \"computer\",\n",
    "          \"programlama\"  : \"programming\",\n",
    "          \"bes\" : \"five\"}"
   ]
  },
  {
   "cell_type": "code",
   "execution_count": 88,
   "metadata": {},
   "outputs": [
    {
     "name": "stdout",
     "output_type": "stream",
     "text": [
      "kitap = book\n",
      "bilgisayar = computer\n",
      "bes = five\n"
     ]
    }
   ],
   "source": [
    "karsilik_bul(\"kitap\",\"bilgisayar\",\"bes\", **sozluk)"
   ]
  },
  {
   "cell_type": "code",
   "execution_count": 89,
   "metadata": {},
   "outputs": [
    {
     "name": "stdout",
     "output_type": "stream",
     "text": [
      "kitap = book\n",
      "bilgisayar = computer\n",
      "bes = five\n",
      "Abbaskelimesi sozlukte yoktur!\n"
     ]
    }
   ],
   "source": [
    "karsilik_bul(\"kitap\",\"bilgisayar\",\"bes\", \"Abbas\", **sozluk)"
   ]
  },
  {
   "cell_type": "code",
   "execution_count": null,
   "metadata": {},
   "outputs": [],
   "source": [
    "### args liste  "
   ]
  }
 ],
 "metadata": {
  "kernelspec": {
   "display_name": "Python 3.10.7 64-bit",
   "language": "python",
   "name": "python3"
  },
  "language_info": {
   "codemirror_mode": {
    "name": "ipython",
    "version": 3
   },
   "file_extension": ".py",
   "mimetype": "text/x-python",
   "name": "python",
   "nbconvert_exporter": "python",
   "pygments_lexer": "ipython3",
   "version": "3.10.7"
  },
  "orig_nbformat": 4,
  "vscode": {
   "interpreter": {
    "hash": "974597dd8ef7879a11ba597ac90f8b666a0a4c4068cc994294f584311e4770be"
   }
  }
 },
 "nbformat": 4,
 "nbformat_minor": 2
}
