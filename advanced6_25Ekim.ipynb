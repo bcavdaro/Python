{
 "cells": [
  {
   "cell_type": "code",
   "execution_count": null,
   "metadata": {},
   "outputs": [],
   "source": [
    "### Modul icine baska modulu import etme "
   ]
  },
  {
   "cell_type": "code",
   "execution_count": 10,
   "metadata": {},
   "outputs": [],
   "source": [
    "def faktoriyel(x):\n",
    "    f = 1\n",
    "    for i in range (2, x+1):\n",
    "        return f\n",
    "\n",
    "def iki (x):\n",
    "  \n",
    "    return__import__('math').factorial (x)"
   ]
  },
  {
   "cell_type": "code",
   "execution_count": 14,
   "metadata": {},
   "outputs": [],
   "source": [
    "import bbbb_sil\n"
   ]
  },
  {
   "cell_type": "code",
   "execution_count": 13,
   "metadata": {},
   "outputs": [
    {
     "data": {
      "text/plain": [
       "2"
      ]
     },
     "execution_count": 13,
     "metadata": {},
     "output_type": "execute_result"
    }
   ],
   "source": [
    "bbbb_sil.faktoriyel(5)\n"
   ]
  },
  {
   "cell_type": "code",
   "execution_count": 15,
   "metadata": {},
   "outputs": [
    {
     "ename": "TypeError",
     "evalue": "iki() missing 1 required positional argument: 'y'",
     "output_type": "error",
     "traceback": [
      "\u001b[1;31m---------------------------------------------------------------------------\u001b[0m",
      "\u001b[1;31mTypeError\u001b[0m                                 Traceback (most recent call last)",
      "Cell \u001b[1;32mIn [15], line 1\u001b[0m\n\u001b[1;32m----> 1\u001b[0m bbbb_sil\u001b[39m.\u001b[39;49miki(\u001b[39m5\u001b[39;49m)\n",
      "\u001b[1;31mTypeError\u001b[0m: iki() missing 1 required positional argument: 'y'"
     ]
    }
   ],
   "source": [
    "bbbb_sil.iki(5)            ###???? Hocanin ki dogru cikti benimki yanlis"
   ]
  },
  {
   "cell_type": "code",
   "execution_count": null,
   "metadata": {},
   "outputs": [],
   "source": [
    "####  Module if name == main ekleme"
   ]
  },
  {
   "cell_type": "code",
   "execution_count": null,
   "metadata": {},
   "outputs": [],
   "source": [
    "\"\"\" Bu program modul olşturmak üzere\n",
    "deneme  olarak yapılmıştır. \"\"\"\n",
    "def __dir__():\n",
    "\treturn ['ara','ekle','sil']\n",
    "def ara(sözcük):\n",
    "    hata = \"{} kelimesi sözlükte yok!\"\n",
    "    #return sözlük.get(sözcük, hata.format(sözcük))\n",
    "    print(sözlük.get(sözcük))\n",
    "\t\n",
    "\"\"\"Ara ile ilgili açıklama\"\"\"\n",
    "def ekle(sözcük, anlam):\n",
    "    mesaj = \"{} kelimesi sözlüğe eklendi!\"\n",
    "    sözlük[sözcük] = anlam\n",
    "    print(mesaj.format(sözcük))\n",
    "\t\n",
    "def sil(sözcük):\n",
    "    try:\n",
    "        sözlük.pop(sözcük)\n",
    "    except KeyError as err:\n",
    "        print(err, \"kelimesi bulunamadı!\")\n",
    "    else:\n",
    "        print(\"{} kelimesi sözlükten silindi!\".format(sözcük))\n",
    "\t\t\n",
    "\t\t\n",
    "sözlük = {\"kitap\"      : \"book\",\n",
    "          \"bilgisayar\" : \"computer\",\n",
    "          \"programlama\": \"programming\",\n",
    "\t\t  \"five\"       : \"five\"}\n",
    "if __name__ == '__main__':\n",
    "    no = input('Yapmak istediğiniz işlemin numarasını girin: ')\n",
    "    print('1. Sözlükte kelime ara')\n",
    "    print('2. Sözlüğe kelime ekle')\n",
    "    print('3. Sözlükten kelime sil')\n",
    "    if no == '1':\n",
    "        sözcük = input('Aradığınız sözcük: ')\n",
    "        ara(sözcük)\n",
    "    elif no == '2':\n",
    "        sözcük = input('Ekleyeceğiniz sözcük: ')\n",
    "        anlam = input('Eklediğiniz sözcüğün anlamı: ')\n",
    "        ekle(sözcük, anlam)\n",
    "    elif no == '3':\n",
    "        sözcük = input('Sileceğiniz sözcük: ')\n",
    "        sil(sözcük)\n",
    "    else:\n",
    "        print('Yanlış işlem')"
   ]
  },
  {
   "cell_type": "code",
   "execution_count": null,
   "metadata": {},
   "outputs": [],
   "source": [
    "#####  yukaridaki konuyu anlamadim. tekrar izle"
   ]
  },
  {
   "cell_type": "code",
   "execution_count": 19,
   "metadata": {},
   "outputs": [],
   "source": [
    "import bbbb_sil"
   ]
  },
  {
   "cell_type": "code",
   "execution_count": 20,
   "metadata": {},
   "outputs": [
    {
     "name": "stdout",
     "output_type": "stream",
     "text": [
      "Help on module bbbb_sil:\n",
      "\n",
      "NAME\n",
      "    bbbb_sil\n",
      "\n",
      "FUNCTIONS\n",
      "    faktoriyel(x)\n",
      "    \n",
      "    iki(x, y)\n",
      "\n",
      "FILE\n",
      "    c:\\users\\goksal\\desktop\\python\\bbbb_sil.py\n",
      "\n",
      "\n"
     ]
    }
   ],
   "source": [
    "help(bbbb_sil)                                ### help parantezin icinde yazarsan dosyayi yardimci oluyor"
   ]
  },
  {
   "cell_type": "code",
   "execution_count": null,
   "metadata": {},
   "outputs": [],
   "source": [
    "######   DEKORATORLER"
   ]
  },
  {
   "cell_type": "code",
   "execution_count": null,
   "metadata": {},
   "outputs": [],
   "source": [
    "##########################################\n",
    "#~~~~~~~~~~~~~~~~~~~~~~~~~~~~~~~~~~~~~~~~#\n",
    "#                                        #\n",
    "#                                        #\n",
    "#~~~~~~~~~~~~~~~~~~~~~~~~~~~~~~~~~~~~~~~~#\n",
    "##########################################"
   ]
  },
  {
   "cell_type": "code",
   "execution_count": 21,
   "metadata": {},
   "outputs": [],
   "source": [
    "def sus_yap(f):\n",
    "    def wrapper(*args):\n",
    "        print(\"##########################################\")\n",
    "        print(\"#~~~~~~~~~~~~~~~~~~~~~~~~~~~~~~~~~~~~~~~~#\")\n",
    "        print(\"#                                        #\")\n",
    "        f(*args)\n",
    "        print(\"#                                        #\")\n",
    "        print(\"#~~~~~~~~~~~~~~~~~~~~~~~~~~~~~~~~~~~~~~~~#\")\n",
    "        print(\"##########################################\")\n",
    "    return wrapper"
   ]
  },
  {
   "cell_type": "code",
   "execution_count": 24,
   "metadata": {},
   "outputs": [],
   "source": [
    "@sus_yap\n",
    "def den(f):\n",
    "    print(\"#{:^40}#\".format(f))"
   ]
  },
  {
   "cell_type": "code",
   "execution_count": 26,
   "metadata": {},
   "outputs": [
    {
     "name": "stdout",
     "output_type": "stream",
     "text": [
      "#                 Ahmet                  #\n"
     ]
    }
   ],
   "source": [
    "print(\"#{:^40}#\".format(\"Ahmet\"))"
   ]
  },
  {
   "cell_type": "code",
   "execution_count": 27,
   "metadata": {},
   "outputs": [
    {
     "name": "stdout",
     "output_type": "stream",
     "text": [
      "#  Belma   #\n"
     ]
    }
   ],
   "source": [
    "print(\"#{:^10}#\".format(\"Belma\"))"
   ]
  },
  {
   "cell_type": "code",
   "execution_count": 28,
   "metadata": {},
   "outputs": [
    {
     "name": "stdout",
     "output_type": "stream",
     "text": [
      "##########################################\n",
      "#~~~~~~~~~~~~~~~~~~~~~~~~~~~~~~~~~~~~~~~~#\n",
      "#                                        #\n",
      "#             Keramet Subasi             #\n",
      "#                                        #\n",
      "#~~~~~~~~~~~~~~~~~~~~~~~~~~~~~~~~~~~~~~~~#\n",
      "##########################################\n"
     ]
    }
   ],
   "source": [
    "den(\"Keramet Subasi\")"
   ]
  },
  {
   "cell_type": "code",
   "execution_count": 29,
   "metadata": {},
   "outputs": [],
   "source": [
    "def sure_olc(f):                                #### yildiz belirsiz degisken varsa onun icin kullaniyor. Yani *args yazarsak ne kadar\n",
    "    import time                                  ### degisken varsa alabilir\n",
    "    def wrapper(*args):\n",
    "        basl=time.time()\n",
    "\n",
    "        f(*args)\n",
    "\n",
    "        bitis = time.time()\n",
    "        print(\"Baslangic zamani : {}\". format(basl))\n",
    "        print(\"Bitis zamani : {}\".format (bitis))\n",
    "        print(bitis-basl)\n",
    "    return wrapper\n"
   ]
  },
  {
   "cell_type": "code",
   "execution_count": 31,
   "metadata": {},
   "outputs": [],
   "source": [
    "@sure_olc\n",
    "def faktoriyel (x):\n",
    "    f = 1\n",
    "    for i in range(1,x+1):\n",
    "        f *= i\n",
    "    return f\n"
   ]
  },
  {
   "cell_type": "code",
   "execution_count": 33,
   "metadata": {},
   "outputs": [
    {
     "name": "stdout",
     "output_type": "stream",
     "text": [
      "Baslangic zamani : 1666815859.849959\n",
      "Bitis zamani : 1666816006.1063778\n",
      "146.25641894340515\n"
     ]
    }
   ],
   "source": [
    "faktoriyel(500000)"
   ]
  },
  {
   "cell_type": "code",
   "execution_count": 35,
   "metadata": {},
   "outputs": [
    {
     "name": "stdout",
     "output_type": "stream",
     "text": [
      "Baslangic zamani : 1666816074.102679\n",
      "Bitis zamani : 1666816077.9709396\n",
      "3.868260622024536\n"
     ]
    }
   ],
   "source": [
    "import time                                             ### Bu sekilde de yapiliyour\n",
    "basl= time.time()\n",
    "from math import factorial as f\n",
    "f(500000)\n",
    "\n",
    "bitis = time.time()\n",
    "print(\"Baslangic zamani : {}\". format(basl))\n",
    "print(\"Bitis zamani : {}\".format (bitis))\n",
    "print(bitis-basl)"
   ]
  },
  {
   "cell_type": "code",
   "execution_count": 36,
   "metadata": {},
   "outputs": [],
   "source": [
    "@sure_olc\n",
    "def yeni():\n",
    "    print(\"Selam\")\n",
    "    return"
   ]
  },
  {
   "cell_type": "code",
   "execution_count": 37,
   "metadata": {},
   "outputs": [
    {
     "name": "stdout",
     "output_type": "stream",
     "text": [
      "Selam\n",
      "Baslangic zamani : 1666816837.4434814\n",
      "Bitis zamani : 1666816837.444483\n",
      "0.001001596450805664\n"
     ]
    }
   ],
   "source": [
    "yeni()"
   ]
  },
  {
   "cell_type": "code",
   "execution_count": 40,
   "metadata": {},
   "outputs": [],
   "source": [
    "@sus_yap  \n",
    "@sure_olc \n",
    "def yeni(f):\n",
    "    print (\"#{:^40}#\".format(f)) \n",
    "    return\n"
   ]
  },
  {
   "cell_type": "code",
   "execution_count": 41,
   "metadata": {},
   "outputs": [
    {
     "name": "stdout",
     "output_type": "stream",
     "text": [
      "##########################################\n",
      "#~~~~~~~~~~~~~~~~~~~~~~~~~~~~~~~~~~~~~~~~#\n",
      "#                                        #\n",
      "#                 Selam                  #\n",
      "Baslangic zamani : 1666817291.2292168\n",
      "Bitis zamani : 1666817291.2292168\n",
      "0.0\n",
      "#                                        #\n",
      "#~~~~~~~~~~~~~~~~~~~~~~~~~~~~~~~~~~~~~~~~#\n",
      "##########################################\n"
     ]
    }
   ],
   "source": [
    "yeni(\"Selam\")"
   ]
  },
  {
   "cell_type": "code",
   "execution_count": 42,
   "metadata": {},
   "outputs": [],
   "source": [
    "@sure_olc\n",
    "@sus_yap  \n",
    " \n",
    "def yeni(f):\n",
    "    print (\"#{:^40}#\".format(f)) \n",
    "    return"
   ]
  },
  {
   "cell_type": "code",
   "execution_count": 43,
   "metadata": {},
   "outputs": [
    {
     "name": "stdout",
     "output_type": "stream",
     "text": [
      "##########################################\n",
      "#~~~~~~~~~~~~~~~~~~~~~~~~~~~~~~~~~~~~~~~~#\n",
      "#                                        #\n",
      "#               Ahmet Gok                #\n",
      "#                                        #\n",
      "#~~~~~~~~~~~~~~~~~~~~~~~~~~~~~~~~~~~~~~~~#\n",
      "##########################################\n",
      "Baslangic zamani : 1666817358.673773\n",
      "Bitis zamani : 1666817358.673773\n",
      "0.0\n"
     ]
    }
   ],
   "source": [
    "yeni(\"Ahmet Gok\")                                       #### sus ile sureyi degistirdik o yuzden degisti."
   ]
  },
  {
   "cell_type": "code",
   "execution_count": null,
   "metadata": {},
   "outputs": [],
   "source": [
    "########### PAKETLER #############  Paketler modullerden olusur. Moduller de fonksiyonlardan olusr. Pakete de kutuphane diyorlar."
   ]
  },
  {
   "cell_type": "code",
   "execution_count": null,
   "metadata": {},
   "outputs": [],
   "source": [
    "Python’da bir dizin yapısı içinde bir araya getirilen, birbiriyle bağlantılı modüllere paket adı verilir. Dolayısıyla paketler modüllerden oluşur.\n",
    "Mesela Python’la web programları yazmak için kullanılan en gözde araçlardan biri olan **django** web çatısı, aslında birtakım üçüncü şahıs modüllerinin bir paket yapısı içinde bir araya getirilmiş halinden başka bir şey değildir. Aynı şekilde Python’la Android ve iOS üzerinde çalışabilecek programlar yazmak isterseniz **kivy** adlı bir başka Python paketini öğrenmeniz gerekir. Python programlama dilini kullanarak grafik arayüzlü yazılımlar geliştirmemizi sağlayan **tkinter** ise standart kütüphanede bulunan pek çok paketten yalnızca bir tanesidir.\n",
    "Her paket bir modüldür, ancak her modül bir paket değildir.\n",
    "Mesela standart kütüphanede bulunan sqlite3, Sqlite veritabanları üzerinde çalışmamıza imkan tanıyan çeşitli modülleri içinde barındıran bir Python paketidir.\n",
    "Standart paketler lib klasörü altındadır.\n",
    "Paketler de çoğunlukla bir birleriyle ilişkili birden fazla modül bulnur.\n",
    "Tek bir dosyadan oluştuğu ve bir dizin yapısı içinde yer almadığı için bir modülden içe aktarma işlemi gerçekleştirmek son derece kolaydır. Paketlerden içe aktarma yaparken uymamız gereken kurallar ise haliyle biraz daha karmaşıktır.\n",
    "İkincisi, bütün paketler aynı zamanda birer modüldür, ancak bütün modüller birer paket değildir. Örneğin venv paketinden bahsederken ‘venv modülü’ demek yanlış olmaz. Ancak os modülünden bahsederken ‘os paketi’ demek biraz abes kaçacaktır.\n",
    "Üçüncüsü, paketlerin __path__ adlı özel bir niteliği bulunur. Modüllerde ise bu nitelik bulunmaz. Örneğin:"
   ]
  },
  {
   "cell_type": "code",
   "execution_count": 44,
   "metadata": {},
   "outputs": [
    {
     "ename": "AttributeError",
     "evalue": "module 'os' has no attribute '__path__'",
     "output_type": "error",
     "traceback": [
      "\u001b[1;31m---------------------------------------------------------------------------\u001b[0m",
      "\u001b[1;31mAttributeError\u001b[0m                            Traceback (most recent call last)",
      "Cell \u001b[1;32mIn [44], line 2\u001b[0m\n\u001b[0;32m      1\u001b[0m \u001b[39mimport\u001b[39;00m \u001b[39mos\u001b[39;00m              \u001b[39m### os bir moduldur.\u001b[39;00m\n\u001b[1;32m----> 2\u001b[0m os\u001b[39m.\u001b[39;49m__path__\n",
      "\u001b[1;31mAttributeError\u001b[0m: module 'os' has no attribute '__path__'"
     ]
    }
   ],
   "source": [
    "import os              ### os bir moduldur. Os modulu path yoktur.\n",
    "os.__path__"
   ]
  },
  {
   "cell_type": "code",
   "execution_count": 45,
   "metadata": {},
   "outputs": [
    {
     "data": {
      "text/plain": [
       "['c:\\\\Users\\\\Goksal\\\\AppData\\\\Local\\\\Programs\\\\Python\\\\Python310\\\\lib\\\\json']"
      ]
     },
     "execution_count": 45,
     "metadata": {},
     "output_type": "execute_result"
    }
   ],
   "source": [
    "import json                      #### Eger path calisiyoursa bir modulun paket mi yoksa sadece bir modul mu oldugunu anlamak icin\n",
    "json.__path__                    ### uzantisina bakilir. Eger calisiyoursa path bu bir pakettir kutuphanedir. calismiyoursa sadece moduldur"
   ]
  },
  {
   "cell_type": "code",
   "execution_count": 46,
   "metadata": {},
   "outputs": [],
   "source": [
    "import sqlite3"
   ]
  },
  {
   "cell_type": "code",
   "execution_count": 48,
   "metadata": {},
   "outputs": [
    {
     "data": {
      "text/plain": [
       "['c:\\\\Users\\\\Goksal\\\\AppData\\\\Local\\\\Programs\\\\Python\\\\Python310\\\\lib\\\\sqlite3']"
      ]
     },
     "execution_count": 48,
     "metadata": {},
     "output_type": "execute_result"
    }
   ],
   "source": [
    "sqlite3.__path__"
   ]
  },
  {
   "cell_type": "code",
   "execution_count": 49,
   "metadata": {},
   "outputs": [
    {
     "data": {
      "text/plain": [
       "['Binary',\n",
       " 'Connection',\n",
       " 'Cursor',\n",
       " 'DataError',\n",
       " 'DatabaseError',\n",
       " 'Date',\n",
       " 'DateFromTicks',\n",
       " 'Error',\n",
       " 'IntegrityError',\n",
       " 'InterfaceError',\n",
       " 'InternalError',\n",
       " 'NotSupportedError',\n",
       " 'OperationalError',\n",
       " 'PARSE_COLNAMES',\n",
       " 'PARSE_DECLTYPES',\n",
       " 'PrepareProtocol',\n",
       " 'ProgrammingError',\n",
       " 'Row',\n",
       " 'SQLITE_ALTER_TABLE',\n",
       " 'SQLITE_ANALYZE',\n",
       " 'SQLITE_ATTACH',\n",
       " 'SQLITE_CREATE_INDEX',\n",
       " 'SQLITE_CREATE_TABLE',\n",
       " 'SQLITE_CREATE_TEMP_INDEX',\n",
       " 'SQLITE_CREATE_TEMP_TABLE',\n",
       " 'SQLITE_CREATE_TEMP_TRIGGER',\n",
       " 'SQLITE_CREATE_TEMP_VIEW',\n",
       " 'SQLITE_CREATE_TRIGGER',\n",
       " 'SQLITE_CREATE_VIEW',\n",
       " 'SQLITE_CREATE_VTABLE',\n",
       " 'SQLITE_DELETE',\n",
       " 'SQLITE_DENY',\n",
       " 'SQLITE_DETACH',\n",
       " 'SQLITE_DONE',\n",
       " 'SQLITE_DROP_INDEX',\n",
       " 'SQLITE_DROP_TABLE',\n",
       " 'SQLITE_DROP_TEMP_INDEX',\n",
       " 'SQLITE_DROP_TEMP_TABLE',\n",
       " 'SQLITE_DROP_TEMP_TRIGGER',\n",
       " 'SQLITE_DROP_TEMP_VIEW',\n",
       " 'SQLITE_DROP_TRIGGER',\n",
       " 'SQLITE_DROP_VIEW',\n",
       " 'SQLITE_DROP_VTABLE',\n",
       " 'SQLITE_FUNCTION',\n",
       " 'SQLITE_IGNORE',\n",
       " 'SQLITE_INSERT',\n",
       " 'SQLITE_OK',\n",
       " 'SQLITE_PRAGMA',\n",
       " 'SQLITE_READ',\n",
       " 'SQLITE_RECURSIVE',\n",
       " 'SQLITE_REINDEX',\n",
       " 'SQLITE_SAVEPOINT',\n",
       " 'SQLITE_SELECT',\n",
       " 'SQLITE_TRANSACTION',\n",
       " 'SQLITE_UPDATE',\n",
       " 'Time',\n",
       " 'TimeFromTicks',\n",
       " 'Timestamp',\n",
       " 'TimestampFromTicks',\n",
       " 'Warning',\n",
       " '__builtins__',\n",
       " '__cached__',\n",
       " '__doc__',\n",
       " '__file__',\n",
       " '__getattr__',\n",
       " '__loader__',\n",
       " '__name__',\n",
       " '__package__',\n",
       " '__path__',\n",
       " '__spec__',\n",
       " 'adapt',\n",
       " 'adapters',\n",
       " 'apilevel',\n",
       " 'collections',\n",
       " 'complete_statement',\n",
       " 'connect',\n",
       " 'converters',\n",
       " 'datetime',\n",
       " 'dbapi2',\n",
       " 'enable_callback_tracebacks',\n",
       " 'enable_shared_cache',\n",
       " 'paramstyle',\n",
       " 'register_adapter',\n",
       " 'register_converter',\n",
       " 'sqlite_version',\n",
       " 'sqlite_version_info',\n",
       " 'threadsafety',\n",
       " 'time',\n",
       " 'version',\n",
       " 'version_info']"
      ]
     },
     "execution_count": 49,
     "metadata": {},
     "output_type": "execute_result"
    }
   ],
   "source": [
    "dir(sqlite3)"
   ]
  },
  {
   "cell_type": "code",
   "execution_count": 51,
   "metadata": {},
   "outputs": [
    {
     "data": {
      "text/plain": [
       "'2.6.0'"
      ]
     },
     "execution_count": 51,
     "metadata": {},
     "output_type": "execute_result"
    }
   ],
   "source": [
    "sqlite3.version"
   ]
  },
  {
   "cell_type": "code",
   "execution_count": 52,
   "metadata": {},
   "outputs": [
    {
     "data": {
      "text/plain": [
       "'sqlite3'"
      ]
     },
     "execution_count": 52,
     "metadata": {},
     "output_type": "execute_result"
    }
   ],
   "source": [
    "sqlite3.__package__"
   ]
  },
  {
   "cell_type": "code",
   "execution_count": 53,
   "metadata": {},
   "outputs": [
    {
     "data": {
      "text/plain": [
       "''"
      ]
     },
     "execution_count": 53,
     "metadata": {},
     "output_type": "execute_result"
    }
   ],
   "source": [
    "os.__package__"
   ]
  },
  {
   "cell_type": "code",
   "execution_count": 54,
   "metadata": {},
   "outputs": [
    {
     "name": "stdout",
     "output_type": "stream",
     "text": [
      "Collecting kivy\n",
      "  Downloading Kivy-2.1.0-cp310-cp310-win_amd64.whl (4.0 MB)\n",
      "     ---------------------------------------- 4.0/4.0 MB 8.8 MB/s eta 0:00:00\n",
      "Requirement already satisfied: pygments in c:\\users\\goksal\\appdata\\roaming\\python\\python310\\site-packages (from kivy) (2.13.0)\n",
      "Collecting kivy-deps.sdl2~=0.4.5\n",
      "  Downloading kivy_deps.sdl2-0.4.5-cp310-cp310-win_amd64.whl (3.1 MB)\n",
      "     ---------------------------------------- 3.1/3.1 MB 10.8 MB/s eta 0:00:00\n",
      "Collecting kivy-deps.glew~=0.3.1\n",
      "  Downloading kivy_deps.glew-0.3.1-cp310-cp310-win_amd64.whl (123 kB)\n",
      "     -------------------------------------- 123.6/123.6 kB 3.7 MB/s eta 0:00:00\n",
      "Collecting Kivy-Garden>=0.1.4\n",
      "  Downloading Kivy_Garden-0.1.5-py3-none-any.whl (4.6 kB)\n",
      "Collecting kivy-deps.angle~=0.3.2\n",
      "  Downloading kivy_deps.angle-0.3.2-cp310-cp310-win_amd64.whl (4.8 MB)\n",
      "     ---------------------------------------- 4.8/4.8 MB 11.7 MB/s eta 0:00:00\n",
      "Collecting docutils\n",
      "  Downloading docutils-0.19-py3-none-any.whl (570 kB)\n",
      "     ------------------------------------- 570.5/570.5 kB 12.2 MB/s eta 0:00:00\n",
      "Collecting pypiwin32\n",
      "  Downloading pypiwin32-223-py3-none-any.whl (1.7 kB)\n",
      "Collecting requests\n",
      "  Downloading requests-2.28.1-py3-none-any.whl (62 kB)\n",
      "     ---------------------------------------- 62.8/62.8 kB 3.3 MB/s eta 0:00:00\n",
      "Requirement already satisfied: pywin32>=223 in c:\\users\\goksal\\appdata\\roaming\\python\\python310\\site-packages (from pypiwin32->kivy) (304)\n",
      "Collecting charset-normalizer<3,>=2\n",
      "  Downloading charset_normalizer-2.1.1-py3-none-any.whl (39 kB)\n",
      "Collecting certifi>=2017.4.17\n",
      "  Downloading certifi-2022.9.24-py3-none-any.whl (161 kB)\n",
      "     -------------------------------------- 161.1/161.1 kB 9.4 MB/s eta 0:00:00\n",
      "Collecting idna<4,>=2.5\n",
      "  Downloading idna-3.4-py3-none-any.whl (61 kB)\n",
      "     ---------------------------------------- 61.5/61.5 kB 3.2 MB/s eta 0:00:00\n",
      "Collecting urllib3<1.27,>=1.21.1\n",
      "  Downloading urllib3-1.26.12-py2.py3-none-any.whl (140 kB)\n",
      "     -------------------------------------- 140.4/140.4 kB 8.1 MB/s eta 0:00:00\n",
      "Installing collected packages: kivy-deps.sdl2, kivy-deps.glew, kivy-deps.angle, urllib3, pypiwin32, idna, docutils, charset-normalizer, certifi, requests, Kivy-Garden, kivy\n",
      "Successfully installed Kivy-Garden-0.1.5 certifi-2022.9.24 charset-normalizer-2.1.1 docutils-0.19 idna-3.4 kivy-2.1.0 kivy-deps.angle-0.3.2 kivy-deps.glew-0.3.1 kivy-deps.sdl2-0.4.5 pypiwin32-223 requests-2.28.1 urllib3-1.26.12\n"
     ]
    },
    {
     "name": "stderr",
     "output_type": "stream",
     "text": [
      "\n",
      "[notice] A new release of pip available: 22.2.2 -> 22.3\n",
      "[notice] To update, run: python.exe -m pip install --upgrade pip\n"
     ]
    }
   ],
   "source": [
    "!pip3 install kivy"
   ]
  },
  {
   "cell_type": "code",
   "execution_count": 56,
   "metadata": {},
   "outputs": [],
   "source": [
    "import kivy.core"
   ]
  },
  {
   "cell_type": "code",
   "execution_count": null,
   "metadata": {},
   "outputs": [],
   "source": [
    "## sudo pip3 install paket_adi"
   ]
  },
  {
   "cell_type": "code",
   "execution_count": null,
   "metadata": {},
   "outputs": [],
   "source": [
    "## python setup.py install"
   ]
  },
  {
   "cell_type": "code",
   "execution_count": null,
   "metadata": {},
   "outputs": [],
   "source": [
    "############# try... except comut grubu"
   ]
  },
  {
   "cell_type": "code",
   "execution_count": 57,
   "metadata": {},
   "outputs": [
    {
     "ename": "SyntaxError",
     "evalue": "Missing parentheses in call to 'print'. Did you mean print(...)? (4288841049.py, line 1)",
     "output_type": "error",
     "traceback": [
      "\u001b[1;36m  Cell \u001b[1;32mIn [57], line 1\u001b[1;36m\u001b[0m\n\u001b[1;33m    print \"Ali gel\"\u001b[0m\n\u001b[1;37m    ^\u001b[0m\n\u001b[1;31mSyntaxError\u001b[0m\u001b[1;31m:\u001b[0m Missing parentheses in call to 'print'. Did you mean print(...)?\n"
     ]
    }
   ],
   "source": [
    "print \"Ali gel\""
   ]
  },
  {
   "cell_type": "code",
   "execution_count": 58,
   "metadata": {},
   "outputs": [
    {
     "name": "stdout",
     "output_type": "stream",
     "text": [
      "1225\n"
     ]
    }
   ],
   "source": [
    "a = input (\"sayi1 :\")                     ### 1 i 12 verdik 2. yi 25 verdik. Yanyana yazdi cunku integer deger degil\n",
    "b = input (\"sayi2 :\")\n",
    "print(a+b)"
   ]
  },
  {
   "cell_type": "code",
   "execution_count": 59,
   "metadata": {},
   "outputs": [
    {
     "ename": "ZeroDivisionError",
     "evalue": "division by zero",
     "output_type": "error",
     "traceback": [
      "\u001b[1;31m---------------------------------------------------------------------------\u001b[0m",
      "\u001b[1;31mZeroDivisionError\u001b[0m                         Traceback (most recent call last)",
      "Cell \u001b[1;32mIn [59], line 3\u001b[0m\n\u001b[0;32m      1\u001b[0m a \u001b[39m=\u001b[39m \u001b[39mint\u001b[39m(\u001b[39minput\u001b[39m (\u001b[39m\"\u001b[39m\u001b[39msayi1 :\u001b[39m\u001b[39m\"\u001b[39m))\n\u001b[0;32m      2\u001b[0m b \u001b[39m=\u001b[39m \u001b[39mint\u001b[39m(\u001b[39minput\u001b[39m (\u001b[39m\"\u001b[39m\u001b[39msayi2 :\u001b[39m\u001b[39m\"\u001b[39m))\n\u001b[1;32m----> 3\u001b[0m \u001b[39mprint\u001b[39m(a\u001b[39m/\u001b[39;49mb)\n",
      "\u001b[1;31mZeroDivisionError\u001b[0m: division by zero"
     ]
    }
   ],
   "source": [
    "a = int(input (\"sayi1 :\"))              ### 1.sayi  25 2. sayi 0 verdik hata verdi.\n",
    "b = int(input (\"sayi2 :\"))\n",
    "print(a/b)"
   ]
  },
  {
   "cell_type": "code",
   "execution_count": 60,
   "metadata": {},
   "outputs": [
    {
     "ename": "ValueError",
     "evalue": "invalid literal for int() with base 10: 'HASAN'",
     "output_type": "error",
     "traceback": [
      "\u001b[1;31m---------------------------------------------------------------------------\u001b[0m",
      "\u001b[1;31mValueError\u001b[0m                                Traceback (most recent call last)",
      "Cell \u001b[1;32mIn [60], line 2\u001b[0m\n\u001b[0;32m      1\u001b[0m a \u001b[39m=\u001b[39m \u001b[39mint\u001b[39m(\u001b[39minput\u001b[39m (\u001b[39m\"\u001b[39m\u001b[39msayi1 :\u001b[39m\u001b[39m\"\u001b[39m))\n\u001b[1;32m----> 2\u001b[0m b \u001b[39m=\u001b[39m \u001b[39mint\u001b[39;49m(\u001b[39minput\u001b[39;49m (\u001b[39m\"\u001b[39;49m\u001b[39msayi2 :\u001b[39;49m\u001b[39m\"\u001b[39;49m))\n\u001b[0;32m      3\u001b[0m \u001b[39mprint\u001b[39m(a\u001b[39m/\u001b[39mb)\n",
      "\u001b[1;31mValueError\u001b[0m: invalid literal for int() with base 10: 'HASAN'"
     ]
    }
   ],
   "source": [
    "a = int(input (\"sayi1 :\"))       ##### BURADA DEGER oalrak Hasan verdik o yuzden hata verdi yani integre cevrilemiyour.\n",
    "b = int(input (\"sayi2 :\"))\n",
    "print(a/b)"
   ]
  },
  {
   "cell_type": "code",
   "execution_count": 63,
   "metadata": {},
   "outputs": [
    {
     "name": "stdout",
     "output_type": "stream",
     "text": [
      "lutfen 0 hariicnde bir deger giriniz!\n"
     ]
    }
   ],
   "source": [
    "ilk_Sayi = int (input(\"ilk Sayi :\"))\n",
    "ikinci_Sayi = int(input(\"ikinci Sayi :\"))\n",
    "try:\n",
    "    print(ilk_Sayi, \"/\", ikinci_Sayi, \"=\", ilk_Sayi / ikinci_Sayi)\n",
    "\n",
    "except ValueError:\n",
    "    print(\"lutfen sadece sayi giriniz !\")\n",
    "except ZeroDivisionError:\n",
    "    print(\"lutfen 0 hariicnde bir deger giriniz!\")"
   ]
  },
  {
   "cell_type": "code",
   "execution_count": 65,
   "metadata": {},
   "outputs": [
    {
     "name": "stdout",
     "output_type": "stream",
     "text": [
      "lutfen sadece sayi giriniz !\n"
     ]
    }
   ],
   "source": [
    "ilk_Sayi = input(\"ilk Sayi :\")\n",
    "ikinci_Sayi =input(\"ikinci Sayi :\")\n",
    "try:\n",
    "    ilk_Sayi=int(ilk_Sayi)\n",
    "    ikinci_Sayi = int(ikinci_Sayi)\n",
    "    print(ilk_Sayi, \"/\", ikinci_Sayi, \"=\", ilk_Sayi / ikinci_Sayi)\n",
    "\n",
    "except ValueError:\n",
    "    print(\"lutfen sadece sayi giriniz !\")\n",
    "except ZeroDivisionError:\n",
    "    print(\"lutfen 0 hariicnde bir deger giriniz!\")"
   ]
  },
  {
   "cell_type": "code",
   "execution_count": 66,
   "metadata": {},
   "outputs": [
    {
     "name": "stdout",
     "output_type": "stream",
     "text": [
      "lutfen 0 hariicinde sadece sayi giriniz !\n"
     ]
    }
   ],
   "source": [
    "ilk_Sayi = input(\"ilk Sayi :\")\n",
    "ikinci_Sayi =input(\"ikinci Sayi :\")\n",
    "try:\n",
    "    ilk_Sayi=int(ilk_Sayi)\n",
    "    ikinci_Sayi = int(ikinci_Sayi)\n",
    "    print(ilk_Sayi, \"/\", ikinci_Sayi, \"=\", ilk_Sayi / ikinci_Sayi)\n",
    "\n",
    "except    ( ValueError, ZeroDivisionError):\n",
    "    print(\"lutfen 0 hariicinde sadece sayi giriniz !\")\n"
   ]
  },
  {
   "cell_type": "code",
   "execution_count": 68,
   "metadata": {},
   "outputs": [
    {
     "name": "stdout",
     "output_type": "stream",
     "text": [
      "lutfen 0 hariicinde sadece sayi giriniz !\n"
     ]
    }
   ],
   "source": [
    "while True:\n",
    "    ilk_Sayi = input(\"ilk Sayi, cikmak icin q :\")\n",
    "    if ilk_Sayi == 'q':\n",
    "        break\n",
    "    ikinci_Sayi =input(\"ikinci Sayi :\")\n",
    "try:\n",
    "    ilk_Sayi=int(ilk_Sayi)\n",
    "    ikinci_Sayi = int(ikinci_Sayi)\n",
    "    print(ilk_Sayi, \"/\", ikinci_Sayi, \"=\", ilk_Sayi / ikinci_Sayi)\n",
    "\n",
    "except    ( ValueError, ZeroDivisionError):\n",
    "    print(\"lutfen 0 hariicinde sadece sayi giriniz !\")\n"
   ]
  },
  {
   "cell_type": "code",
   "execution_count": 69,
   "metadata": {},
   "outputs": [
    {
     "name": "stdout",
     "output_type": "stream",
     "text": [
      "division by zero\n",
      "lutfen 0 hariicnde bir deger giriniz!\n"
     ]
    }
   ],
   "source": [
    "ilk_Sayi = input(\"ilk Sayi :\")\n",
    "ikinci_Sayi =input(\"ikinci Sayi :\")\n",
    "try:\n",
    "    ilk_Sayi=int(ilk_Sayi)\n",
    "    ikinci_Sayi = int(ikinci_Sayi)\n",
    "    print(ilk_Sayi, \"/\", ikinci_Sayi, \"=\", ilk_Sayi / ikinci_Sayi)\n",
    "\n",
    "except ValueError as hata:\n",
    "    print(hata)\n",
    "    print(\"lutfen sadece sayi giriniz !\")\n",
    "except ZeroDivisionError as hata:\n",
    "    print(hata)\n",
    "    print(\"lutfen 0 hariicnde bir deger giriniz!\")"
   ]
  },
  {
   "cell_type": "code",
   "execution_count": 72,
   "metadata": {},
   "outputs": [
    {
     "name": "stdout",
     "output_type": "stream",
     "text": [
      "invalid literal for int() with base 10: 'j'\n",
      "lutfen sadece sayi giriniz !\n"
     ]
    }
   ],
   "source": [
    "ilk_Sayi = input(\"ilk Sayi :\")\n",
    "ikinci_Sayi =input(\"ikinci Sayi :\")\n",
    "try:\n",
    "    ilk_Sayi=int(ilk_Sayi)\n",
    "    ikinci_Sayi = int(ikinci_Sayi)\n",
    "    print(ilk_Sayi, \"/\", ikinci_Sayi, \"=\", ilk_Sayi / ikinci_Sayi)\n",
    "\n",
    "except ValueError as hata:\n",
    "    print(hata)\n",
    "    print(\"lutfen sadece sayi giriniz !\")\n",
    "else:\n",
    "    try:\n",
    "        print(ilk_Sayi/ikinci_Sayi)\n",
    "\n",
    "    except ZeroDivisionError :\n",
    "        print(\"lutfen 0 hariicnde bir deger giriniz!\")"
   ]
  },
  {
   "cell_type": "code",
   "execution_count": 75,
   "metadata": {},
   "outputs": [
    {
     "name": "stdout",
     "output_type": "stream",
     "text": [
      "['belma belma\\n', '12\\n', '25']\n"
     ]
    }
   ],
   "source": [
    "try:\n",
    "    dosya =open(\"deco1.txt\", \"r\")   ###deco1 dosyasi var klasorun icinde\n",
    "    veri = dosya. readlines()\n",
    "    print(veri)\n",
    "except IOError:\n",
    "        print(\"Hata\")\n",
    "finally:\n",
    "    dosya.close()\n"
   ]
  },
  {
   "cell_type": "code",
   "execution_count": null,
   "metadata": {},
   "outputs": [],
   "source": [
    "##### raise    mesala bir seyi gorunce hata ver diyoursunuz. Yani hatayi kendimiz tanimliyoruz."
   ]
  },
  {
   "cell_type": "code",
   "execution_count": 78,
   "metadata": {},
   "outputs": [
    {
     "ename": "Exception",
     "evalue": " Bu programda 100 giremezsiniz!",
     "output_type": "error",
     "traceback": [
      "\u001b[1;31m---------------------------------------------------------------------------\u001b[0m",
      "\u001b[1;31mException\u001b[0m                                 Traceback (most recent call last)",
      "Cell \u001b[1;32mIn [78], line 4\u001b[0m\n\u001b[0;32m      2\u001b[0m a \u001b[39m=\u001b[39m \u001b[39mint\u001b[39m(\u001b[39minput\u001b[39m(\u001b[39m\"\u001b[39m\u001b[39msayi\u001b[39m\u001b[39m\"\u001b[39m))\n\u001b[0;32m      3\u001b[0m \u001b[39mif\u001b[39;00m a \u001b[39m==\u001b[39m \u001b[39m100\u001b[39m:\n\u001b[1;32m----> 4\u001b[0m     \u001b[39mraise\u001b[39;00m \u001b[39mException\u001b[39;00m (\u001b[39m\"\u001b[39m\u001b[39m Bu programda 100 giremezsiniz!\u001b[39m\u001b[39m\"\u001b[39m)\n\u001b[0;32m      5\u001b[0m sonuc\u001b[39m=\u001b[39mb\u001b[39m/\u001b[39ma\n\u001b[0;32m      6\u001b[0m \u001b[39mprint\u001b[39m(sonuc)\n",
      "\u001b[1;31mException\u001b[0m:  Bu programda 100 giremezsiniz!"
     ]
    }
   ],
   "source": [
    "b = int(input(\"say\"))\n",
    "a = int(input(\"sayi\"))\n",
    "if a == 100:\n",
    "    raise Exception (\" Bu programda 100 giremezsiniz!\")\n",
    "sonuc=b/a\n",
    "print(sonuc)"
   ]
  },
  {
   "cell_type": "code",
   "execution_count": null,
   "metadata": {},
   "outputs": [],
   "source": [
    "##### assert"
   ]
  }
 ],
 "metadata": {
  "kernelspec": {
   "display_name": "Python 3.10.7 64-bit",
   "language": "python",
   "name": "python3"
  },
  "language_info": {
   "codemirror_mode": {
    "name": "ipython",
    "version": 3
   },
   "file_extension": ".py",
   "mimetype": "text/x-python",
   "name": "python",
   "nbconvert_exporter": "python",
   "pygments_lexer": "ipython3",
   "version": "3.10.7"
  },
  "orig_nbformat": 4,
  "vscode": {
   "interpreter": {
    "hash": "974597dd8ef7879a11ba597ac90f8b666a0a4c4068cc994294f584311e4770be"
   }
  }
 },
 "nbformat": 4,
 "nbformat_minor": 2
}
