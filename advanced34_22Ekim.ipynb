{
 "cells": [
  {
   "cell_type": "code",
   "execution_count": 2,
   "metadata": {},
   "outputs": [
    {
     "name": "stdout",
     "output_type": "stream",
     "text": [
      "[0, 2, 4, 6, 8, 10, 12, 14, 16, 18]\n"
     ]
    }
   ],
   "source": [
    "li=[]\n",
    "for cift in range (0,20):\n",
    "    if cift %2 == 0:\n",
    "        li.append(cift)\n",
    "print(li)\n"
   ]
  },
  {
   "cell_type": "code",
   "execution_count": 3,
   "metadata": {},
   "outputs": [
    {
     "data": {
      "text/plain": [
       "[0, 2, 4, 6, 8, 10, 12, 14, 16, 18]"
      ]
     },
     "execution_count": 3,
     "metadata": {},
     "output_type": "execute_result"
    }
   ],
   "source": [
    "[cift for cift in range (0,20) if cift % 2 ==0]           ### list komutuyla yaptik"
   ]
  },
  {
   "cell_type": "code",
   "execution_count": 4,
   "metadata": {},
   "outputs": [
    {
     "name": "stdout",
     "output_type": "stream",
     "text": [
      "[0, None, 2, None, 4, None, 6, None, 8, None, 10, None, 12, None, 14, None, 16, None, 18, None]\n"
     ]
    }
   ],
   "source": [
    "sayilar = range(0,20)                                                       ## map (fonk,dizi)\n",
    "cift_say = [*map(lambda x : x if x %2 ==0 else None, sayilar)]\n",
    "print(cift_say)"
   ]
  },
  {
   "cell_type": "code",
   "execution_count": 5,
   "metadata": {},
   "outputs": [
    {
     "name": "stdout",
     "output_type": "stream",
     "text": [
      "[2, 4, 6, 8, 10, 12, 14, 16, 18]\n"
     ]
    }
   ],
   "source": [
    "sayilar = range(0,20)                                                       ## filter ile yapildi\n",
    "cift_say = [*filter(lambda x : x if x %2 ==0 else None, sayilar)]\n",
    "print(cift_say)"
   ]
  },
  {
   "cell_type": "code",
   "execution_count": 6,
   "metadata": {},
   "outputs": [],
   "source": [
    "cift_say. insert(0,0)                                       ###  Burada 0 olmadigi icin sebebini bilemedik, o yuzden insert yaptik"
   ]
  },
  {
   "cell_type": "code",
   "execution_count": 7,
   "metadata": {},
   "outputs": [
    {
     "data": {
      "text/plain": [
       "[0, 2, 4, 6, 8, 10, 12, 14, 16, 18]"
      ]
     },
     "execution_count": 7,
     "metadata": {},
     "output_type": "execute_result"
    }
   ],
   "source": [
    "cift_say"
   ]
  },
  {
   "cell_type": "code",
   "execution_count": null,
   "metadata": {},
   "outputs": [],
   "source": [
    "harfler = 'abcçdefgğhıijklmnoöprsştuüvyz'\n",
    "çevrim = {i: harfler.index(i) for i in harfler}\n",
    "def sırala(kelime):\n",
    "    return ([çevrim.get(kelime[i]) for i in range(len(kelime))])\n",
    "isimler = ['ahmet', 'can', 'iskender', 'cigdem',\n",
    "           'ismet', 'ismail', 'ismit', 'çiğdem',\n",
    "           'ismıt', 'ışık', 'şule']\n",
    "print(*sorted(isimler, key=sırala), sep='\\n')\n",
    "white_check_mark\n",
    "eyes\n",
    "pray\n",
    "\n",
    "\n",
    "\n",
    "\n",
    "\n",
    "10:11\n",
    "harfler = \"abcçdefgğhıijklmnoöprsştuüvyz\"\n",
    "çevrim = {i: harfler.index(i) for i in harfler}\n",
    "isimler = ['ahmet', 'can', 'iskender', 'cigdem',\n",
    "           'ismet', 'ismail', 'ismit', 'çiğdem',\n",
    "           'ismıt', 'ışık', 'şule']\n",
    "print(*sorted(isimler, key=lambda x: çevrim.get(x[0])),sep='\\n')"
   ]
  },
  {
   "cell_type": "code",
   "execution_count": 8,
   "metadata": {},
   "outputs": [],
   "source": [
    "harfler = 'abcçdefgğhıijklmnoöprsştuüvyz'\n",
    "çevrim = {i: harfler.index(i) for i in harfler}\n",
    "def sırala(kelime):\n",
    "    return ([çevrim.get(kelime[i]) for i in range(len(kelime))])\n",
    "isimler = ['ahmet', 'can', 'iskender', 'cigdem',\n",
    "           'ismet', 'ismail', 'ismit', 'çiğdem',\n",
    "           'ismıt', 'ışık', 'şule']"
   ]
  },
  {
   "cell_type": "code",
   "execution_count": 9,
   "metadata": {},
   "outputs": [
    {
     "data": {
      "text/plain": [
       "{'a': 0,\n",
       " 'b': 1,\n",
       " 'c': 2,\n",
       " 'ç': 3,\n",
       " 'd': 4,\n",
       " 'e': 5,\n",
       " 'f': 6,\n",
       " 'g': 7,\n",
       " 'ğ': 8,\n",
       " 'h': 9,\n",
       " 'ı': 10,\n",
       " 'i': 11,\n",
       " 'j': 12,\n",
       " 'k': 13,\n",
       " 'l': 14,\n",
       " 'm': 15,\n",
       " 'n': 16,\n",
       " 'o': 17,\n",
       " 'ö': 18,\n",
       " 'p': 19,\n",
       " 'r': 20,\n",
       " 's': 21,\n",
       " 'ş': 22,\n",
       " 't': 23,\n",
       " 'u': 24,\n",
       " 'ü': 25,\n",
       " 'v': 26,\n",
       " 'y': 27,\n",
       " 'z': 28}"
      ]
     },
     "execution_count": 9,
     "metadata": {},
     "output_type": "execute_result"
    }
   ],
   "source": [
    "çevrim "
   ]
  },
  {
   "cell_type": "code",
   "execution_count": 10,
   "metadata": {},
   "outputs": [
    {
     "name": "stdout",
     "output_type": "stream",
     "text": [
      "ahmet\n",
      "can\n",
      "cigdem\n",
      "çiğdem\n",
      "ışık\n",
      "iskender\n",
      "ismail\n",
      "ismet\n",
      "ismıt\n",
      "ismit\n",
      "şule\n"
     ]
    }
   ],
   "source": [
    "harfler = 'abcçdefgğhıijklmnoöprsştuüvyz'\n",
    "çevrim = {i: harfler.index(i) for i in harfler}\n",
    "def sırala(kelime):\n",
    "    return ([çevrim.get(kelime[i]) for i in range(len(kelime))])\n",
    "isimler = ['ahmet', 'can', 'iskender', 'cigdem',\n",
    "           'ismet', 'ismail', 'ismit', 'çiğdem',\n",
    "           'ismıt', 'ışık', 'şule']\n",
    "print(*sorted(isimler, key=sırala), sep='\\n')          "
   ]
  },
  {
   "cell_type": "code",
   "execution_count": null,
   "metadata": {},
   "outputs": [],
   "source": [
    "harfler = 'abcçdefgğhıijklmnoöprsştuüvyz'\n",
    "çevrim = {i: harfler.index(i) for i in harfler}\n",
    "def sırala(kelime):\n",
    "    return ([çevrim.get(kelime[i]) for i in range(len(kelime))])\n",
    "isimler = ['ahmet', 'can', 'iskender', 'cigdem',\n",
    "           'ismet', 'ismail', 'ismit', 'çiğdem',\n",
    "           'ismıt', 'ışık', 'şule']\n",
    "print(*sorted(isimler, key=sırala), sep='\\n')        "
   ]
  },
  {
   "cell_type": "code",
   "execution_count": 11,
   "metadata": {},
   "outputs": [
    {
     "data": {
      "text/plain": [
       "[0, 9, 15, 5, 23]"
      ]
     },
     "execution_count": 11,
     "metadata": {},
     "output_type": "execute_result"
    }
   ],
   "source": [
    "sırala(\"ahmet\")"
   ]
  },
  {
   "cell_type": "code",
   "execution_count": 12,
   "metadata": {},
   "outputs": [
    {
     "name": "stdout",
     "output_type": "stream",
     "text": [
      "ahmet\n",
      "can\n",
      "cigdem\n",
      "çiğdem\n",
      "ışık\n",
      "iskender\n",
      "ismet\n",
      "ismail\n",
      "ismit\n",
      "ismıt\n",
      "şule\n"
     ]
    }
   ],
   "source": [
    "harfler = \"abcçdefgğhıijklmnoöprsştuüvyz\"              ### Turkce karakterleri en sona attiyor  o yuzden once harg=fleri tanimladik\n",
    "çevrim = {i: harfler.index(i) for i in harfler}\n",
    "isimler = ['ahmet', 'can', 'iskender', 'cigdem',\n",
    "           'ismet', 'ismail', 'ismit', 'çiğdem',\n",
    "           'ismıt', 'ışık', 'şule']\n",
    "print(*sorted(isimler, key=lambda x: çevrim.get(x[0])),sep='\\n')"
   ]
  },
  {
   "cell_type": "code",
   "execution_count": null,
   "metadata": {},
   "outputs": [],
   "source": [
    "#####   recursive   ozyinelemeli fonksiyonlar  yani tekrar terkra ayni seyleri yapanlar icin kullanilir"
   ]
  },
  {
   "cell_type": "code",
   "execution_count": 16,
   "metadata": {},
   "outputs": [
    {
     "name": "stdout",
     "output_type": "stream",
     "text": [
      "377\n",
      "[0, 1, 1, 2, 3, 5, 8, 13, 21, 34, 55, 89, 144, 233, 377, 610, 987, 1597, 2584, 4181]\n"
     ]
    }
   ],
   "source": [
    "def  fibonacci_of(n) :\n",
    "    if n in {0,1} :\n",
    "        return n\n",
    "    return fibonacci_of (n-1) + fibonacci_of (n-2)\n",
    "\n",
    "print(fibonacci_of(14))\n",
    "print([fibonacci_of (n) for n in range(20)])"
   ]
  },
  {
   "cell_type": "code",
   "execution_count": 18,
   "metadata": {},
   "outputs": [
    {
     "name": "stdout",
     "output_type": "stream",
     "text": [
      "Selahattin\n",
      "Selahatti\n",
      "Selahatt\n",
      "Selahat\n",
      "Selaha\n",
      "Selah\n",
      "Sela\n",
      "Sel\n",
      "Se\n",
      "S\n"
     ]
    }
   ],
   "source": [
    "def fazalt(s):\n",
    "    print(s)\n",
    "    for i in range (1,len (s)) :\n",
    "        print(s[:-i])\n",
    "\n",
    "fazalt('Selahattin')"
   ]
  },
  {
   "cell_type": "code",
   "execution_count": 19,
   "metadata": {},
   "outputs": [
    {
     "name": "stdout",
     "output_type": "stream",
     "text": [
      "selahattin\n",
      "selahatti\n",
      "selahatt\n",
      "selahat\n",
      "selaha\n",
      "selah\n",
      "sela\n",
      "sel\n",
      "se\n",
      "s\n",
      "\n"
     ]
    }
   ],
   "source": [
    "def azalt(s):\n",
    "    if len(s)<1:                                                       ##return azalt(s[:-1])\n",
    "        return s\n",
    "    else:\n",
    "        print(s)\n",
    "        return azalt(s[:-1])\n",
    "print(azalt('selahattin'))"
   ]
  },
  {
   "cell_type": "code",
   "execution_count": 24,
   "metadata": {},
   "outputs": [
    {
     "name": "stdout",
     "output_type": "stream",
     "text": [
      "recursive giris Selahattin\n",
      "recursive giris elahattin\n",
      "recursive giris lahattin\n",
      "recursive giris ahattin\n",
      "recursive giris hattin\n",
      "recursive giris attin\n",
      "recursive giris ttin\n",
      "recursive giris tin\n",
      "recursive giris in\n",
      "recursive giris n\n",
      "recursive cikis n\n",
      "recursive cikis in\n",
      "recursive cikis tin\n",
      "recursive cikis ttin\n",
      "recursive cikis attin\n",
      "recursive cikis hattin\n",
      "recursive cikis ahattin\n",
      "recursive cikis lahattin\n",
      "recursive cikis elahattin\n",
      "recursive cikis Selahattin\n",
      "None\n"
     ]
    }
   ],
   "source": [
    "def azalt(s):\n",
    "    if len(s)<1:                                                       ##return azalt(s[:-1])\n",
    "        return s\n",
    "    else:\n",
    "        print('recursive giris', s)\n",
    "        azalt(s[1:])\n",
    "\n",
    "        print('recursive cikis', s)\n",
    "print(azalt('Selahattin'))"
   ]
  },
  {
   "cell_type": "code",
   "execution_count": 26,
   "metadata": {},
   "outputs": [
    {
     "name": "stdout",
     "output_type": "stream",
     "text": [
      "D\tu\tr\ts\tu\tn\t"
     ]
    }
   ],
   "source": [
    "def ters_cevir(s):\n",
    "    if len(s) <1:\n",
    "        return s\n",
    "    else:\n",
    "       print(s[0],end='\\t')\n",
    "       ters_cevir(s[1:])\n",
    "        \n",
    "ters_cevir ('Dursun')"
   ]
  },
  {
   "cell_type": "code",
   "execution_count": 25,
   "metadata": {},
   "outputs": [
    {
     "name": "stdout",
     "output_type": "stream",
     "text": [
      "n\tu\ts\tr\tu\tD\t"
     ]
    }
   ],
   "source": [
    "def ters_cevir(s):\n",
    "    if len(s) <1:\n",
    "        return s\n",
    "    else:\n",
    "       \n",
    "        ters_cevir(s[1:])\n",
    "        print(s[0],end='\\t')\n",
    "ters_cevir ('Dursun')"
   ]
  },
  {
   "cell_type": "code",
   "execution_count": 31,
   "metadata": {},
   "outputs": [],
   "source": [
    "def factor(x) :\n",
    "    if x== 1 or x==0:\n",
    "        return 1\n",
    "    else:\n",
    "        return (x*factor(x-1))\n"
   ]
  },
  {
   "cell_type": "code",
   "execution_count": 35,
   "metadata": {},
   "outputs": [
    {
     "data": {
      "text/plain": [
       "120"
      ]
     },
     "execution_count": 35,
     "metadata": {},
     "output_type": "execute_result"
    }
   ],
   "source": [
    "factor (5)"
   ]
  },
  {
   "cell_type": "code",
   "execution_count": 36,
   "metadata": {},
   "outputs": [],
   "source": [
    "def factor1 (x):\n",
    "    f=1\n",
    "    for i in range(2,x+1):\n",
    "        f=f*i\n",
    "    return f"
   ]
  },
  {
   "cell_type": "code",
   "execution_count": 37,
   "metadata": {},
   "outputs": [
    {
     "data": {
      "text/plain": [
       "120"
      ]
     },
     "execution_count": 37,
     "metadata": {},
     "output_type": "execute_result"
    }
   ],
   "source": [
    "factor1(5)"
   ]
  },
  {
   "cell_type": "code",
   "execution_count": 39,
   "metadata": {},
   "outputs": [],
   "source": [
    "import time "
   ]
  },
  {
   "cell_type": "code",
   "execution_count": 40,
   "metadata": {},
   "outputs": [
    {
     "data": {
      "text/plain": [
       "1666580482.7573268"
      ]
     },
     "execution_count": 40,
     "metadata": {},
     "output_type": "execute_result"
    }
   ],
   "source": [
    "basl=time.time()\n",
    "basl"
   ]
  },
  {
   "cell_type": "code",
   "execution_count": 44,
   "metadata": {},
   "outputs": [
    {
     "name": "stdout",
     "output_type": "stream",
     "text": [
      "Baslangic zamani  : 1666580809.0874047\n",
      "Bitis zamani  : 1666580812.7731252\n",
      "Fark : 3.685720443725586\n"
     ]
    },
    {
     "data": {
      "text/plain": [
       "<function __main__.factor1(x)>"
      ]
     },
     "execution_count": 44,
     "metadata": {},
     "output_type": "execute_result"
    }
   ],
   "source": [
    "basl=time.time()\n",
    "print(\"Baslangic zamani  : {}\" .format (basl))\n",
    "factor1(100000)\n",
    "bitis=time.time()\n",
    "print(\"Bitis zamani  : {}\" .format (bitis))\n",
    "print(\"Fark :\", bitis-basl)\n",
    "factor1"
   ]
  },
  {
   "cell_type": "code",
   "execution_count": 45,
   "metadata": {},
   "outputs": [],
   "source": [
    "import math"
   ]
  },
  {
   "cell_type": "code",
   "execution_count": 47,
   "metadata": {},
   "outputs": [
    {
     "name": "stdout",
     "output_type": "stream",
     "text": [
      "Baslangic zamani  : 1666581099.791556\n",
      "Bitis zamani  : 1666581111.081985\n",
      "Fark : 11.29042911529541\n"
     ]
    }
   ],
   "source": [
    "basl=time.time()\n",
    "print(\"Baslangic zamani  : {}\" .format (basl))\n",
    "math.factorial(1000000)\n",
    "bitis=time.time()\n",
    "print(\"Bitis zamani  : {}\" .format (bitis))\n",
    "print(\"Fark :\", bitis-basl)"
   ]
  },
  {
   "cell_type": "code",
   "execution_count": 48,
   "metadata": {},
   "outputs": [
    {
     "name": "stdout",
     "output_type": "stream",
     "text": [
      "List time test :  10.24541950004641\n",
      "List time test :  2.4545388999395072\n"
     ]
    }
   ],
   "source": [
    "import timeit\n",
    "print(\"List time test : \",timeit.timeit(stmt=\"numbers=[1,2,3,4,5,6,7,8,9,10,11,12,13,14,15]\",number=100000000))\n",
    "print(\"List time test : \",timeit.timeit(stmt=\"numbers=(1,2,3,4,5,6,7,8,9,10,11,12,13,14,15)\",number=100000000))\n",
    "#10000000 kez çalıştırıyor. Default değeri 1 milyyondr. Tuple ile list hız farkı\n"
   ]
  },
  {
   "cell_type": "code",
   "execution_count": 49,
   "metadata": {},
   "outputs": [
    {
     "data": {
      "text/plain": [
       "3000"
      ]
     },
     "execution_count": 49,
     "metadata": {},
     "output_type": "execute_result"
    }
   ],
   "source": [
    "import sys\n",
    "sys.getrecursionlimit()"
   ]
  },
  {
   "cell_type": "code",
   "execution_count": null,
   "metadata": {},
   "outputs": [],
   "source": [
    "###  ic ice (nested) fonksiyolar"
   ]
  },
  {
   "cell_type": "code",
   "execution_count": null,
   "metadata": {},
   "outputs": [],
   "source": [
    "def fonk1():                        #### kapsayici veya dis fonksiyon (enclsoing)\n",
    "    def fonk2():                    ### ic(nested)\n",
    "        pass"
   ]
  },
  {
   "cell_type": "code",
   "execution_count": 52,
   "metadata": {},
   "outputs": [
    {
     "name": "stdout",
     "output_type": "stream",
     "text": [
      "25\n",
      "50\n",
      "aaa\n"
     ]
    }
   ],
   "source": [
    "def dis():\n",
    "    b = 25\n",
    "    def ic():\n",
    "        c = 50\n",
    "        print (c)\n",
    "        print(\"aaa\")\n",
    "    print(b)\n",
    "    ic()\n",
    "\n",
    "dis()"
   ]
  },
  {
   "cell_type": "code",
   "execution_count": 58,
   "metadata": {},
   "outputs": [],
   "source": [
    "def dis_fonk():\n",
    "    a=20\n",
    "    def ic_fonk():\n",
    "        a=30\n",
    "        print(\"a :\",a)\n",
    "    ic_fonk()\n",
    "    print(\"a :\",a)\n",
    "    "
   ]
  },
  {
   "cell_type": "code",
   "execution_count": 59,
   "metadata": {},
   "outputs": [
    {
     "name": "stdout",
     "output_type": "stream",
     "text": [
      "a : 30\n",
      "a : 20\n",
      "a : 10\n"
     ]
    }
   ],
   "source": [
    "\n",
    "a=10\n",
    "dis_fonk()\n",
    "print (\"a :\",a)"
   ]
  },
  {
   "cell_type": "code",
   "execution_count": 60,
   "metadata": {},
   "outputs": [],
   "source": [
    "def yazici():\n",
    "    def yaz(mesaj):\n",
    "        print(\"ic\")\n",
    "        print(mesaj)\n",
    "    return yaz\n"
   ]
  },
  {
   "cell_type": "code",
   "execution_count": 61,
   "metadata": {},
   "outputs": [
    {
     "data": {
      "text/plain": [
       "<function __main__.yazici.<locals>.yaz(mesaj)>"
      ]
     },
     "execution_count": 61,
     "metadata": {},
     "output_type": "execute_result"
    }
   ],
   "source": [
    "yazici()"
   ]
  },
  {
   "cell_type": "code",
   "execution_count": 62,
   "metadata": {},
   "outputs": [],
   "source": [
    "y =yazici()"
   ]
  },
  {
   "cell_type": "code",
   "execution_count": 63,
   "metadata": {},
   "outputs": [
    {
     "name": "stdout",
     "output_type": "stream",
     "text": [
      "ic\n",
      "Ali\n"
     ]
    }
   ],
   "source": [
    "y(\"Ali\")"
   ]
  },
  {
   "cell_type": "code",
   "execution_count": null,
   "metadata": {},
   "outputs": [],
   "source": [
    "####  nonlocal  ###  degimi"
   ]
  },
  {
   "cell_type": "code",
   "execution_count": 67,
   "metadata": {},
   "outputs": [],
   "source": [
    "def kap_fonk():\n",
    "    non_local_degisken = 5\n",
    "\n",
    "    def ic_fonk():\n",
    "        non_local_degisken = 2\n",
    "        print(non_local_degisken)\n",
    "    return ic_fonk"
   ]
  },
  {
   "cell_type": "code",
   "execution_count": 68,
   "metadata": {},
   "outputs": [
    {
     "name": "stdout",
     "output_type": "stream",
     "text": [
      "2\n"
     ]
    }
   ],
   "source": [
    "z = kap_fonk()\n",
    "z()"
   ]
  },
  {
   "cell_type": "code",
   "execution_count": 69,
   "metadata": {},
   "outputs": [],
   "source": [
    "def kap_fonk():\n",
    "    non_local_degisken = 5\n",
    "\n",
    "    def ic_fonk():\n",
    "        non_local_degisken +=1\n",
    "        print(non_local_degisken)\n",
    "    return ic_fonk"
   ]
  },
  {
   "cell_type": "code",
   "execution_count": 70,
   "metadata": {},
   "outputs": [
    {
     "ename": "UnboundLocalError",
     "evalue": "local variable 'non_local_degisken' referenced before assignment",
     "output_type": "error",
     "traceback": [
      "\u001b[1;31m---------------------------------------------------------------------------\u001b[0m",
      "\u001b[1;31mUnboundLocalError\u001b[0m                         Traceback (most recent call last)",
      "Cell \u001b[1;32mIn [70], line 2\u001b[0m\n\u001b[0;32m      1\u001b[0m z\u001b[39m=\u001b[39mkap_fonk()\n\u001b[1;32m----> 2\u001b[0m z()\n",
      "Cell \u001b[1;32mIn [69], line 5\u001b[0m, in \u001b[0;36mkap_fonk.<locals>.ic_fonk\u001b[1;34m()\u001b[0m\n\u001b[0;32m      4\u001b[0m \u001b[39mdef\u001b[39;00m \u001b[39mic_fonk\u001b[39m():\n\u001b[1;32m----> 5\u001b[0m     non_local_degisken \u001b[39m+\u001b[39m\u001b[39m=\u001b[39m\u001b[39m1\u001b[39m\n\u001b[0;32m      6\u001b[0m     \u001b[39mprint\u001b[39m(non_local_degisken)\n",
      "\u001b[1;31mUnboundLocalError\u001b[0m: local variable 'non_local_degisken' referenced before assignment"
     ]
    }
   ],
   "source": [
    "z=kap_fonk()                                ### kabul etmedi non local eklememiz gerek\n",
    "z()"
   ]
  },
  {
   "cell_type": "code",
   "execution_count": 71,
   "metadata": {},
   "outputs": [],
   "source": [
    "def kap_fonk():\n",
    "    non_local_degisken = 5\n",
    "\n",
    "    def ic_fonk():\n",
    "        nonlocal non_local_degisken\n",
    "        non_local_degisken +=1\n",
    "        print(non_local_degisken)\n",
    "    return ic_fonk"
   ]
  },
  {
   "cell_type": "code",
   "execution_count": 72,
   "metadata": {},
   "outputs": [
    {
     "name": "stdout",
     "output_type": "stream",
     "text": [
      "6\n"
     ]
    }
   ],
   "source": [
    "z =kap_fonk()\n",
    "z()"
   ]
  },
  {
   "cell_type": "code",
   "execution_count": 73,
   "metadata": {},
   "outputs": [],
   "source": [
    "def islem (sayi,bolen,*eklenenler):\n",
    "    sonuc = sayi/bolen\n",
    "    for i in eklenenler:\n",
    "        sonuc += i\n",
    "    return sonuc"
   ]
  },
  {
   "cell_type": "code",
   "execution_count": 74,
   "metadata": {},
   "outputs": [
    {
     "data": {
      "text/plain": [
       "62.0"
      ]
     },
     "execution_count": 74,
     "metadata": {},
     "output_type": "execute_result"
    }
   ],
   "source": [
    "islem(10,2,7,8,9,10,11,12)"
   ]
  },
  {
   "cell_type": "code",
   "execution_count": 92,
   "metadata": {},
   "outputs": [],
   "source": [
    "def islem (*eklenenler):\n",
    "    ekle = 0\n",
    "\n",
    "    for i in eklenenler:\n",
    "        ekle += i\n",
    "    def bolme(sayi,bolen):\n",
    "        return sayi/bolen + ekle\n",
    "    return bolme\n"
   ]
  },
  {
   "cell_type": "code",
   "execution_count": 91,
   "metadata": {},
   "outputs": [],
   "source": [
    "islem1=islem(7,8,9,10,11,12)                  ### ???? sonuc cikmadi bende\n",
    "islem1=(10,2)"
   ]
  },
  {
   "cell_type": "code",
   "execution_count": 106,
   "metadata": {},
   "outputs": [],
   "source": [
    "def file_chr_n(dosya,karakter):\n",
    "    sonuc = 0\n",
    "\n",
    "    if type(dosya) ==str:\n",
    "        with open(dosya, \"r\") as f :\n",
    "            veri = f.read()\n",
    "            for i in veri:\n",
    "                if i == karakter:\n",
    "                    sonuc +=1\n",
    "    else:\n",
    "        veri = dosya.read()\n",
    "        for i in veri:\n",
    "                if i == karakter:\n",
    "                    sonuc +=1\n",
    "    return sonuc\n",
    "   "
   ]
  },
  {
   "cell_type": "code",
   "execution_count": 105,
   "metadata": {},
   "outputs": [
    {
     "data": {
      "text/plain": [
       "0"
      ]
     },
     "execution_count": 105,
     "metadata": {},
     "output_type": "execute_result"
    }
   ],
   "source": [
    "file_chr_n(\"deco1.txt\",'b')                       ####         ???? bende cikmadi"
   ]
  },
  {
   "cell_type": "code",
   "execution_count": 107,
   "metadata": {},
   "outputs": [
    {
     "data": {
      "text/plain": [
       "2"
      ]
     },
     "execution_count": 107,
     "metadata": {},
     "output_type": "execute_result"
    }
   ],
   "source": [
    "\"Merhaba\".count(\"a\")                          ###  kelimenin icinde 2 tane a var"
   ]
  },
  {
   "cell_type": "code",
   "execution_count": 114,
   "metadata": {},
   "outputs": [],
   "source": [
    "def file1_chr_n(dosya, karakter):\n",
    "    def chr_n(karakter_dizisi,karakter):\n",
    "        sayac = 0\n",
    "        for i in karakter_dizisi :\n",
    "            if i == karakter:\n",
    "                sayac += 1\n",
    "        return sayac\n",
    "\n",
    "        if type(dosya) ==str:\n",
    "            with open(dosya, \"r\") as f :\n",
    "                return chr_n(f.read())\n",
    "        else:\n",
    "            return chr_n(f.read())\n",
    "\n"
   ]
  },
  {
   "cell_type": "code",
   "execution_count": 115,
   "metadata": {},
   "outputs": [
    {
     "data": {
      "text/plain": [
       "0"
      ]
     },
     "execution_count": 115,
     "metadata": {},
     "output_type": "execute_result"
    }
   ],
   "source": [
    "file_chr_n(\"deco1.txt\", \"0\")"
   ]
  },
  {
   "cell_type": "code",
   "execution_count": null,
   "metadata": {},
   "outputs": [],
   "source": [
    "#### Uretecler (Generators)"
   ]
  },
  {
   "cell_type": "code",
   "execution_count": null,
   "metadata": {},
   "outputs": [],
   "source": [
    "### yield"
   ]
  },
  {
   "cell_type": "code",
   "execution_count": 116,
   "metadata": {},
   "outputs": [
    {
     "data": {
      "text/plain": [
       "[0, 1, 2, 3, 4, 5, 6, 7, 8, 9]"
      ]
     },
     "execution_count": 116,
     "metadata": {},
     "output_type": "execute_result"
    }
   ],
   "source": [
    "listem = [i for i in range (10)]\n",
    "listem"
   ]
  },
  {
   "cell_type": "code",
   "execution_count": 117,
   "metadata": {},
   "outputs": [],
   "source": [
    "def generator():\n",
    "    yield \"Python\"\n",
    "    yield \"Fortran\""
   ]
  },
  {
   "cell_type": "code",
   "execution_count": 118,
   "metadata": {},
   "outputs": [
    {
     "name": "stdout",
     "output_type": "stream",
     "text": [
      "<generator object generator at 0x000001CD660723B0>\n"
     ]
    }
   ],
   "source": [
    "print(generator())"
   ]
  },
  {
   "cell_type": "code",
   "execution_count": 120,
   "metadata": {},
   "outputs": [],
   "source": [
    "g = generator ()\n"
   ]
  },
  {
   "cell_type": "code",
   "execution_count": 121,
   "metadata": {},
   "outputs": [
    {
     "data": {
      "text/plain": [
       "'Python'"
      ]
     },
     "execution_count": 121,
     "metadata": {},
     "output_type": "execute_result"
    }
   ],
   "source": [
    "next(g)"
   ]
  },
  {
   "cell_type": "code",
   "execution_count": 122,
   "metadata": {},
   "outputs": [
    {
     "data": {
      "text/plain": [
       "'Fortran'"
      ]
     },
     "execution_count": 122,
     "metadata": {},
     "output_type": "execute_result"
    }
   ],
   "source": [
    "next(g)"
   ]
  },
  {
   "cell_type": "code",
   "execution_count": 123,
   "metadata": {},
   "outputs": [
    {
     "ename": "StopIteration",
     "evalue": "",
     "output_type": "error",
     "traceback": [
      "\u001b[1;31m---------------------------------------------------------------------------\u001b[0m",
      "\u001b[1;31mStopIteration\u001b[0m                             Traceback (most recent call last)",
      "Cell \u001b[1;32mIn [123], line 1\u001b[0m\n\u001b[1;32m----> 1\u001b[0m \u001b[39mnext\u001b[39;49m(g)\n",
      "\u001b[1;31mStopIteration\u001b[0m: "
     ]
    }
   ],
   "source": [
    "next(g)           #### 3. de calismadi elemanlar bitti."
   ]
  },
  {
   "cell_type": "code",
   "execution_count": 127,
   "metadata": {},
   "outputs": [],
   "source": [
    "def gener ():\n",
    "    print(\"ilk next kullanildi.\")\n",
    "    yield \"1. yield\"\n",
    "    print(\"ikinci defa next kullanildi.\")\n",
    "    yield \"2. yield\"\n",
    "    print(\"Ucuncu bitti.\")"
   ]
  },
  {
   "cell_type": "code",
   "execution_count": 129,
   "metadata": {},
   "outputs": [],
   "source": [
    "f = gener()"
   ]
  },
  {
   "cell_type": "code",
   "execution_count": 130,
   "metadata": {},
   "outputs": [
    {
     "name": "stdout",
     "output_type": "stream",
     "text": [
      "ilk next kullanildi.\n"
     ]
    },
    {
     "data": {
      "text/plain": [
       "'1. yield'"
      ]
     },
     "execution_count": 130,
     "metadata": {},
     "output_type": "execute_result"
    }
   ],
   "source": [
    "next (f)"
   ]
  },
  {
   "cell_type": "code",
   "execution_count": 131,
   "metadata": {},
   "outputs": [
    {
     "name": "stdout",
     "output_type": "stream",
     "text": [
      "ikinci defa next kullanildi.\n"
     ]
    },
    {
     "data": {
      "text/plain": [
       "'2. yield'"
      ]
     },
     "execution_count": 131,
     "metadata": {},
     "output_type": "execute_result"
    }
   ],
   "source": [
    "next (f)"
   ]
  },
  {
   "cell_type": "code",
   "execution_count": 132,
   "metadata": {},
   "outputs": [
    {
     "name": "stdout",
     "output_type": "stream",
     "text": [
      "Ucuncu bitti.\n"
     ]
    },
    {
     "ename": "StopIteration",
     "evalue": "",
     "output_type": "error",
     "traceback": [
      "\u001b[1;31m---------------------------------------------------------------------------\u001b[0m",
      "\u001b[1;31mStopIteration\u001b[0m                             Traceback (most recent call last)",
      "Cell \u001b[1;32mIn [132], line 1\u001b[0m\n\u001b[1;32m----> 1\u001b[0m \u001b[39mnext\u001b[39;49m (f)\n",
      "\u001b[1;31mStopIteration\u001b[0m: "
     ]
    }
   ],
   "source": [
    "next (f)                                #### 3.yu calistirmadi"
   ]
  },
  {
   "cell_type": "code",
   "execution_count": 133,
   "metadata": {},
   "outputs": [
    {
     "data": {
      "text/plain": [
       "[0, 1, 1, 1, 1, 1, 1, 1, 1, 1, 1]"
      ]
     },
     "execution_count": 133,
     "metadata": {},
     "output_type": "execute_result"
    }
   ],
   "source": [
    "l=[0,1]                                     ## 0,1,1\n",
    "n1=0\n",
    "n2=1\n",
    "for i in range(1,10):\n",
    "    nf = n1 +n2\n",
    "    l.append(nf)\n",
    "    n1, n2=n2,n1\n",
    "l"
   ]
  },
  {
   "cell_type": "code",
   "execution_count": 137,
   "metadata": {},
   "outputs": [
    {
     "name": "stdout",
     "output_type": "stream",
     "text": [
      "1\n",
      "2\n",
      "3\n",
      "5\n",
      "8\n",
      "13\n",
      "21\n",
      "34\n",
      "55\n",
      "89\n",
      "144\n"
     ]
    }
   ],
   "source": [
    "def fibonac():\n",
    "    x=1\n",
    "    y=0\n",
    "    z=0\n",
    "    while True:\n",
    "        z=y\n",
    "        y=x\n",
    "        x=y+z\n",
    "        yield x\n",
    "        if x>100:\n",
    "            return\n",
    "for i in fibonac ():\n",
    "    print(i)\n"
   ]
  },
  {
   "cell_type": "code",
   "execution_count": 140,
   "metadata": {},
   "outputs": [],
   "source": [
    "x=fibonac()"
   ]
  },
  {
   "cell_type": "code",
   "execution_count": 141,
   "metadata": {},
   "outputs": [
    {
     "data": {
      "text/plain": [
       "1"
      ]
     },
     "execution_count": 141,
     "metadata": {},
     "output_type": "execute_result"
    }
   ],
   "source": [
    "next(x)"
   ]
  },
  {
   "cell_type": "code",
   "execution_count": 152,
   "metadata": {},
   "outputs": [
    {
     "ename": "StopIteration",
     "evalue": "",
     "output_type": "error",
     "traceback": [
      "\u001b[1;31m---------------------------------------------------------------------------\u001b[0m",
      "\u001b[1;31mStopIteration\u001b[0m                             Traceback (most recent call last)",
      "Cell \u001b[1;32mIn [152], line 1\u001b[0m\n\u001b[1;32m----> 1\u001b[0m \u001b[39mnext\u001b[39;49m(x)\n",
      "\u001b[1;31mStopIteration\u001b[0m: "
     ]
    }
   ],
   "source": [
    "next(x)             #### sonuna kadar calistirdi ama elemanlar bitince hata verdil"
   ]
  },
  {
   "cell_type": "code",
   "execution_count": 153,
   "metadata": {},
   "outputs": [
    {
     "name": "stdout",
     "output_type": "stream",
     "text": [
      "1 2 3 5 8 13 21 34 55 89 144\n"
     ]
    }
   ],
   "source": [
    "print(*fibonac())"
   ]
  },
  {
   "cell_type": "code",
   "execution_count": 154,
   "metadata": {},
   "outputs": [],
   "source": [
    "def fon_count():\n",
    "    num=0\n",
    "    def say():\n",
    "        nonlocal num \n",
    "        num +=1\n",
    "        return num\n",
    "    return num\n",
    "\n",
    "def gen_count():\n",
    "    num=0\n",
    "    while True:\n",
    "        num += 1\n",
    "        yield num"
   ]
  },
  {
   "cell_type": "code",
   "execution_count": 158,
   "metadata": {},
   "outputs": [
    {
     "name": "stdout",
     "output_type": "stream",
     "text": [
      "<class 'function'>\n",
      "<class 'generator'>\n"
     ]
    }
   ],
   "source": [
    "print(type(fon_count))\n",
    "a=gen_count()\n",
    "print(type(a))"
   ]
  },
  {
   "cell_type": "code",
   "execution_count": 159,
   "metadata": {},
   "outputs": [
    {
     "name": "stdout",
     "output_type": "stream",
     "text": [
      "1\n"
     ]
    }
   ],
   "source": [
    "print(next(a))"
   ]
  },
  {
   "cell_type": "code",
   "execution_count": 160,
   "metadata": {},
   "outputs": [
    {
     "ename": "TypeError",
     "evalue": "'int' object is not callable",
     "output_type": "error",
     "traceback": [
      "\u001b[1;31m---------------------------------------------------------------------------\u001b[0m",
      "\u001b[1;31mTypeError\u001b[0m                                 Traceback (most recent call last)",
      "Cell \u001b[1;32mIn [160], line 2\u001b[0m\n\u001b[0;32m      1\u001b[0m y \u001b[39m=\u001b[39m fon_count()\n\u001b[1;32m----> 2\u001b[0m f1\u001b[39m=\u001b[39my()\n\u001b[0;32m      3\u001b[0m f1\n",
      "\u001b[1;31mTypeError\u001b[0m: 'int' object is not callable"
     ]
    }
   ],
   "source": [
    "y = fon_count()    # ### gelecek derste buradan devam edecek bir hata olustu hoca bakacak\n",
    "f1=y()\n",
    "f1"
   ]
  }
 ],
 "metadata": {
  "kernelspec": {
   "display_name": "Python 3.10.7 64-bit",
   "language": "python",
   "name": "python3"
  },
  "language_info": {
   "codemirror_mode": {
    "name": "ipython",
    "version": 3
   },
   "file_extension": ".py",
   "mimetype": "text/x-python",
   "name": "python",
   "nbconvert_exporter": "python",
   "pygments_lexer": "ipython3",
   "version": "3.10.7"
  },
  "orig_nbformat": 4,
  "vscode": {
   "interpreter": {
    "hash": "974597dd8ef7879a11ba597ac90f8b666a0a4c4068cc994294f584311e4770be"
   }
  }
 },
 "nbformat": 4,
 "nbformat_minor": 2
}
