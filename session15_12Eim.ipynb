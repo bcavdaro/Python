{
 "cells": [
  {
   "cell_type": "markdown",
   "metadata": {},
   "source": [
    "max fonksiyonunu kullanmadan listenin en buyuk elemanini dondurun\n",
    "liste = [12, 17, 25, 48, 23, 14, 16]"
   ]
  },
  {
   "cell_type": "code",
   "execution_count": 1,
   "metadata": {},
   "outputs": [],
   "source": [
    "liste = [12, 17, 25, 48, 23, 14, 16]"
   ]
  },
  {
   "cell_type": "code",
   "execution_count": 2,
   "metadata": {},
   "outputs": [
    {
     "data": {
      "text/plain": [
       "48"
      ]
     },
     "execution_count": 2,
     "metadata": {},
     "output_type": "execute_result"
    }
   ],
   "source": [
    "max(liste)    #### eger max fonksiyonunu kullanirsak"
   ]
  },
  {
   "cell_type": "code",
   "execution_count": 4,
   "metadata": {},
   "outputs": [
    {
     "name": "stdout",
     "output_type": "stream",
     "text": [
      "48\n"
     ]
    }
   ],
   "source": [
    "liste = [12, 17, 25, 48, 23, 14, 16]\n",
    "index = 0\n",
    "max_eleman = 0 \n",
    "while index < len(liste):\n",
    "    if liste[index] > max_eleman:\n",
    "        max_eleman = liste[index]\n",
    "    index += 1\n",
    "\n",
    "print (max_eleman)    "
   ]
  },
  {
   "cell_type": "code",
   "execution_count": 7,
   "metadata": {},
   "outputs": [
    {
     "data": {
      "text/plain": [
       "[0, 1, 2, 3, 4, 5, 6, 7, 8, 9, 10]"
      ]
     },
     "execution_count": 7,
     "metadata": {},
     "output_type": "execute_result"
    }
   ],
   "source": [
    "liste = list(range(11))                #### Bu listedeki sayilari while kullanarak tek sayilar cift sayilar diye ayirin.\n",
    "liste "
   ]
  },
  {
   "cell_type": "code",
   "execution_count": 8,
   "metadata": {},
   "outputs": [
    {
     "name": "stdout",
     "output_type": "stream",
     "text": [
      "[1, 3, 5, 7, 9]\n",
      "[0, 2, 4, 6, 8, 10]\n"
     ]
    }
   ],
   "source": [
    "liste = list(range(11)) \n",
    "index = 0\n",
    "evens = []\n",
    "odds = []\n",
    "while index < len(liste):\n",
    "    if liste[index] % 2 == 0 :\n",
    "        evens.append(liste[index])\n",
    "\n",
    "    else:\n",
    "        odds.append(liste[index])\n",
    "    index += 1\n",
    "print(odds)\n",
    "print(evens)    "
   ]
  },
  {
   "cell_type": "code",
   "execution_count": null,
   "metadata": {},
   "outputs": [],
   "source": [
    "liste = [14, 75, 35, 20, 17, 98, 66, 74]    #### soru; listenin icinde kac tane tek sayi kac tane cift sayi var."
   ]
  },
  {
   "cell_type": "code",
   "execution_count": 15,
   "metadata": {},
   "outputs": [
    {
     "name": "stdout",
     "output_type": "stream",
     "text": [
      "tekler : 3\n",
      "ciftler : 5\n"
     ]
    }
   ],
   "source": [
    "liste = [14, 75, 35, 20, 17, 98, 66, 74]\n",
    "index = 0\n",
    "evens_counter = 0\n",
    "odds_counter = 0\n",
    "while index < len(liste):\n",
    "\n",
    "    if liste[index] % 2 == 0:\n",
    "        evens_counter += 1\n",
    "    else:\n",
    "        odds_counter += 1 \n",
    "\n",
    "    index += 1\n",
    "\n",
    "print(f\"tekler : {odds_counter}\")\n",
    "print(f\"ciftler : {evens_counter}\")    "
   ]
  },
  {
   "cell_type": "code",
   "execution_count": null,
   "metadata": {},
   "outputs": [],
   "source": [
    "#### Kullanicidan 5 sayi giriniz ve bunlari ekran yazdirin kucukten buyuge "
   ]
  },
  {
   "cell_type": "code",
   "execution_count": 20,
   "metadata": {},
   "outputs": [
    {
     "name": "stdout",
     "output_type": "stream",
     "text": [
      "[68, 59, 47, 35, 25, 14, 8, 5, 4, 1]\n"
     ]
    }
   ],
   "source": [
    "numbers = []\n",
    "i = 0\n",
    "while i < 10:\n",
    "    sayi = int(input(\"Dongu durana kadar sayi girin\"))\n",
    "    numbers.append(sayi)\n",
    "    i += 1\n",
    "numbers.sort(reverse=True)\n",
    "print(numbers)"
   ]
  },
  {
   "cell_type": "code",
   "execution_count": null,
   "metadata": {},
   "outputs": [],
   "source": [
    "###  Break, Continue   ### Bizim dongumzun bitmesini istedigi yerde break yaizyouruz"
   ]
  },
  {
   "cell_type": "code",
   "execution_count": 21,
   "metadata": {},
   "outputs": [
    {
     "name": "stdout",
     "output_type": "stream",
     "text": [
      "i: 0\n",
      "i: 1\n",
      "i: 2\n",
      "i: 3\n",
      "i: 4\n",
      "i: 5\n",
      "i: 6\n",
      "i: 7\n",
      "i: 8\n",
      "i: 9\n"
     ]
    }
   ],
   "source": [
    "i = 0\n",
    "while i < 10:\n",
    "    print(\"i:\", i)\n",
    "    i += 1"
   ]
  },
  {
   "cell_type": "code",
   "execution_count": 23,
   "metadata": {},
   "outputs": [
    {
     "name": "stdout",
     "output_type": "stream",
     "text": [
      "x: 0\n",
      "x: 1\n",
      "x: 2\n",
      "x: 3\n",
      "x: 4\n",
      "x: 5\n",
      "x: 6\n",
      "x: 7\n",
      "x: 8\n",
      "x: 9\n"
     ]
    }
   ],
   "source": [
    "x = 0\n",
    "while x < 10:\n",
    "    print(\"x:\", x)\n",
    "    x += 1"
   ]
  },
  {
   "cell_type": "code",
   "execution_count": 24,
   "metadata": {},
   "outputs": [
    {
     "name": "stdout",
     "output_type": "stream",
     "text": [
      "i: 0\n",
      "i: 1\n",
      "i: 2\n",
      "i: 3\n",
      "i: 4\n"
     ]
    }
   ],
   "source": [
    "i = 0\n",
    "while i < 10:\n",
    "    if i == 5:\n",
    "        break\n",
    "    print(\"i:\", i)\n",
    "    i += 1"
   ]
  },
  {
   "cell_type": "code",
   "execution_count": 25,
   "metadata": {},
   "outputs": [
    {
     "name": "stdout",
     "output_type": "stream",
     "text": [
      "i: 0\n",
      "i: 1\n",
      "i: 2\n",
      "i: 3\n",
      "i: 4\n"
     ]
    },
    {
     "ename": "KeyboardInterrupt",
     "evalue": "",
     "output_type": "error",
     "traceback": [
      "\u001b[1;31m---------------------------------------------------------------------------\u001b[0m",
      "\u001b[1;31mKeyboardInterrupt\u001b[0m                         Traceback (most recent call last)",
      "Cell \u001b[1;32mIn [25], line 4\u001b[0m\n\u001b[0;32m      2\u001b[0m \u001b[39mwhile\u001b[39;00m i \u001b[39m<\u001b[39m \u001b[39m10\u001b[39m:\n\u001b[0;32m      3\u001b[0m     \u001b[39mif\u001b[39;00m i \u001b[39m==\u001b[39m \u001b[39m5\u001b[39m:\n\u001b[1;32m----> 4\u001b[0m         \u001b[39mcontinue\u001b[39;00m\n\u001b[0;32m      5\u001b[0m     \u001b[39mprint\u001b[39m(\u001b[39m\"\u001b[39m\u001b[39mi:\u001b[39m\u001b[39m\"\u001b[39m, i)\n\u001b[0;32m      6\u001b[0m     i \u001b[39m+\u001b[39m\u001b[39m=\u001b[39m \u001b[39m1\u001b[39m\n",
      "\u001b[1;31mKeyboardInterrupt\u001b[0m: "
     ]
    }
   ],
   "source": [
    "i = 0    ### sonsuza gidiyor calistirma\n",
    "while i < 10:\n",
    "    if i == 5:\n",
    "        continue\n",
    "    print(\"i:\", i)\n",
    "    i += 1"
   ]
  },
  {
   "cell_type": "code",
   "execution_count": 26,
   "metadata": {},
   "outputs": [
    {
     "name": "stdout",
     "output_type": "stream",
     "text": [
      "i: 0\n",
      "i: 1\n",
      "i: 2\n",
      "i: 3\n",
      "i: 4\n",
      "i: 6\n",
      "i: 7\n",
      "i: 8\n",
      "i: 9\n"
     ]
    }
   ],
   "source": [
    "i = 0                                                #### arada 5 yok\n",
    "while i < 10:\n",
    "    if i == 5:\n",
    "        i += 1\n",
    "        continue\n",
    "    \n",
    "    print(\"i:\", i)\n",
    "    i += 1"
   ]
  },
  {
   "cell_type": "code",
   "execution_count": 30,
   "metadata": {},
   "outputs": [
    {
     "name": "stdout",
     "output_type": "stream",
     "text": [
      "i: 1\n",
      "i: 2\n",
      "i: 3\n",
      "i: 4\n",
      "i: 6\n",
      "i: 7\n",
      "i: 8\n",
      "i: 9\n",
      "i: 10\n"
     ]
    }
   ],
   "source": [
    "i = 0                                       ##   i += 1   bu ifadeyi neerey koyacaginiz onemli yukardakinde farkli bir yere koymustuk.     \n",
    "while i < 10:\n",
    "    i += 1\n",
    "    if i == 5:\n",
    "\n",
    "        continue\n",
    "    \n",
    "    print(\"i:\", i)\n",
    "    "
   ]
  },
  {
   "cell_type": "code",
   "execution_count": 31,
   "metadata": {},
   "outputs": [
    {
     "name": "stdout",
     "output_type": "stream",
     "text": [
      "i: 0\n",
      "i: 1\n",
      "i: 2\n",
      "i: 3\n",
      "i: 4\n",
      "i: 5\n",
      "i: 6\n",
      "i: 7\n",
      "i: 8\n",
      "i: 9\n",
      "i: 10\n",
      "i: 11\n"
     ]
    }
   ],
   "source": [
    "i = 0\n",
    "while i < 12:\n",
    "    print(\"i:\", i)\n",
    "    i += 1"
   ]
  },
  {
   "cell_type": "code",
   "execution_count": null,
   "metadata": {},
   "outputs": [],
   "source": [
    "i = 0\n",
    "while i < 12:                                   ### calistirma\n",
    "    if i % 5 == 0:\n",
    "        continue\n",
    "    print(\"i:\", i)\n",
    "    i += 1"
   ]
  },
  {
   "cell_type": "code",
   "execution_count": 33,
   "metadata": {},
   "outputs": [
    {
     "name": "stdout",
     "output_type": "stream",
     "text": [
      "i: 1\n",
      "i: 2\n",
      "i: 3\n",
      "i: 4\n",
      "i: 6\n",
      "i: 7\n",
      "i: 8\n",
      "i: 9\n",
      "i: 11\n"
     ]
    }
   ],
   "source": [
    "i = 0\n",
    "while i < 12:\n",
    "    if i % 5 == 0:                          #### Buradaki soru 5 in kati olanlari yazdirma. 0 butun sayilarin katidir. O yuzden yazdirmadi.\n",
    "        i += 1\n",
    "        continue\n",
    "    print(\"i:\", i)\n",
    "    i += 1"
   ]
  },
  {
   "cell_type": "code",
   "execution_count": null,
   "metadata": {},
   "outputs": [],
   "source": [
    "### Kullanicidan bir sayi isteyin ve bunun faktoriyel degerini bulunuz. birden kendisine kadar olanlarin carpimi \n",
    "#####  1*2*3*4*5 = 120 bu 5 in faktoriyelidir.\n",
    "####  0 faktoriyel ve 1 faktoiyel 1 e esittir."
   ]
  },
  {
   "cell_type": "code",
   "execution_count": 38,
   "metadata": {},
   "outputs": [
    {
     "name": "stdout",
     "output_type": "stream",
     "text": [
      "0 in faktoriyel degeri : 120\n"
     ]
    }
   ],
   "source": [
    "x = int(input(\"Bir sayi girin\"))\n",
    "\n",
    "if x < 0:\n",
    "    print(\"yanlis girdiniz! pozitif sayi girmeniz lazimdi\")\n",
    "else:\n",
    "    faktoriyel = 1\n",
    "    while x > 0 :\n",
    "        faktoriyel *= x\n",
    "        x -= 1\n",
    "    print(f\"{x} in faktoriyel degeri : {faktoriyel}\")"
   ]
  },
  {
   "cell_type": "code",
   "execution_count": null,
   "metadata": {},
   "outputs": [],
   "source": [
    "#### zip ()    ### birlestiriyor"
   ]
  },
  {
   "cell_type": "code",
   "execution_count": 39,
   "metadata": {},
   "outputs": [],
   "source": [
    "a = [\"apple\", \"orange\", \"banana\"]\n",
    "b = [1,2,3]"
   ]
  },
  {
   "cell_type": "code",
   "execution_count": 41,
   "metadata": {},
   "outputs": [
    {
     "data": {
      "text/plain": [
       "<zip at 0x27250006700>"
      ]
     },
     "execution_count": 41,
     "metadata": {},
     "output_type": "execute_result"
    }
   ],
   "source": [
    "zip (a,b)"
   ]
  },
  {
   "cell_type": "code",
   "execution_count": 42,
   "metadata": {},
   "outputs": [
    {
     "data": {
      "text/plain": [
       "[('apple', 1), ('orange', 2), ('banana', 3)]"
      ]
     },
     "execution_count": 42,
     "metadata": {},
     "output_type": "execute_result"
    }
   ],
   "source": [
    "list(zip (a,b))"
   ]
  },
  {
   "cell_type": "code",
   "execution_count": 40,
   "metadata": {},
   "outputs": [
    {
     "data": {
      "text/plain": [
       "[('apple', 1), ('orange', 2), ('banana', 3)]"
      ]
     },
     "execution_count": 40,
     "metadata": {},
     "output_type": "execute_result"
    }
   ],
   "source": [
    "list(zip(a,b))"
   ]
  },
  {
   "cell_type": "code",
   "execution_count": 43,
   "metadata": {},
   "outputs": [],
   "source": [
    "a = [\"apple\", \"orange\", \"banana\"]\n",
    "b = [1,2,3,4]"
   ]
  },
  {
   "cell_type": "code",
   "execution_count": 44,
   "metadata": {},
   "outputs": [
    {
     "data": {
      "text/plain": [
       "[('apple', 1), ('orange', 2), ('banana', 3)]"
      ]
     },
     "execution_count": 44,
     "metadata": {},
     "output_type": "execute_result"
    }
   ],
   "source": [
    "list(zip(a,b))                               ### Eger elemanlarin sayilari farki ise eslestirdigi kadar giriyour. \n",
    "                                              ## Sonucu tuple icinde olusturuyour."
   ]
  },
  {
   "cell_type": "code",
   "execution_count": 46,
   "metadata": {},
   "outputs": [],
   "source": [
    "a = [\"apple\", \"orange\", \"banana\"]\n",
    "b = [1]"
   ]
  },
  {
   "cell_type": "code",
   "execution_count": 47,
   "metadata": {},
   "outputs": [
    {
     "data": {
      "text/plain": [
       "[('apple', 1)]"
      ]
     },
     "execution_count": 47,
     "metadata": {},
     "output_type": "execute_result"
    }
   ],
   "source": [
    "list(zip(a,b))"
   ]
  },
  {
   "cell_type": "code",
   "execution_count": 50,
   "metadata": {},
   "outputs": [],
   "source": [
    "x = \"techpro\"\n",
    "y = \"sedat\"\n",
    "z = \"aliveli\""
   ]
  },
  {
   "cell_type": "code",
   "execution_count": 51,
   "metadata": {},
   "outputs": [
    {
     "data": {
      "text/plain": [
       "[('t', 's', 'a'),\n",
       " ('e', 'e', 'l'),\n",
       " ('c', 'd', 'i'),\n",
       " ('h', 'a', 'v'),\n",
       " ('p', 't', 'e')]"
      ]
     },
     "execution_count": 51,
     "metadata": {},
     "output_type": "execute_result"
    }
   ],
   "source": [
    "list(zip(x,y,z))                           ### itteraable olmasi onemli burada, en kisaisni bulup ona gore eslestiriyour."
   ]
  },
  {
   "cell_type": "code",
   "execution_count": 52,
   "metadata": {},
   "outputs": [
    {
     "data": {
      "text/plain": [
       "[('a', 0, 0), ('b', 1, 1), ('c', 2, 2)]"
      ]
     },
     "execution_count": 52,
     "metadata": {},
     "output_type": "execute_result"
    }
   ],
   "source": [
    "list(zip('abcdefg', range(3), range(4)))"
   ]
  },
  {
   "cell_type": "code",
   "execution_count": 53,
   "metadata": {},
   "outputs": [
    {
     "data": {
      "text/plain": [
       "[]"
      ]
     },
     "execution_count": 53,
     "metadata": {},
     "output_type": "execute_result"
    }
   ],
   "source": [
    "list(zip(\"techpro\", [], (1,2,3,)))      ### Bos dondurdu cunku bos paranteez var o yuzden  bos dondurdu"
   ]
  },
  {
   "cell_type": "code",
   "execution_count": 55,
   "metadata": {},
   "outputs": [
    {
     "data": {
      "text/plain": [
       "[14, 75, 35, 20, 17, 98, 66, 74]"
      ]
     },
     "execution_count": 55,
     "metadata": {},
     "output_type": "execute_result"
    }
   ],
   "source": [
    "liste"
   ]
  },
  {
   "cell_type": "code",
   "execution_count": 56,
   "metadata": {},
   "outputs": [
    {
     "data": {
      "text/plain": [
       "[(1, 14), (2, 75), (3, 35), (4, 20), (5, 17), (6, 98), (7, 66), (8, 74)]"
      ]
     },
     "execution_count": 56,
     "metadata": {},
     "output_type": "execute_result"
    }
   ],
   "source": [
    "list(zip(range(1,len(liste)+1),liste))    ### burada (1 , 14) (2,75) (3 ... ) dye yazdirmak istiyoruz"
   ]
  },
  {
   "cell_type": "code",
   "execution_count": 58,
   "metadata": {},
   "outputs": [
    {
     "data": {
      "text/plain": [
       "range(1, 9)"
      ]
     },
     "execution_count": 58,
     "metadata": {},
     "output_type": "execute_result"
    }
   ],
   "source": [
    "range(1,len(liste)+1)"
   ]
  },
  {
   "cell_type": "code",
   "execution_count": null,
   "metadata": {},
   "outputs": [],
   "source": [
    "#### enumerate()  #### "
   ]
  },
  {
   "cell_type": "code",
   "execution_count": 60,
   "metadata": {},
   "outputs": [
    {
     "data": {
      "text/plain": [
       "<enumerate at 0x27251a75800>"
      ]
     },
     "execution_count": 60,
     "metadata": {},
     "output_type": "execute_result"
    }
   ],
   "source": [
    "enumerate(liste)   ####  bir fonksiyon uretti\n",
    "                ### 0 dan baslatir"
   ]
  },
  {
   "cell_type": "code",
   "execution_count": 61,
   "metadata": {},
   "outputs": [
    {
     "data": {
      "text/plain": [
       "[(0, 14), (1, 75), (2, 35), (3, 20), (4, 17), (5, 98), (6, 66), (7, 74)]"
      ]
     },
     "execution_count": 61,
     "metadata": {},
     "output_type": "execute_result"
    }
   ],
   "source": [
    "list(enumerate(liste))"
   ]
  },
  {
   "cell_type": "code",
   "execution_count": 62,
   "metadata": {},
   "outputs": [
    {
     "data": {
      "text/plain": [
       "[(1, 14), (2, 75), (3, 35), (4, 20), (5, 17), (6, 98), (7, 66), (8, 74)]"
      ]
     },
     "execution_count": 62,
     "metadata": {},
     "output_type": "execute_result"
    }
   ],
   "source": [
    "list(enumerate(liste,1))"
   ]
  },
  {
   "cell_type": "code",
   "execution_count": 63,
   "metadata": {},
   "outputs": [
    {
     "data": {
      "text/plain": [
       "[(100, 14),\n",
       " (101, 75),\n",
       " (102, 35),\n",
       " (103, 20),\n",
       " (104, 17),\n",
       " (105, 98),\n",
       " (106, 66),\n",
       " (107, 74)]"
      ]
     },
     "execution_count": 63,
     "metadata": {},
     "output_type": "execute_result"
    }
   ],
   "source": [
    "list(enumerate(liste,100))"
   ]
  },
  {
   "cell_type": "code",
   "execution_count": 64,
   "metadata": {},
   "outputs": [
    {
     "data": {
      "text/plain": [
       "[(100, 14),\n",
       " (102, 75),\n",
       " (104, 35),\n",
       " (106, 20),\n",
       " (108, 17),\n",
       " (110, 98),\n",
       " (112, 66),\n",
       " (114, 74)]"
      ]
     },
     "execution_count": 64,
     "metadata": {},
     "output_type": "execute_result"
    }
   ],
   "source": [
    "list(zip(range(100,117,2), liste))   1000 den 117 ye 2 seli artiyour"
   ]
  },
  {
   "cell_type": "code",
   "execution_count": 65,
   "metadata": {},
   "outputs": [
    {
     "data": {
      "text/plain": [
       "[(100, 14),\n",
       " (103, 75),\n",
       " (106, 35),\n",
       " (109, 20),\n",
       " (112, 17),\n",
       " (115, 98),\n",
       " (118, 66),\n",
       " (121, 74)]"
      ]
     },
     "execution_count": 65,
     "metadata": {},
     "output_type": "execute_result"
    }
   ],
   "source": [
    "list(zip(range(100,(100 +(3 * len (liste)+1)),3),liste)) "
   ]
  },
  {
   "cell_type": "code",
   "execution_count": 70,
   "metadata": {},
   "outputs": [],
   "source": [
    "liste1 = list (range(200,1000))"
   ]
  },
  {
   "cell_type": "code",
   "execution_count": 71,
   "metadata": {},
   "outputs": [
    {
     "data": {
      "text/plain": [
       "[(100, 200),\n",
       " (103, 201),\n",
       " (106, 202),\n",
       " (109, 203),\n",
       " (112, 204),\n",
       " (115, 205),\n",
       " (118, 206),\n",
       " (121, 207),\n",
       " (124, 208),\n",
       " (127, 209),\n",
       " (130, 210),\n",
       " (133, 211),\n",
       " (136, 212),\n",
       " (139, 213),\n",
       " (142, 214),\n",
       " (145, 215),\n",
       " (148, 216),\n",
       " (151, 217),\n",
       " (154, 218),\n",
       " (157, 219),\n",
       " (160, 220),\n",
       " (163, 221),\n",
       " (166, 222),\n",
       " (169, 223),\n",
       " (172, 224),\n",
       " (175, 225),\n",
       " (178, 226),\n",
       " (181, 227),\n",
       " (184, 228),\n",
       " (187, 229),\n",
       " (190, 230),\n",
       " (193, 231),\n",
       " (196, 232),\n",
       " (199, 233),\n",
       " (202, 234),\n",
       " (205, 235),\n",
       " (208, 236),\n",
       " (211, 237),\n",
       " (214, 238),\n",
       " (217, 239),\n",
       " (220, 240),\n",
       " (223, 241),\n",
       " (226, 242),\n",
       " (229, 243),\n",
       " (232, 244),\n",
       " (235, 245),\n",
       " (238, 246),\n",
       " (241, 247),\n",
       " (244, 248),\n",
       " (247, 249),\n",
       " (250, 250),\n",
       " (253, 251),\n",
       " (256, 252),\n",
       " (259, 253),\n",
       " (262, 254),\n",
       " (265, 255),\n",
       " (268, 256),\n",
       " (271, 257),\n",
       " (274, 258),\n",
       " (277, 259),\n",
       " (280, 260),\n",
       " (283, 261),\n",
       " (286, 262),\n",
       " (289, 263),\n",
       " (292, 264),\n",
       " (295, 265),\n",
       " (298, 266),\n",
       " (301, 267),\n",
       " (304, 268),\n",
       " (307, 269),\n",
       " (310, 270),\n",
       " (313, 271),\n",
       " (316, 272),\n",
       " (319, 273),\n",
       " (322, 274),\n",
       " (325, 275),\n",
       " (328, 276),\n",
       " (331, 277),\n",
       " (334, 278),\n",
       " (337, 279),\n",
       " (340, 280),\n",
       " (343, 281),\n",
       " (346, 282),\n",
       " (349, 283),\n",
       " (352, 284),\n",
       " (355, 285),\n",
       " (358, 286),\n",
       " (361, 287),\n",
       " (364, 288),\n",
       " (367, 289),\n",
       " (370, 290),\n",
       " (373, 291),\n",
       " (376, 292),\n",
       " (379, 293),\n",
       " (382, 294),\n",
       " (385, 295),\n",
       " (388, 296),\n",
       " (391, 297),\n",
       " (394, 298),\n",
       " (397, 299),\n",
       " (400, 300),\n",
       " (403, 301),\n",
       " (406, 302),\n",
       " (409, 303),\n",
       " (412, 304),\n",
       " (415, 305),\n",
       " (418, 306),\n",
       " (421, 307),\n",
       " (424, 308),\n",
       " (427, 309),\n",
       " (430, 310),\n",
       " (433, 311),\n",
       " (436, 312),\n",
       " (439, 313),\n",
       " (442, 314),\n",
       " (445, 315),\n",
       " (448, 316),\n",
       " (451, 317),\n",
       " (454, 318),\n",
       " (457, 319),\n",
       " (460, 320),\n",
       " (463, 321),\n",
       " (466, 322),\n",
       " (469, 323),\n",
       " (472, 324),\n",
       " (475, 325),\n",
       " (478, 326),\n",
       " (481, 327),\n",
       " (484, 328),\n",
       " (487, 329),\n",
       " (490, 330),\n",
       " (493, 331),\n",
       " (496, 332),\n",
       " (499, 333),\n",
       " (502, 334),\n",
       " (505, 335),\n",
       " (508, 336),\n",
       " (511, 337),\n",
       " (514, 338),\n",
       " (517, 339),\n",
       " (520, 340),\n",
       " (523, 341),\n",
       " (526, 342),\n",
       " (529, 343),\n",
       " (532, 344),\n",
       " (535, 345),\n",
       " (538, 346),\n",
       " (541, 347),\n",
       " (544, 348),\n",
       " (547, 349),\n",
       " (550, 350),\n",
       " (553, 351),\n",
       " (556, 352),\n",
       " (559, 353),\n",
       " (562, 354),\n",
       " (565, 355),\n",
       " (568, 356),\n",
       " (571, 357),\n",
       " (574, 358),\n",
       " (577, 359),\n",
       " (580, 360),\n",
       " (583, 361),\n",
       " (586, 362),\n",
       " (589, 363),\n",
       " (592, 364),\n",
       " (595, 365),\n",
       " (598, 366),\n",
       " (601, 367),\n",
       " (604, 368),\n",
       " (607, 369),\n",
       " (610, 370),\n",
       " (613, 371),\n",
       " (616, 372),\n",
       " (619, 373),\n",
       " (622, 374),\n",
       " (625, 375),\n",
       " (628, 376),\n",
       " (631, 377),\n",
       " (634, 378),\n",
       " (637, 379),\n",
       " (640, 380),\n",
       " (643, 381),\n",
       " (646, 382),\n",
       " (649, 383),\n",
       " (652, 384),\n",
       " (655, 385),\n",
       " (658, 386),\n",
       " (661, 387),\n",
       " (664, 388),\n",
       " (667, 389),\n",
       " (670, 390),\n",
       " (673, 391),\n",
       " (676, 392),\n",
       " (679, 393),\n",
       " (682, 394),\n",
       " (685, 395),\n",
       " (688, 396),\n",
       " (691, 397),\n",
       " (694, 398),\n",
       " (697, 399),\n",
       " (700, 400),\n",
       " (703, 401),\n",
       " (706, 402),\n",
       " (709, 403),\n",
       " (712, 404),\n",
       " (715, 405),\n",
       " (718, 406),\n",
       " (721, 407),\n",
       " (724, 408),\n",
       " (727, 409),\n",
       " (730, 410),\n",
       " (733, 411),\n",
       " (736, 412),\n",
       " (739, 413),\n",
       " (742, 414),\n",
       " (745, 415),\n",
       " (748, 416),\n",
       " (751, 417),\n",
       " (754, 418),\n",
       " (757, 419),\n",
       " (760, 420),\n",
       " (763, 421),\n",
       " (766, 422),\n",
       " (769, 423),\n",
       " (772, 424),\n",
       " (775, 425),\n",
       " (778, 426),\n",
       " (781, 427),\n",
       " (784, 428),\n",
       " (787, 429),\n",
       " (790, 430),\n",
       " (793, 431),\n",
       " (796, 432),\n",
       " (799, 433),\n",
       " (802, 434),\n",
       " (805, 435),\n",
       " (808, 436),\n",
       " (811, 437),\n",
       " (814, 438),\n",
       " (817, 439),\n",
       " (820, 440),\n",
       " (823, 441),\n",
       " (826, 442),\n",
       " (829, 443),\n",
       " (832, 444),\n",
       " (835, 445),\n",
       " (838, 446),\n",
       " (841, 447),\n",
       " (844, 448),\n",
       " (847, 449),\n",
       " (850, 450),\n",
       " (853, 451),\n",
       " (856, 452),\n",
       " (859, 453),\n",
       " (862, 454),\n",
       " (865, 455),\n",
       " (868, 456),\n",
       " (871, 457),\n",
       " (874, 458),\n",
       " (877, 459),\n",
       " (880, 460),\n",
       " (883, 461),\n",
       " (886, 462),\n",
       " (889, 463),\n",
       " (892, 464),\n",
       " (895, 465),\n",
       " (898, 466),\n",
       " (901, 467),\n",
       " (904, 468),\n",
       " (907, 469),\n",
       " (910, 470),\n",
       " (913, 471),\n",
       " (916, 472),\n",
       " (919, 473),\n",
       " (922, 474),\n",
       " (925, 475),\n",
       " (928, 476),\n",
       " (931, 477),\n",
       " (934, 478),\n",
       " (937, 479),\n",
       " (940, 480),\n",
       " (943, 481),\n",
       " (946, 482),\n",
       " (949, 483),\n",
       " (952, 484),\n",
       " (955, 485),\n",
       " (958, 486),\n",
       " (961, 487),\n",
       " (964, 488),\n",
       " (967, 489),\n",
       " (970, 490),\n",
       " (973, 491),\n",
       " (976, 492),\n",
       " (979, 493),\n",
       " (982, 494),\n",
       " (985, 495),\n",
       " (988, 496),\n",
       " (991, 497),\n",
       " (994, 498),\n",
       " (997, 499),\n",
       " (1000, 500),\n",
       " (1003, 501),\n",
       " (1006, 502),\n",
       " (1009, 503),\n",
       " (1012, 504),\n",
       " (1015, 505),\n",
       " (1018, 506),\n",
       " (1021, 507),\n",
       " (1024, 508),\n",
       " (1027, 509),\n",
       " (1030, 510),\n",
       " (1033, 511),\n",
       " (1036, 512),\n",
       " (1039, 513),\n",
       " (1042, 514),\n",
       " (1045, 515),\n",
       " (1048, 516),\n",
       " (1051, 517),\n",
       " (1054, 518),\n",
       " (1057, 519),\n",
       " (1060, 520),\n",
       " (1063, 521),\n",
       " (1066, 522),\n",
       " (1069, 523),\n",
       " (1072, 524),\n",
       " (1075, 525),\n",
       " (1078, 526),\n",
       " (1081, 527),\n",
       " (1084, 528),\n",
       " (1087, 529),\n",
       " (1090, 530),\n",
       " (1093, 531),\n",
       " (1096, 532),\n",
       " (1099, 533),\n",
       " (1102, 534),\n",
       " (1105, 535),\n",
       " (1108, 536),\n",
       " (1111, 537),\n",
       " (1114, 538),\n",
       " (1117, 539),\n",
       " (1120, 540),\n",
       " (1123, 541),\n",
       " (1126, 542),\n",
       " (1129, 543),\n",
       " (1132, 544),\n",
       " (1135, 545),\n",
       " (1138, 546),\n",
       " (1141, 547),\n",
       " (1144, 548),\n",
       " (1147, 549),\n",
       " (1150, 550),\n",
       " (1153, 551),\n",
       " (1156, 552),\n",
       " (1159, 553),\n",
       " (1162, 554),\n",
       " (1165, 555),\n",
       " (1168, 556),\n",
       " (1171, 557),\n",
       " (1174, 558),\n",
       " (1177, 559),\n",
       " (1180, 560),\n",
       " (1183, 561),\n",
       " (1186, 562),\n",
       " (1189, 563),\n",
       " (1192, 564),\n",
       " (1195, 565),\n",
       " (1198, 566),\n",
       " (1201, 567),\n",
       " (1204, 568),\n",
       " (1207, 569),\n",
       " (1210, 570),\n",
       " (1213, 571),\n",
       " (1216, 572),\n",
       " (1219, 573),\n",
       " (1222, 574),\n",
       " (1225, 575),\n",
       " (1228, 576),\n",
       " (1231, 577),\n",
       " (1234, 578),\n",
       " (1237, 579),\n",
       " (1240, 580),\n",
       " (1243, 581),\n",
       " (1246, 582),\n",
       " (1249, 583),\n",
       " (1252, 584),\n",
       " (1255, 585),\n",
       " (1258, 586),\n",
       " (1261, 587),\n",
       " (1264, 588),\n",
       " (1267, 589),\n",
       " (1270, 590),\n",
       " (1273, 591),\n",
       " (1276, 592),\n",
       " (1279, 593),\n",
       " (1282, 594),\n",
       " (1285, 595),\n",
       " (1288, 596),\n",
       " (1291, 597),\n",
       " (1294, 598),\n",
       " (1297, 599),\n",
       " (1300, 600),\n",
       " (1303, 601),\n",
       " (1306, 602),\n",
       " (1309, 603),\n",
       " (1312, 604),\n",
       " (1315, 605),\n",
       " (1318, 606),\n",
       " (1321, 607),\n",
       " (1324, 608),\n",
       " (1327, 609),\n",
       " (1330, 610),\n",
       " (1333, 611),\n",
       " (1336, 612),\n",
       " (1339, 613),\n",
       " (1342, 614),\n",
       " (1345, 615),\n",
       " (1348, 616),\n",
       " (1351, 617),\n",
       " (1354, 618),\n",
       " (1357, 619),\n",
       " (1360, 620),\n",
       " (1363, 621),\n",
       " (1366, 622),\n",
       " (1369, 623),\n",
       " (1372, 624),\n",
       " (1375, 625),\n",
       " (1378, 626),\n",
       " (1381, 627),\n",
       " (1384, 628),\n",
       " (1387, 629),\n",
       " (1390, 630),\n",
       " (1393, 631),\n",
       " (1396, 632),\n",
       " (1399, 633),\n",
       " (1402, 634),\n",
       " (1405, 635),\n",
       " (1408, 636),\n",
       " (1411, 637),\n",
       " (1414, 638),\n",
       " (1417, 639),\n",
       " (1420, 640),\n",
       " (1423, 641),\n",
       " (1426, 642),\n",
       " (1429, 643),\n",
       " (1432, 644),\n",
       " (1435, 645),\n",
       " (1438, 646),\n",
       " (1441, 647),\n",
       " (1444, 648),\n",
       " (1447, 649),\n",
       " (1450, 650),\n",
       " (1453, 651),\n",
       " (1456, 652),\n",
       " (1459, 653),\n",
       " (1462, 654),\n",
       " (1465, 655),\n",
       " (1468, 656),\n",
       " (1471, 657),\n",
       " (1474, 658),\n",
       " (1477, 659),\n",
       " (1480, 660),\n",
       " (1483, 661),\n",
       " (1486, 662),\n",
       " (1489, 663),\n",
       " (1492, 664),\n",
       " (1495, 665),\n",
       " (1498, 666),\n",
       " (1501, 667),\n",
       " (1504, 668),\n",
       " (1507, 669),\n",
       " (1510, 670),\n",
       " (1513, 671),\n",
       " (1516, 672),\n",
       " (1519, 673),\n",
       " (1522, 674),\n",
       " (1525, 675),\n",
       " (1528, 676),\n",
       " (1531, 677),\n",
       " (1534, 678),\n",
       " (1537, 679),\n",
       " (1540, 680),\n",
       " (1543, 681),\n",
       " (1546, 682),\n",
       " (1549, 683),\n",
       " (1552, 684),\n",
       " (1555, 685),\n",
       " (1558, 686),\n",
       " (1561, 687),\n",
       " (1564, 688),\n",
       " (1567, 689),\n",
       " (1570, 690),\n",
       " (1573, 691),\n",
       " (1576, 692),\n",
       " (1579, 693),\n",
       " (1582, 694),\n",
       " (1585, 695),\n",
       " (1588, 696),\n",
       " (1591, 697),\n",
       " (1594, 698),\n",
       " (1597, 699),\n",
       " (1600, 700),\n",
       " (1603, 701),\n",
       " (1606, 702),\n",
       " (1609, 703),\n",
       " (1612, 704),\n",
       " (1615, 705),\n",
       " (1618, 706),\n",
       " (1621, 707),\n",
       " (1624, 708),\n",
       " (1627, 709),\n",
       " (1630, 710),\n",
       " (1633, 711),\n",
       " (1636, 712),\n",
       " (1639, 713),\n",
       " (1642, 714),\n",
       " (1645, 715),\n",
       " (1648, 716),\n",
       " (1651, 717),\n",
       " (1654, 718),\n",
       " (1657, 719),\n",
       " (1660, 720),\n",
       " (1663, 721),\n",
       " (1666, 722),\n",
       " (1669, 723),\n",
       " (1672, 724),\n",
       " (1675, 725),\n",
       " (1678, 726),\n",
       " (1681, 727),\n",
       " (1684, 728),\n",
       " (1687, 729),\n",
       " (1690, 730),\n",
       " (1693, 731),\n",
       " (1696, 732),\n",
       " (1699, 733),\n",
       " (1702, 734),\n",
       " (1705, 735),\n",
       " (1708, 736),\n",
       " (1711, 737),\n",
       " (1714, 738),\n",
       " (1717, 739),\n",
       " (1720, 740),\n",
       " (1723, 741),\n",
       " (1726, 742),\n",
       " (1729, 743),\n",
       " (1732, 744),\n",
       " (1735, 745),\n",
       " (1738, 746),\n",
       " (1741, 747),\n",
       " (1744, 748),\n",
       " (1747, 749),\n",
       " (1750, 750),\n",
       " (1753, 751),\n",
       " (1756, 752),\n",
       " (1759, 753),\n",
       " (1762, 754),\n",
       " (1765, 755),\n",
       " (1768, 756),\n",
       " (1771, 757),\n",
       " (1774, 758),\n",
       " (1777, 759),\n",
       " (1780, 760),\n",
       " (1783, 761),\n",
       " (1786, 762),\n",
       " (1789, 763),\n",
       " (1792, 764),\n",
       " (1795, 765),\n",
       " (1798, 766),\n",
       " (1801, 767),\n",
       " (1804, 768),\n",
       " (1807, 769),\n",
       " (1810, 770),\n",
       " (1813, 771),\n",
       " (1816, 772),\n",
       " (1819, 773),\n",
       " (1822, 774),\n",
       " (1825, 775),\n",
       " (1828, 776),\n",
       " (1831, 777),\n",
       " (1834, 778),\n",
       " (1837, 779),\n",
       " (1840, 780),\n",
       " (1843, 781),\n",
       " (1846, 782),\n",
       " (1849, 783),\n",
       " (1852, 784),\n",
       " (1855, 785),\n",
       " (1858, 786),\n",
       " (1861, 787),\n",
       " (1864, 788),\n",
       " (1867, 789),\n",
       " (1870, 790),\n",
       " (1873, 791),\n",
       " (1876, 792),\n",
       " (1879, 793),\n",
       " (1882, 794),\n",
       " (1885, 795),\n",
       " (1888, 796),\n",
       " (1891, 797),\n",
       " (1894, 798),\n",
       " (1897, 799),\n",
       " (1900, 800),\n",
       " (1903, 801),\n",
       " (1906, 802),\n",
       " (1909, 803),\n",
       " (1912, 804),\n",
       " (1915, 805),\n",
       " (1918, 806),\n",
       " (1921, 807),\n",
       " (1924, 808),\n",
       " (1927, 809),\n",
       " (1930, 810),\n",
       " (1933, 811),\n",
       " (1936, 812),\n",
       " (1939, 813),\n",
       " (1942, 814),\n",
       " (1945, 815),\n",
       " (1948, 816),\n",
       " (1951, 817),\n",
       " (1954, 818),\n",
       " (1957, 819),\n",
       " (1960, 820),\n",
       " (1963, 821),\n",
       " (1966, 822),\n",
       " (1969, 823),\n",
       " (1972, 824),\n",
       " (1975, 825),\n",
       " (1978, 826),\n",
       " (1981, 827),\n",
       " (1984, 828),\n",
       " (1987, 829),\n",
       " (1990, 830),\n",
       " (1993, 831),\n",
       " (1996, 832),\n",
       " (1999, 833),\n",
       " (2002, 834),\n",
       " (2005, 835),\n",
       " (2008, 836),\n",
       " (2011, 837),\n",
       " (2014, 838),\n",
       " (2017, 839),\n",
       " (2020, 840),\n",
       " (2023, 841),\n",
       " (2026, 842),\n",
       " (2029, 843),\n",
       " (2032, 844),\n",
       " (2035, 845),\n",
       " (2038, 846),\n",
       " (2041, 847),\n",
       " (2044, 848),\n",
       " (2047, 849),\n",
       " (2050, 850),\n",
       " (2053, 851),\n",
       " (2056, 852),\n",
       " (2059, 853),\n",
       " (2062, 854),\n",
       " (2065, 855),\n",
       " (2068, 856),\n",
       " (2071, 857),\n",
       " (2074, 858),\n",
       " (2077, 859),\n",
       " (2080, 860),\n",
       " (2083, 861),\n",
       " (2086, 862),\n",
       " (2089, 863),\n",
       " (2092, 864),\n",
       " (2095, 865),\n",
       " (2098, 866),\n",
       " (2101, 867),\n",
       " (2104, 868),\n",
       " (2107, 869),\n",
       " (2110, 870),\n",
       " (2113, 871),\n",
       " (2116, 872),\n",
       " (2119, 873),\n",
       " (2122, 874),\n",
       " (2125, 875),\n",
       " (2128, 876),\n",
       " (2131, 877),\n",
       " (2134, 878),\n",
       " (2137, 879),\n",
       " (2140, 880),\n",
       " (2143, 881),\n",
       " (2146, 882),\n",
       " (2149, 883),\n",
       " (2152, 884),\n",
       " (2155, 885),\n",
       " (2158, 886),\n",
       " (2161, 887),\n",
       " (2164, 888),\n",
       " (2167, 889),\n",
       " (2170, 890),\n",
       " (2173, 891),\n",
       " (2176, 892),\n",
       " (2179, 893),\n",
       " (2182, 894),\n",
       " (2185, 895),\n",
       " (2188, 896),\n",
       " (2191, 897),\n",
       " (2194, 898),\n",
       " (2197, 899),\n",
       " (2200, 900),\n",
       " (2203, 901),\n",
       " (2206, 902),\n",
       " (2209, 903),\n",
       " (2212, 904),\n",
       " (2215, 905),\n",
       " (2218, 906),\n",
       " (2221, 907),\n",
       " (2224, 908),\n",
       " (2227, 909),\n",
       " (2230, 910),\n",
       " (2233, 911),\n",
       " (2236, 912),\n",
       " (2239, 913),\n",
       " (2242, 914),\n",
       " (2245, 915),\n",
       " (2248, 916),\n",
       " (2251, 917),\n",
       " (2254, 918),\n",
       " (2257, 919),\n",
       " (2260, 920),\n",
       " (2263, 921),\n",
       " (2266, 922),\n",
       " (2269, 923),\n",
       " (2272, 924),\n",
       " (2275, 925),\n",
       " (2278, 926),\n",
       " (2281, 927),\n",
       " (2284, 928),\n",
       " (2287, 929),\n",
       " (2290, 930),\n",
       " (2293, 931),\n",
       " (2296, 932),\n",
       " (2299, 933),\n",
       " (2302, 934),\n",
       " (2305, 935),\n",
       " (2308, 936),\n",
       " (2311, 937),\n",
       " (2314, 938),\n",
       " (2317, 939),\n",
       " (2320, 940),\n",
       " (2323, 941),\n",
       " (2326, 942),\n",
       " (2329, 943),\n",
       " (2332, 944),\n",
       " (2335, 945),\n",
       " (2338, 946),\n",
       " (2341, 947),\n",
       " (2344, 948),\n",
       " (2347, 949),\n",
       " (2350, 950),\n",
       " (2353, 951),\n",
       " (2356, 952),\n",
       " (2359, 953),\n",
       " (2362, 954),\n",
       " (2365, 955),\n",
       " (2368, 956),\n",
       " (2371, 957),\n",
       " (2374, 958),\n",
       " (2377, 959),\n",
       " (2380, 960),\n",
       " (2383, 961),\n",
       " (2386, 962),\n",
       " (2389, 963),\n",
       " (2392, 964),\n",
       " (2395, 965),\n",
       " (2398, 966),\n",
       " (2401, 967),\n",
       " (2404, 968),\n",
       " (2407, 969),\n",
       " (2410, 970),\n",
       " (2413, 971),\n",
       " (2416, 972),\n",
       " (2419, 973),\n",
       " (2422, 974),\n",
       " (2425, 975),\n",
       " (2428, 976),\n",
       " (2431, 977),\n",
       " (2434, 978),\n",
       " (2437, 979),\n",
       " (2440, 980),\n",
       " (2443, 981),\n",
       " (2446, 982),\n",
       " (2449, 983),\n",
       " (2452, 984),\n",
       " (2455, 985),\n",
       " (2458, 986),\n",
       " (2461, 987),\n",
       " (2464, 988),\n",
       " (2467, 989),\n",
       " (2470, 990),\n",
       " (2473, 991),\n",
       " (2476, 992),\n",
       " (2479, 993),\n",
       " (2482, 994),\n",
       " (2485, 995),\n",
       " (2488, 996),\n",
       " (2491, 997),\n",
       " (2494, 998),\n",
       " (2497, 999)]"
      ]
     },
     "execution_count": 71,
     "metadata": {},
     "output_type": "execute_result"
    }
   ],
   "source": [
    "list(zip(range(100,(100+(3*len(liste1)+1)),3),liste1))"
   ]
  },
  {
   "cell_type": "code",
   "execution_count": null,
   "metadata": {},
   "outputs": [],
   "source": [
    "#### soru  bankacilikta kullanici adi  ve parola isteyen bir sistem ve 3 kere den fazla girerseniz, hesbiniz bloke oldu diye bir kod yazin"
   ]
  },
  {
   "cell_type": "code",
   "execution_count": 1,
   "metadata": {},
   "outputs": [
    {
     "name": "stdout",
     "output_type": "stream",
     "text": [
      "Kullanici adi ve Sifernizi yanlis girdiniz\n"
     ]
    }
   ],
   "source": [
    "kullanici_adi = \"techpro_sedat\"\n",
    "sifre = \"12345\"\n",
    "giris_hakki = 3\n",
    "\n",
    "while True:\n",
    "    kull_adi = input(\"Kullanici adinizi girin\")\n",
    "    parola = input(\"Sifrenizi girin\")\n",
    "\n",
    "    if (kullanici_adi != kull_adi) and (sifre == parola):\n",
    "        print (\"Kullanici adinizi yanlis girdiniz\")\n",
    "        giris_hakki -= 1\n",
    "    elif(kullanici_adi == kull_adi) and (sifre != parola):\n",
    "        print(\"Sifrenizi yanlis girdiniz\")\n",
    "        giris_hakki -= 1\n",
    "    elif (kullanici_adi != kull_adi) and (sifre != parola)   :\n",
    "        print(\"Kullanici adi ve Sifernizi yanlis girdiniz\") \n",
    "        giris_hakki -= 1\n",
    "    else:\n",
    "        print(\"sisteme basariyla giris yaptiniz\")\n",
    "        break\n",
    "    if giris_hakki == 0:\n",
    "        print(\"Hesabini bloke oldu\")\n",
    "        break"
   ]
  }
 ],
 "metadata": {
  "kernelspec": {
   "display_name": "Python 3.10.7 64-bit",
   "language": "python",
   "name": "python3"
  },
  "language_info": {
   "codemirror_mode": {
    "name": "ipython",
    "version": 3
   },
   "file_extension": ".py",
   "mimetype": "text/x-python",
   "name": "python",
   "nbconvert_exporter": "python",
   "pygments_lexer": "ipython3",
   "version": "3.10.7"
  },
  "orig_nbformat": 4,
  "vscode": {
   "interpreter": {
    "hash": "974597dd8ef7879a11ba597ac90f8b666a0a4c4068cc994294f584311e4770be"
   }
  }
 },
 "nbformat": 4,
 "nbformat_minor": 2
}
