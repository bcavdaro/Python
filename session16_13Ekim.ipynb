{
 "cells": [
  {
   "cell_type": "code",
   "execution_count": null,
   "metadata": {},
   "outputs": [],
   "source": [
    "####   FOR LOOPS\n",
    "####  for variaable in iterable :       stiring list tuple dictionary bunlar birer iterabale yapi     \n",
    "       islem satiri                       iterable: elemanlarina ulasilabilen ve onun uzerinde islem yapilabilen demektir."
   ]
  },
  {
   "cell_type": "code",
   "execution_count": 2,
   "metadata": {},
   "outputs": [
    {
     "name": "stdout",
     "output_type": "stream",
     "text": [
      "t\n",
      "e\n",
      "c\n",
      "h\n",
      "p\n",
      "r\n",
      "o\n"
     ]
    }
   ],
   "source": [
    "for i in \"techpro\":                  ### burada t harfini alsin print etsin buraya alsin ve teker teker alsin dongu devam etsin.\n",
    "                                     ### dongu eleman sayisi kadar devam etsin, while deki gibi surekli degistirmesine gerek kalmadi\n",
    "    print(i)"
   ]
  },
  {
   "cell_type": "code",
   "execution_count": 4,
   "metadata": {},
   "outputs": [
    {
     "name": "stdout",
     "output_type": "stream",
     "text": [
      "t-e-c-h-p-r-o-"
     ]
    }
   ],
   "source": [
    "for i in \"techpro\":                        #### eger yanyana yazdirmak istiyorsak boyle yapariz.\n",
    "    print (i, end=\"-\")"
   ]
  },
  {
   "cell_type": "code",
   "execution_count": 5,
   "metadata": {},
   "outputs": [],
   "source": [
    "x = [1, 2, 3, 4, 5]"
   ]
  },
  {
   "cell_type": "code",
   "execution_count": 6,
   "metadata": {},
   "outputs": [
    {
     "name": "stdout",
     "output_type": "stream",
     "text": [
      "1\n",
      "2\n",
      "3\n",
      "4\n",
      "5\n"
     ]
    }
   ],
   "source": [
    "for index in x:\n",
    "    print(index)"
   ]
  },
  {
   "cell_type": "code",
   "execution_count": null,
   "metadata": {},
   "outputs": [],
   "source": [
    "x = [1, 2, 3, 4, 5]"
   ]
  },
  {
   "cell_type": "code",
   "execution_count": 7,
   "metadata": {},
   "outputs": [
    {
     "name": "stdout",
     "output_type": "stream",
     "text": [
      "1\n",
      "4\n",
      "9\n",
      "16\n",
      "25\n"
     ]
    }
   ],
   "source": [
    "for index in x:\n",
    "    print(index*index)             #### karasini aldik, buda baska bir yontem."
   ]
  },
  {
   "cell_type": "code",
   "execution_count": 9,
   "metadata": {},
   "outputs": [],
   "source": [
    "x = [1, 2, 3, 4, 5]"
   ]
  },
  {
   "cell_type": "code",
   "execution_count": 10,
   "metadata": {},
   "outputs": [
    {
     "name": "stdout",
     "output_type": "stream",
     "text": [
      "1\n",
      "4\n",
      "9\n",
      "16\n",
      "25\n"
     ]
    }
   ],
   "source": [
    "for i in x:\n",
    "    print(i**2)"
   ]
  },
  {
   "cell_type": "code",
   "execution_count": 8,
   "metadata": {},
   "outputs": [],
   "source": [
    "names =[\"burcak\", \"seyma\", \"yusuf\", \"hacer\", \"furkan\"]"
   ]
  },
  {
   "cell_type": "code",
   "execution_count": 18,
   "metadata": {},
   "outputs": [
    {
     "name": "stdout",
     "output_type": "stream",
     "text": [
      "Merhaba burcak\n",
      "Merhaba seyma\n",
      "Merhaba yusuf\n",
      "Merhaba hacer\n",
      "Merhaba furkan\n"
     ]
    }
   ],
   "source": [
    "for name in names:\n",
    "    print (f\"Merhaba {name}\")"
   ]
  },
  {
   "cell_type": "code",
   "execution_count": 19,
   "metadata": {},
   "outputs": [
    {
     "name": "stdout",
     "output_type": "stream",
     "text": [
      "Merhaba Burcak\n",
      "Merhaba Seyma\n",
      "Merhaba Yusuf\n",
      "Merhaba Hacer\n",
      "Merhaba Furkan\n"
     ]
    }
   ],
   "source": [
    "for name in names:                                         ### title buyuk harfle yapiyor isimleri\n",
    "    print (f\"Merhaba {name}\".title())"
   ]
  },
  {
   "cell_type": "code",
   "execution_count": 20,
   "metadata": {},
   "outputs": [
    {
     "name": "stdout",
     "output_type": "stream",
     "text": [
      "t-e-c-h-r-o-"
     ]
    }
   ],
   "source": [
    "for i in \"techro\":\n",
    "    print(i,end=\"-\")"
   ]
  },
  {
   "cell_type": "code",
   "execution_count": 30,
   "metadata": {},
   "outputs": [
    {
     "name": "stdout",
     "output_type": "stream",
     "text": [
      "t-e-c-h-p-r-"
     ]
    }
   ],
   "source": [
    "count = 0\n",
    "for i in \"techpro\":                                      ####### ?????????????????\n",
    "    count += 1\n",
    "    if count < len (\"techpro\"):\n",
    "        i = i + \"-\"\n",
    "        print (i, end=\"\")\n",
    "    "
   ]
  },
  {
   "cell_type": "code",
   "execution_count": 31,
   "metadata": {},
   "outputs": [
    {
     "name": "stdout",
     "output_type": "stream",
     "text": [
      "t-e-c-h-p-r-o\n"
     ]
    }
   ],
   "source": [
    "empty_str = \"\"                                    ##### 2. yontem\n",
    "for i in \"techpro\":                \n",
    "    empty_str += (i +\"-\")\n",
    "result = empty_str.rstrip(\"-\")\n",
    "print(result)"
   ]
  },
  {
   "cell_type": "code",
   "execution_count": 32,
   "metadata": {},
   "outputs": [
    {
     "data": {
      "text/plain": [
       "('t', 'e', 'c', 'h', 'p', 'r', 'o')"
      ]
     },
     "execution_count": 32,
     "metadata": {},
     "output_type": "execute_result"
    }
   ],
   "source": [
    "a = tuple(\"techpro\")\n",
    "a"
   ]
  },
  {
   "cell_type": "code",
   "execution_count": 33,
   "metadata": {},
   "outputs": [
    {
     "name": "stdout",
     "output_type": "stream",
     "text": [
      "t\n",
      "e\n",
      "c\n",
      "h\n",
      "p\n",
      "r\n",
      "o\n"
     ]
    }
   ],
   "source": [
    "for i in a:\n",
    "    print(i)"
   ]
  },
  {
   "cell_type": "code",
   "execution_count": 34,
   "metadata": {},
   "outputs": [
    {
     "data": {
      "text/plain": [
       "{'a', 'b', 'h', 'i', 'm', 'r'}"
      ]
     },
     "execution_count": 34,
     "metadata": {},
     "output_type": "execute_result"
    }
   ],
   "source": [
    "b = set(\"ibrahim\")\n",
    "b"
   ]
  },
  {
   "cell_type": "code",
   "execution_count": 35,
   "metadata": {},
   "outputs": [
    {
     "name": "stdout",
     "output_type": "stream",
     "text": [
      "h\n",
      "m\n",
      "b\n",
      "a\n",
      "r\n",
      "i\n"
     ]
    }
   ],
   "source": [
    "for i in b:\n",
    "    print(i)"
   ]
  },
  {
   "cell_type": "code",
   "execution_count": 37,
   "metadata": {},
   "outputs": [],
   "source": [
    "dict_1 ={\"name\" : \"omer\", \"surname\" : \"Gokdemir\", \"age\" : 24}"
   ]
  },
  {
   "cell_type": "code",
   "execution_count": 38,
   "metadata": {},
   "outputs": [
    {
     "name": "stdout",
     "output_type": "stream",
     "text": [
      "name\n",
      "surname\n",
      "age\n"
     ]
    }
   ],
   "source": [
    "for i in dict_1:\n",
    "    print(i)"
   ]
  },
  {
   "cell_type": "code",
   "execution_count": 40,
   "metadata": {},
   "outputs": [
    {
     "name": "stdout",
     "output_type": "stream",
     "text": [
      "name\n",
      "surname\n",
      "age\n"
     ]
    }
   ],
   "source": [
    "for i in dict_1.keys():\n",
    "    print(i)"
   ]
  },
  {
   "cell_type": "code",
   "execution_count": 41,
   "metadata": {},
   "outputs": [
    {
     "name": "stdout",
     "output_type": "stream",
     "text": [
      "omer\n",
      "Gokdemir\n",
      "24\n"
     ]
    }
   ],
   "source": [
    "for i in dict_1.values():\n",
    "    print(i)"
   ]
  },
  {
   "cell_type": "code",
   "execution_count": 42,
   "metadata": {},
   "outputs": [
    {
     "data": {
      "text/plain": [
       "dict_values(['omer', 'Gokdemir', 24])"
      ]
     },
     "execution_count": 42,
     "metadata": {},
     "output_type": "execute_result"
    }
   ],
   "source": [
    "dict_1.values()"
   ]
  },
  {
   "cell_type": "code",
   "execution_count": 44,
   "metadata": {},
   "outputs": [
    {
     "name": "stdout",
     "output_type": "stream",
     "text": [
      "('name', 'omer')\n",
      "('surname', 'Gokdemir')\n",
      "('age', 24)\n"
     ]
    }
   ],
   "source": [
    "for i in dict_1.items():\n",
    "    print(i)"
   ]
  },
  {
   "cell_type": "code",
   "execution_count": 45,
   "metadata": {},
   "outputs": [
    {
     "data": {
      "text/plain": [
       "dict_items([('name', 'omer'), ('surname', 'Gokdemir'), ('age', 24)])"
      ]
     },
     "execution_count": 45,
     "metadata": {},
     "output_type": "execute_result"
    }
   ],
   "source": [
    "dict_1.items()"
   ]
  },
  {
   "cell_type": "code",
   "execution_count": 51,
   "metadata": {},
   "outputs": [
    {
     "name": "stdout",
     "output_type": "stream",
     "text": [
      "key: name, value: omer\n",
      "key: surname, value: Gokdemir\n",
      "key: age, value: 24\n"
     ]
    }
   ],
   "source": [
    "for key, value in dict_1.items ():\n",
    "    print(f\"key: {key}, value: {value}\")"
   ]
  },
  {
   "cell_type": "code",
   "execution_count": 68,
   "metadata": {},
   "outputs": [
    {
     "ename": "TypeError",
     "evalue": "'tuple' object is not callable",
     "output_type": "error",
     "traceback": [
      "\u001b[1;31m---------------------------------------------------------------------------\u001b[0m",
      "\u001b[1;31mTypeError\u001b[0m                                 Traceback (most recent call last)",
      "Cell \u001b[1;32mIn [68], line 1\u001b[0m\n\u001b[1;32m----> 1\u001b[0m \u001b[39mzip\u001b[39;49m (\u001b[39m\"\u001b[39;49m\u001b[39mtechpro\u001b[39;49m\u001b[39m\"\u001b[39;49m, [\u001b[39m1\u001b[39;49m,\u001b[39m2\u001b[39;49m,\u001b[39m3\u001b[39;49m,\u001b[39m4\u001b[39;49m], (\u001b[39m5\u001b[39;49m,\u001b[39m6\u001b[39;49m,\u001b[39m7\u001b[39;49m,\u001b[39m8\u001b[39;49m))\n",
      "\u001b[1;31mTypeError\u001b[0m: 'tuple' object is not callable"
     ]
    }
   ],
   "source": [
    "zip (\"techpro\", [1,2,3,4], (5,6,7,8))    ##### ??????"
   ]
  },
  {
   "cell_type": "code",
   "execution_count": 70,
   "metadata": {},
   "outputs": [
    {
     "ename": "TypeError",
     "evalue": "'tuple' object is not callable",
     "output_type": "error",
     "traceback": [
      "\u001b[1;31m---------------------------------------------------------------------------\u001b[0m",
      "\u001b[1;31mTypeError\u001b[0m                                 Traceback (most recent call last)",
      "Cell \u001b[1;32mIn [70], line 1\u001b[0m\n\u001b[1;32m----> 1\u001b[0m \u001b[39mlist\u001b[39m (\u001b[39mzip\u001b[39;49m (\u001b[39m\"\u001b[39;49m\u001b[39mtechpro\u001b[39;49m\u001b[39m\"\u001b[39;49m, [\u001b[39m1\u001b[39;49m,\u001b[39m2\u001b[39;49m,\u001b[39m3\u001b[39;49m,\u001b[39m4\u001b[39;49m], (\u001b[39m5\u001b[39;49m,\u001b[39m6\u001b[39;49m,\u001b[39m7\u001b[39;49m,\u001b[39m8\u001b[39;49m)))\n",
      "\u001b[1;31mTypeError\u001b[0m: 'tuple' object is not callable"
     ]
    }
   ],
   "source": [
    "list (zip (\"techpro\", [1,2,3,4], (5,6,7,8)))"
   ]
  },
  {
   "cell_type": "code",
   "execution_count": 75,
   "metadata": {},
   "outputs": [
    {
     "data": {
      "text/plain": [
       "'fvgbhn'"
      ]
     },
     "execution_count": 75,
     "metadata": {},
     "output_type": "execute_result"
    }
   ],
   "source": [
    "ceza = input(\"yazilacak sey girin\")\n",
    "ceza"
   ]
  },
  {
   "cell_type": "code",
   "execution_count": 78,
   "metadata": {},
   "outputs": [
    {
     "name": "stdout",
     "output_type": "stream",
     "text": [
      "ceza aldik iyi mi?\n",
      "ceza aldik iyi mi?\n",
      "ceza aldik iyi mi?\n",
      "ceza aldik iyi mi?\n",
      "ceza aldik iyi mi?\n",
      "ceza aldik iyi mi?\n",
      "ceza aldik iyi mi?\n",
      "ceza aldik iyi mi?\n",
      "ceza aldik iyi mi?\n",
      "ceza aldik iyi mi?\n",
      "ceza aldik iyi mi?\n",
      "ceza aldik iyi mi?\n",
      "ceza aldik iyi mi?\n",
      "ceza aldik iyi mi?\n",
      "ceza aldik iyi mi?\n",
      "ceza aldik iyi mi?\n",
      "ceza aldik iyi mi?\n",
      "ceza aldik iyi mi?\n",
      "ceza aldik iyi mi?\n",
      "ceza aldik iyi mi?\n",
      "ceza aldik iyi mi?\n",
      "ceza aldik iyi mi?\n",
      "ceza aldik iyi mi?\n",
      "ceza aldik iyi mi?\n",
      "ceza aldik iyi mi?\n",
      "ceza aldik iyi mi?\n",
      "ceza aldik iyi mi?\n",
      "ceza aldik iyi mi?\n",
      "ceza aldik iyi mi?\n",
      "ceza aldik iyi mi?\n",
      "ceza aldik iyi mi?\n",
      "ceza aldik iyi mi?\n",
      "ceza aldik iyi mi?\n",
      "ceza aldik iyi mi?\n",
      "ceza aldik iyi mi?\n",
      "ceza aldik iyi mi?\n",
      "ceza aldik iyi mi?\n",
      "ceza aldik iyi mi?\n",
      "ceza aldik iyi mi?\n",
      "ceza aldik iyi mi?\n",
      "ceza aldik iyi mi?\n",
      "ceza aldik iyi mi?\n",
      "ceza aldik iyi mi?\n",
      "ceza aldik iyi mi?\n",
      "ceza aldik iyi mi?\n",
      "ceza aldik iyi mi?\n",
      "ceza aldik iyi mi?\n",
      "ceza aldik iyi mi?\n",
      "ceza aldik iyi mi?\n",
      "ceza aldik iyi mi?\n"
     ]
    }
   ],
   "source": [
    "ceza =input (\"cumlenizi giriniz\")\n",
    "for i in range(50):\n",
    "    print (ceza)"
   ]
  },
  {
   "cell_type": "code",
   "execution_count": 79,
   "metadata": {},
   "outputs": [
    {
     "name": "stdout",
     "output_type": "stream",
     "text": [
      "ceza aldik iyi mi?\n",
      "ceza aldik iyi mi?\n",
      "ceza aldik iyi mi?\n",
      "ceza aldik iyi mi?\n",
      "ceza aldik iyi mi?\n"
     ]
    }
   ],
   "source": [
    "count = int(input(\"Kac kere yazilacak:\"))   #### cezayi kullaniciya sorduk\n",
    "for i in range (count):\n",
    "    print(\"ceza aldik iyi mi?\")"
   ]
  },
  {
   "cell_type": "code",
   "execution_count": 82,
   "metadata": {},
   "outputs": [
    {
     "name": "stdout",
     "output_type": "stream",
     "text": [
      "ceza aldik iyi mi?\n",
      "ceza aldik iyi mi?\n",
      "ceza aldik iyi mi?\n",
      "ceza aldik iyi mi?\n",
      "ceza aldik iyi mi?\n"
     ]
    }
   ],
   "source": [
    "a= input(\"ceza giriniz\")\n",
    "b= int(input(\"ceza sayisi giriniz\"))     #### farli yontem ve de cezayi da kullaniciyoa sordul\n",
    "for i in range(b):\n",
    "    print(a)"
   ]
  },
  {
   "cell_type": "code",
   "execution_count": 88,
   "metadata": {},
   "outputs": [
    {
     "name": "stdout",
     "output_type": "stream",
     "text": [
      "5 x 0 = 0\n",
      "5 x 1 = 5\n",
      "5 x 2 = 10\n",
      "5 x 3 = 15\n",
      "5 x 4 = 20\n",
      "5 x 5 = 25\n",
      "5 x 6 = 30\n",
      "5 x 7 = 35\n",
      "5 x 8 = 40\n",
      "5 x 9 = 45\n",
      "5 x 10 = 50\n"
     ]
    }
   ],
   "source": [
    "number = int(input(\"1 den 10 a kadar bir sayi girin\"))\n",
    "if number in [1,2,3,4,5,6,7,8,9,10]:\n",
    "    for i in range(0,11):\n",
    "        print(f\"{number} x {i} = {number * i}\")\n",
    "\n",
    "\n",
    "else:\n",
    "    print(\"1 ile 10 arasinda bir sayi girmenizi istemistik.\")    "
   ]
  },
  {
   "cell_type": "code",
   "execution_count": 7,
   "metadata": {},
   "outputs": [
    {
     "name": "stdout",
     "output_type": "stream",
     "text": [
      "4 x 0 = 0\n",
      "4 x 1 = 4\n",
      "4 x 2 = 8\n",
      "4 x 3 = 12\n",
      "4 x 4 = 16\n",
      "4 x 5 = 20\n",
      "4 x 6 = 24\n",
      "4 x 7 = 28\n",
      "4 x 8 = 32\n",
      "4 x 9 = 36\n",
      "4 x 10 = 40\n"
     ]
    }
   ],
   "source": [
    "while True:                                                    ##### break koymazsak sonsuz donguye girer\n",
    "    number = int(input(\"1 den 10 a kadar bir sayi girin\"))      ### Burada eger 1.sinde farkli girmisse 2.yi tekrar girmeis icin yaptik\n",
    "    if number in [1,2,3,4,5,6,7,8,9,10]:                       ####  burada bir hata var listenin disindan bir sayi aldigimizda calismadi.\n",
    "        for i in range(0,11):\n",
    "            print(f\"{number} x {i} = {number * i}\")\n",
    "    break\n",
    "else:\n",
    "    print(\"1 ile 10 arasinda bir sayi girmenizi istemistik.\")     \n",
    "    number = int(input(\"1 den 10 a kadar bir sayi girin\"))  "
   ]
  },
  {
   "cell_type": "code",
   "execution_count": 8,
   "metadata": {},
   "outputs": [
    {
     "name": "stdout",
     "output_type": "stream",
     "text": [
      "[1, 3, 5, 7, 9]\n",
      "[0, 2, 4, 6, 8, 10]\n"
     ]
    }
   ],
   "source": [
    "odds = []\n",
    "evens = []\n",
    "for i in range(11):\n",
    "    if i % 2:\n",
    "        odds.append(i)\n",
    "    else:\n",
    "        evens.append(i) \n",
    "print(odds)\n",
    "print(evens)"
   ]
  },
  {
   "cell_type": "code",
   "execution_count": 9,
   "metadata": {},
   "outputs": [
    {
     "data": {
      "text/plain": [
       "1275.0"
      ]
     },
     "execution_count": 9,
     "metadata": {},
     "output_type": "execute_result"
    }
   ],
   "source": [
    "50 * 51 / 2                       ### 51 e kadar olan sayilarin toplami nedir?"
   ]
  },
  {
   "cell_type": "code",
   "execution_count": 10,
   "metadata": {},
   "outputs": [
    {
     "data": {
      "text/plain": [
       "1275"
      ]
     },
     "execution_count": 10,
     "metadata": {},
     "output_type": "execute_result"
    }
   ],
   "source": [
    "toplam = 0\n",
    "for i in range(51):                    ### Kod oalrak yazildi 51 e kadari olan sayilarin toplami\n",
    "    toplam += i\n",
    "toplam\n"
   ]
  },
  {
   "cell_type": "code",
   "execution_count": 12,
   "metadata": {},
   "outputs": [
    {
     "data": {
      "text/plain": [
       "1275"
      ]
     },
     "execution_count": 12,
     "metadata": {},
     "output_type": "execute_result"
    }
   ],
   "source": [
    "x = int(input (\"bir sayi girin\"))\n",
    "toplam = 0\n",
    "for i in range (x+1) :\n",
    "    toplam += i\n",
    "toplam"
   ]
  },
  {
   "cell_type": "code",
   "execution_count": 13,
   "metadata": {},
   "outputs": [
    {
     "data": {
      "text/plain": [
       "1275"
      ]
     },
     "execution_count": 13,
     "metadata": {},
     "output_type": "execute_result"
    }
   ],
   "source": [
    "sum(list(range(51)))"
   ]
  },
  {
   "cell_type": "code",
   "execution_count": 14,
   "metadata": {},
   "outputs": [
    {
     "data": {
      "text/plain": [
       "15"
      ]
     },
     "execution_count": 14,
     "metadata": {},
     "output_type": "execute_result"
    }
   ],
   "source": [
    "sum([1,2,3,4,5])"
   ]
  },
  {
   "cell_type": "code",
   "execution_count": 15,
   "metadata": {},
   "outputs": [
    {
     "ename": "TypeError",
     "evalue": "sum() takes at most 2 arguments (3 given)",
     "output_type": "error",
     "traceback": [
      "\u001b[1;31m---------------------------------------------------------------------------\u001b[0m",
      "\u001b[1;31mTypeError\u001b[0m                                 Traceback (most recent call last)",
      "Cell \u001b[1;32mIn [15], line 1\u001b[0m\n\u001b[1;32m----> 1\u001b[0m \u001b[39msum\u001b[39;49m(\u001b[39m\"\u001b[39;49m\u001b[39ma\u001b[39;49m\u001b[39m\"\u001b[39;49m, \u001b[39m\"\u001b[39;49m\u001b[39mb\u001b[39;49m\u001b[39m\"\u001b[39;49m,\u001b[39m\"\u001b[39;49m\u001b[39mc\u001b[39;49m\u001b[39m\"\u001b[39;49m)\n",
      "\u001b[1;31mTypeError\u001b[0m: sum() takes at most 2 arguments (3 given)"
     ]
    }
   ],
   "source": [
    "sum(\"a\", \"b\",\"c\")       #### sum fonksiyounu sadece integer ile calisir"
   ]
  },
  {
   "cell_type": "code",
   "execution_count": 17,
   "metadata": {},
   "outputs": [
    {
     "data": {
      "text/plain": [
       "10"
      ]
     },
     "execution_count": 17,
     "metadata": {},
     "output_type": "execute_result"
    }
   ],
   "source": [
    "sum((1,2,3,4))"
   ]
  },
  {
   "cell_type": "code",
   "execution_count": 16,
   "metadata": {},
   "outputs": [
    {
     "data": {
      "text/plain": [
       "10.5"
      ]
     },
     "execution_count": 16,
     "metadata": {},
     "output_type": "execute_result"
    }
   ],
   "source": [
    "sum((1,2,3,4.5))"
   ]
  },
  {
   "cell_type": "code",
   "execution_count": 19,
   "metadata": {},
   "outputs": [
    {
     "data": {
      "text/plain": [
       "22"
      ]
     },
     "execution_count": 19,
     "metadata": {},
     "output_type": "execute_result"
    }
   ],
   "source": [
    "a = (1,2,3,4,5)\n",
    "x =sum(a, 7)\n",
    "x"
   ]
  },
  {
   "cell_type": "code",
   "execution_count": 20,
   "metadata": {},
   "outputs": [
    {
     "name": "stdout",
     "output_type": "stream",
     "text": [
      "h e l l o\n"
     ]
    }
   ],
   "source": [
    "print(*\"hello\")                     ##### bosluk vererek itterate ediyour."
   ]
  },
  {
   "cell_type": "code",
   "execution_count": 21,
   "metadata": {},
   "outputs": [
    {
     "name": "stdout",
     "output_type": "stream",
     "text": [
      "hello\n"
     ]
    }
   ],
   "source": [
    "print(\"hello\")"
   ]
  },
  {
   "cell_type": "code",
   "execution_count": null,
   "metadata": {},
   "outputs": [],
   "source": [
    "armstrong numbers                                       ###  oyle bir sayi girin ki bunlar amstron mu degil mi sorun"
   ]
  },
  {
   "cell_type": "code",
   "execution_count": 27,
   "metadata": {},
   "outputs": [
    {
     "name": "stdout",
     "output_type": "stream",
     "text": [
      "2 sayisi armstrong bir saydir\n"
     ]
    }
   ],
   "source": [
    "number = input(\"Bir sayi girin\")\n",
    "x =len(number)\n",
    "toplam = 0\n",
    "for i in number :\n",
    "    toplam += int(i)**x\n",
    "if int(number) == toplam:\n",
    "    print(f\"{number} sayisi armstrong bir saydir\")\n",
    "else:\n",
    "    print (f\"{number} sayisi amstrong bir sayi degildir\")\n",
    "\n"
   ]
  }
 ],
 "metadata": {
  "kernelspec": {
   "display_name": "Python 3.10.7 64-bit",
   "language": "python",
   "name": "python3"
  },
  "language_info": {
   "codemirror_mode": {
    "name": "ipython",
    "version": 3
   },
   "file_extension": ".py",
   "mimetype": "text/x-python",
   "name": "python",
   "nbconvert_exporter": "python",
   "pygments_lexer": "ipython3",
   "version": "3.10.7"
  },
  "orig_nbformat": 4,
  "vscode": {
   "interpreter": {
    "hash": "974597dd8ef7879a11ba597ac90f8b666a0a4c4068cc994294f584311e4770be"
   }
  }
 },
 "nbformat": 4,
 "nbformat_minor": 2
}
