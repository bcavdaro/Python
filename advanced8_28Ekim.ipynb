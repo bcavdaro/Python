{
 "cells": [
  {
   "cell_type": "code",
   "execution_count": null,
   "metadata": {},
   "outputs": [],
   "source": []
  },
  {
   "cell_type": "code",
   "execution_count": 1,
   "metadata": {},
   "outputs": [
    {
     "name": "stdout",
     "output_type": "stream",
     "text": [
      "['B', 'g', 'E', 'G', 'E', 'k', 'i', 'e', 'i']\n"
     ]
    }
   ],
   "source": [
    "import re\n",
    "Text =\"Bugun REGEX konusu isleniyor.\"    \n",
    "patern =\"[a-k,A-K]\"\n",
    "netice = re.findall(patern, Text)         ####  []tek karaktere ait olani gosteriyor\n",
    "print(netice)"
   ]
  },
  {
   "cell_type": "code",
   "execution_count": 3,
   "metadata": {},
   "outputs": [
    {
     "name": "stdout",
     "output_type": "stream",
     "text": [
      "['Sevin', 'Selin']\n"
     ]
    }
   ],
   "source": [
    "import re                                 ###  burada vl olanlari aldi.\n",
    "Text=\"Bugun Sevin Selin Serin geldi\"\n",
    "patern = \"Se[vl]in\"\n",
    "netice = re.findall(patern,Text)\n",
    "print(netice)"
   ]
  },
  {
   "cell_type": "code",
   "execution_count": 4,
   "metadata": {},
   "outputs": [
    {
     "name": "stdout",
     "output_type": "stream",
     "text": [
      "['Bug']\n"
     ]
    }
   ],
   "source": [
    "Text =\"Bugun REGEX konusu isleniyor.\"\n",
    "patern = \"B.g\"                                 #### iki nokta koyarsan bos kume\n",
    "netice = re.findall (patern,Text)\n",
    "print(netice)"
   ]
  },
  {
   "cell_type": "code",
   "execution_count": 6,
   "metadata": {},
   "outputs": [
    {
     "name": "stdout",
     "output_type": "stream",
     "text": [
      "['REGEX ']\n"
     ]
    }
   ],
   "source": [
    "Text =\"Bugun REGEX konusu isleniyor.\"\n",
    "patern = \"R.....\"                                 #### iki nokta koyarsan bos kume\n",
    "                                                  #### nokta sayisi karakteri gosteriyor bir daha eklersen asagida bir boslulk olara cikiyo\n",
    "netice = re.findall (patern,Text)\n",
    "print(netice)"
   ]
  },
  {
   "cell_type": "code",
   "execution_count": 8,
   "metadata": {},
   "outputs": [
    {
     "name": "stdout",
     "output_type": "stream",
     "text": [
      "<re.Match object; span=(6, 12), match='REGEX '>\n"
     ]
    }
   ],
   "source": [
    "Text =\"Bugun REGEX konusu isleniyor.\"\n",
    "patern = \"R.....\"                                 \n",
    "netice = re.search(patern,Text)\n",
    "print(netice)"
   ]
  },
  {
   "cell_type": "code",
   "execution_count": 9,
   "metadata": {},
   "outputs": [
    {
     "data": {
      "text/plain": [
       "'REGEX '"
      ]
     },
     "execution_count": 9,
     "metadata": {},
     "output_type": "execute_result"
    }
   ],
   "source": [
    "netice.group()"
   ]
  },
  {
   "cell_type": "code",
   "execution_count": 10,
   "metadata": {},
   "outputs": [
    {
     "data": {
      "text/plain": [
       "(6, 12)"
      ]
     },
     "execution_count": 10,
     "metadata": {},
     "output_type": "execute_result"
    }
   ],
   "source": [
    "netice.span()             ### 6-12 arasinda"
   ]
  },
  {
   "cell_type": "code",
   "execution_count": null,
   "metadata": {},
   "outputs": [],
   "source": [
    "## ^  bunu gorunce metindeki ilk karakterle ile karsilasitiyour.\n",
    "## eger koseli parantez icinde ise haric demek\n",
    "## baslangici kontrol ediyour"
   ]
  },
  {
   "cell_type": "code",
   "execution_count": 11,
   "metadata": {},
   "outputs": [
    {
     "name": "stdout",
     "output_type": "stream",
     "text": [
      "[]\n"
     ]
    }
   ],
   "source": [
    "Text =\"Bugun REGEX konusu isleniyor.\"\n",
    "patern = \"^R.....\"                                 \n",
    "netice = re.findall(patern,Text)\n",
    "print(netice)\n",
    "\n"
   ]
  },
  {
   "cell_type": "code",
   "execution_count": 14,
   "metadata": {},
   "outputs": [
    {
     "name": "stdout",
     "output_type": "stream",
     "text": [
      "['Bugun']\n"
     ]
    }
   ],
   "source": [
    "Text =\"Bugun REGEX konusu isleniyor.\"\n",
    "patern = \"^B....\"                                 \n",
    "netice = re.findall(patern,Text)\n",
    "print(netice)"
   ]
  },
  {
   "cell_type": "code",
   "execution_count": 16,
   "metadata": {},
   "outputs": [
    {
     "name": "stdout",
     "output_type": "stream",
     "text": [
      "['niyor.']\n"
     ]
    }
   ],
   "source": [
    "Text =\"Bugun REGEX konusu isleniyor.\"         ## $ ... ile bitenleri karsilastiriyor ama noktayi koy \n",
    "patern = \"niyor.$\"                                 \n",
    "netice = re.findall(patern,Text)\n",
    "print(netice)"
   ]
  },
  {
   "cell_type": "code",
   "execution_count": 20,
   "metadata": {},
   "outputs": [
    {
     "name": "stdout",
     "output_type": "stream",
     "text": [
      "['en', 'eni', 'eniii']\n"
     ]
    }
   ],
   "source": [
    "Text =\"Bugun REGEXen yeni konusu isleniiiyor.\"             ### * onundeki karakterden hic olmayabilir veya fazladan olabilir\n",
    "patern = \"eni*\"                                   ### Burada en ile baslayan, ancak i olan veya olamayan \n",
    "netice = re.findall(patern,Text)\n",
    "print(netice)"
   ]
  },
  {
   "cell_type": "code",
   "execution_count": 23,
   "metadata": {},
   "outputs": [
    {
     "name": "stdout",
     "output_type": "stream",
     "text": [
      "st\n",
      "sat\n",
      "saat\n",
      "saaat\n"
     ]
    }
   ],
   "source": [
    "yeniliste = [\"st\", \"sat\", \"saat\", \"saaat\", \"falanca\"]\n",
    "for i in yeniliste:\n",
    "    if re.match(\"sa*t\", i):                                   ### +koyarsan st yazmaz.\n",
    "        print(i)                                              ### burada s olmali a olabilir t olmali"
   ]
  },
  {
   "cell_type": "code",
   "execution_count": 26,
   "metadata": {},
   "outputs": [
    {
     "name": "stdout",
     "output_type": "stream",
     "text": [
      "1111.txt\n",
      "ali.txt\n",
      "baba.txt\n",
      "deco1.txt\n"
     ]
    }
   ],
   "source": [
    "import os                                       ### 4. ssatirdaki nokta herhangi bir sey olabilir.\n",
    "dizin = os. listdir(os.getcwd())\n",
    "for i in dizin:\n",
    "    if re.match(\".*txt\",i):\n",
    "        print(i)"
   ]
  },
  {
   "cell_type": "code",
   "execution_count": 28,
   "metadata": {},
   "outputs": [
    {
     "name": "stdout",
     "output_type": "stream",
     "text": [
      "['yeni', 'yeniii']\n"
     ]
    }
   ],
   "source": [
    "Text =\"Bugun REGEXen yeni konusu islyeniiiyor.\"             ### + burada y ve sonrakiler icin kullanilir\n",
    "patern = \"yeni+\"                                 \n",
    "netice = re.findall(patern,Text)\n",
    "print(netice)"
   ]
  },
  {
   "cell_type": "code",
   "execution_count": 31,
   "metadata": {},
   "outputs": [
    {
     "name": "stdout",
     "output_type": "stream",
     "text": [
      "sat\n",
      "saat\n",
      "saaat\n",
      "satfalanca\n"
     ]
    }
   ],
   "source": [
    "yeniliste = [\"st\", \"sat\", \"saat\", \"saaat\", \"satfalanca\"]\n",
    "for i in yeniliste:\n",
    "    if re.match(\"sa+t\", i):                                  \n",
    "        print(i)                                              "
   ]
  },
  {
   "cell_type": "code",
   "execution_count": 32,
   "metadata": {},
   "outputs": [
    {
     "name": "stdout",
     "output_type": "stream",
     "text": [
      "<re.Match object; span=(25, 29), match='ekin'>\n"
     ]
    }
   ],
   "source": [
    "Text=\"Bugun Sevin Selin Serin Tekin geldi\"                   ### .+in in ile biten \n",
    "patern = \".[k]+in\"\n",
    "netice = re.search(patern,Text)\n",
    "print(netice)"
   ]
  },
  {
   "cell_type": "code",
   "execution_count": 33,
   "metadata": {},
   "outputs": [
    {
     "name": "stdout",
     "output_type": "stream",
     "text": [
      "['Se', 'Sel', 'Se']\n"
     ]
    }
   ],
   "source": [
    "Text=\"Sevin Selllin Serin geldi\"                         ### ? onun onundeki olabilir veya olmayabilir\n",
    "patern = \"Sel?\"\n",
    "netice = re.findall(patern,Text)\n",
    "print(netice)"
   ]
  },
  {
   "cell_type": "code",
   "execution_count": 35,
   "metadata": {},
   "outputs": [
    {
     "name": "stdout",
     "output_type": "stream",
     "text": [
      "['Selll']\n"
     ]
    }
   ],
   "source": [
    "Text=\"Sevin Selllin Serin geldi\"             \n",
    "patern = \"Sel{3}\"                                 ###  burada l dend 3 tane olacak olanlari gosteriyour\n",
    "netice = re.findall(patern,Text)\n",
    "print(netice)"
   ]
  },
  {
   "cell_type": "code",
   "execution_count": 37,
   "metadata": {},
   "outputs": [
    {
     "name": "stdout",
     "output_type": "stream",
     "text": [
      "<re.Match object; span=(6, 11), match='Selll'>\n"
     ]
    }
   ],
   "source": [
    "Text=\"Sevin Selllin Serin geldi\"             \n",
    "patern = \"Sel{3}\"                                 \n",
    "netice = re.search(patern,Text)\n",
    "print(netice)                                     #### search de bulundugu dizini gosteriyour"
   ]
  },
  {
   "cell_type": "code",
   "execution_count": 38,
   "metadata": {},
   "outputs": [
    {
     "name": "stdout",
     "output_type": "stream",
     "text": [
      "[]\n"
     ]
    }
   ],
   "source": [
    "Text=\"Sevin Selllin Serin geldi\"             \n",
    "patern = \"Se{2}\"                                 ###  burada e den 2 tane yok o yuzden boskume verdi.\n",
    "netice = re.findall(patern,Text)\n",
    "print(netice)"
   ]
  },
  {
   "cell_type": "code",
   "execution_count": 39,
   "metadata": {},
   "outputs": [
    {
     "name": "stdout",
     "output_type": "stream",
     "text": [
      "[]\n"
     ]
    }
   ],
   "source": [
    "Text = \"Dayim bana 80000$ harclik verdi.\"                    #### burada $isareti yukarida gorduk sonu gosteriyourdu \n",
    "patern = \"[0-9]+$\"\n",
    "netice = re.findall(patern,Text)\n",
    "print(netice)"
   ]
  },
  {
   "cell_type": "code",
   "execution_count": 40,
   "metadata": {},
   "outputs": [
    {
     "name": "stdout",
     "output_type": "stream",
     "text": [
      "['80000$']\n"
     ]
    }
   ],
   "source": [
    "Text = \"Dayim bana 80000$ harclik verdi.\"                    #### burada $isareti yukarida gorduk sonu gosteriyourdu \n",
    "patern = \"[0-9]+\\$\"                                          ## ama biz dolar isaretini gormek istedik \\ bu isaret kacis gosteiyour\n",
    "netice = re.findall(patern,Text)                              ## \\ koyunca bu ordaki komutlarla alakali degil diyour\n",
    "print(netice)"
   ]
  },
  {
   "cell_type": "code",
   "execution_count": 44,
   "metadata": {},
   "outputs": [
    {
     "name": "stdout",
     "output_type": "stream",
     "text": [
      "['80.000$']\n"
     ]
    }
   ],
   "source": [
    "Text = \"Dayim bana 80.000$ harclik verdi.\"                    #### burada $isareti yukarida gorduk sonu gosteriyourdu \n",
    "patern = \"[0-9.]+\\$\"                                           ### . sayi icindeki noktayi gostermek iicn\n",
    "netice = re.findall(patern,Text)\n",
    "print(netice)"
   ]
  },
  {
   "cell_type": "code",
   "execution_count": 46,
   "metadata": {},
   "outputs": [
    {
     "name": "stdout",
     "output_type": "stream",
     "text": [
      "['Se', 'geldi']\n"
     ]
    }
   ],
   "source": [
    "Text = \"Sevin Serra Hemra geldi\"                     ### ^ basi Se ile baslayacak,  \n",
    "patern = \"^Se|...di$\"                                ### | veya yani se ile baslayacak ya da di ile bitirecek olanlari gosterecek\n",
    "netice = re.findall(patern, Text)                    ### $ sonu di ile bitecek\n",
    "print(netice)"
   ]
  },
  {
   "cell_type": "code",
   "execution_count": 47,
   "metadata": {},
   "outputs": [
    {
     "name": "stdout",
     "output_type": "stream",
     "text": [
      "['Sevin ', 'geldi']\n"
     ]
    }
   ],
   "source": [
    "Text = \"Sevin Serra Hemra geldi\"                     \n",
    "patern = \"^Se....|...di$\"                                \n",
    "netice = re.findall(patern, Text)                    \n",
    "print(netice)"
   ]
  },
  {
   "cell_type": "code",
   "execution_count": 52,
   "metadata": {},
   "outputs": [
    {
     "name": "stdout",
     "output_type": "stream",
     "text": [
      "[('Sevin', 'v'), ('Sein', '')]\n"
     ]
    }
   ],
   "source": [
    "Text =\"Sevin Serra Sein geldi\"                     \n",
    "patern = \"(Se(v)*in)\"                                \n",
    "netice = re.findall(patern, Text)                    \n",
    "print(netice)"
   ]
  },
  {
   "cell_type": "code",
   "execution_count": 53,
   "metadata": {},
   "outputs": [
    {
     "name": "stdout",
     "output_type": "stream",
     "text": [
      "['Bugun', 'REGEX', 'yeni', 'konusu', 'isleniyor.']\n"
     ]
    }
   ],
   "source": [
    "Text =\"Bugun REGEX yeni konusu isleniyor.\"             ### normal split gibi patern=\" \"\n",
    "patern = \"\\s\"                                 \n",
    "netice = re.split(patern,Text)\n",
    "print(netice)"
   ]
  },
  {
   "cell_type": "code",
   "execution_count": 54,
   "metadata": {},
   "outputs": [
    {
     "name": "stdout",
     "output_type": "stream",
     "text": [
      "['B', 'g', 'n REGEX yeni kon', 's', ' isleniyor.']\n"
     ]
    }
   ],
   "source": [
    "Text =\"Bugun REGEX yeni konusu isleniyor.\"             ### burada u yu almadan ayirdi.\n",
    "patern = \"u\"                                 \n",
    "netice = re.split(patern,Text)\n",
    "print(netice)"
   ]
  },
  {
   "cell_type": "code",
   "execution_count": 56,
   "metadata": {},
   "outputs": [
    {
     "name": "stdout",
     "output_type": "stream",
     "text": [
      "Bugun-REGEX-yeni-konusu-isleniyor.\n"
     ]
    }
   ],
   "source": [
    "Text =\"Bugun REGEX yeni konusu isleniyor.\"             ###    bosluk burakip - koydu.                            \n",
    "netice = re.sub(\"\\s\",\"-\",Text)\n",
    "print(netice)"
   ]
  },
  {
   "cell_type": "code",
   "execution_count": 58,
   "metadata": {},
   "outputs": [
    {
     "data": {
      "text/plain": [
       "'Bugun-REGEX-yeni-konusu-isleniyor.'"
      ]
     },
     "execution_count": 58,
     "metadata": {},
     "output_type": "execute_result"
    }
   ],
   "source": [
    "Text.replace(\" \",\"-\")                                  ### 2.yontemi yukardakinin"
   ]
  },
  {
   "cell_type": "code",
   "execution_count": 62,
   "metadata": {},
   "outputs": [
    {
     "name": "stdout",
     "output_type": "stream",
     "text": [
      "Bugun TT konusu TT isleniyor.\n"
     ]
    }
   ],
   "source": [
    "Text=\"Bugun REGEX konusu Reni  isleniyor.\"\n",
    "netice = re.sub(\"R....\", \"TT\", Text)                        ###  R ile baslayan karakteri TT ile yerdegistiriyourz.Buradaki bosluguda alip 5 \n",
    "print (netice)                                                ##   karakter gibi dusundu"
   ]
  },
  {
   "cell_type": "code",
   "execution_count": 66,
   "metadata": {},
   "outputs": [
    {
     "name": "stdout",
     "output_type": "stream",
     "text": [
      "<re.Match object; span=(19, 26), match='29 Ekim'>\n"
     ]
    }
   ],
   "source": [
    "Text = \"Cumhuriyet Bayrami 29 Ekim tarihinde kutlanacaktir.\"  # + nin anlami soldaki birden fazla olabilir.\n",
    "patern = \"[0-9]+\\s[a-z,A-Z]+\"        \n",
    "tarih = re.search(patern, Text)\n",
    "print(tarih)"
   ]
  },
  {
   "cell_type": "code",
   "execution_count": 67,
   "metadata": {},
   "outputs": [
    {
     "data": {
      "text/plain": [
       "'29 Ekim'"
      ]
     },
     "execution_count": 67,
     "metadata": {},
     "output_type": "execute_result"
    }
   ],
   "source": [
    "tarih.group(0)                               ### "
   ]
  },
  {
   "cell_type": "code",
   "execution_count": 68,
   "metadata": {},
   "outputs": [
    {
     "data": {
      "text/plain": [
       "(19, 26)"
      ]
     },
     "execution_count": 68,
     "metadata": {},
     "output_type": "execute_result"
    }
   ],
   "source": [
    "tarih.span()"
   ]
  },
  {
   "cell_type": "code",
   "execution_count": 69,
   "metadata": {},
   "outputs": [
    {
     "name": "stdout",
     "output_type": "stream",
     "text": [
      "<re.Match object; span=(18, 26), match=' 29 Ekim'>\n"
     ]
    }
   ],
   "source": [
    "Text = \"Cumhuriyet Bayrami 29 Ekim tarihinde kutlanacaktir.\"  ##s yi kaldirirsan 29 un onundeki bosluk kalkar\n",
    "patern = \"\\s\\d\\d\\s\\w+\"        \n",
    "tarih = re.search(patern, Text)\n",
    "print(tarih)"
   ]
  },
  {
   "cell_type": "code",
   "execution_count": 70,
   "metadata": {},
   "outputs": [
    {
     "name": "stdout",
     "output_type": "stream",
     "text": [
      "None\n"
     ]
    }
   ],
   "source": [
    "Text = \"Cumhuriyet Bayrami 9 Ekim tarihinde kutlanacaktir.\"  ## sayi tek haneli o yuzden secmedi\n",
    "tarih = re.search(patern, Text)\n",
    "print(tarih)"
   ]
  },
  {
   "cell_type": "code",
   "execution_count": 71,
   "metadata": {},
   "outputs": [
    {
     "name": "stdout",
     "output_type": "stream",
     "text": [
      "<re.Match object; span=(19, 25), match='29Ekim'>\n"
     ]
    }
   ],
   "source": [
    "Text = \"Cumhuriyet Bayrami 29Ekim tarihinde kutlanacaktir.\"  ##\n",
    "patern = \"\\d+\\w+\"        \n",
    "tarih = re.search(patern, Text)\n",
    "print(tarih)"
   ]
  },
  {
   "cell_type": "code",
   "execution_count": 73,
   "metadata": {},
   "outputs": [
    {
     "name": "stdout",
     "output_type": "stream",
     "text": [
      "['Uluslararasi', 'uluslar arasi']\n"
     ]
    }
   ],
   "source": [
    "Text = \"Uluslararasi toplanti uluslar arasi nda yapildi.\"\n",
    "patern =\"[Uu]luslar\\s*arasi\"  \n",
    "tarih = re.findall(patern,Text)\n",
    "print(tarih)      \n"
   ]
  },
  {
   "cell_type": "code",
   "execution_count": 74,
   "metadata": {},
   "outputs": [
    {
     "name": "stdout",
     "output_type": "stream",
     "text": [
      "23BH56\n",
      "TY76Z\n",
      "4Y7UZ\n",
      "34534\n"
     ]
    }
   ],
   "source": [
    "a = [\"23BH56\",\"TY76Z\",\"4Y7UZ\",\"TyUDZ\",\"34534\",\"Aa123\"]\n",
    "for i in a:\n",
    "    nesne= re.match(\"[0-9A-Z][^a-z]+\",i)\n",
    "    if nesne:\n",
    "        print(nesne.group())"
   ]
  },
  {
   "cell_type": "code",
   "execution_count": 77,
   "metadata": {},
   "outputs": [
    {
     "name": "stdout",
     "output_type": "stream",
     "text": [
      "[' 1940', ' 2020']\n"
     ]
    }
   ],
   "source": [
    "Text = \"Dogum tarihi 1940 vefat tarihi 2020Nisan\"    ## onunde bosluk olacak rakam olack, ve 4 basamakli olacak rakamlar\n",
    "patern = \"\\s\\d{4}\"\n",
    "tarih = re.findall (patern,Text)\n",
    "print(tarih)"
   ]
  },
  {
   "cell_type": "code",
   "execution_count": 78,
   "metadata": {},
   "outputs": [
    {
     "name": "stdout",
     "output_type": "stream",
     "text": [
      "['1940', '2020']\n"
     ]
    }
   ],
   "source": [
    "Text = \"Dogum tarihi 1940 vefat tarihi 2020Nisan\"    ## onunde bosluk olmasin dedik\n",
    "patern = \"\\d{4}\"\n",
    "tarih = re.findall (patern,Text)\n",
    "print(tarih)"
   ]
  },
  {
   "cell_type": "code",
   "execution_count": 79,
   "metadata": {},
   "outputs": [
    {
     "name": "stdout",
     "output_type": "stream",
     "text": [
      "[' 2020']\n"
     ]
    }
   ],
   "source": [
    "Text = \"Dogum tarihi a1940 vefat tarihi 2020Nisan\"   \n",
    "patern = \"\\s\\d{4}\"                                                        ###onune kucuk a olani almadi cunku sartimiz var\n",
    "tarih = re.findall (patern,Text)\n",
    "print(tarih)"
   ]
  },
  {
   "cell_type": "code",
   "execution_count": 80,
   "metadata": {},
   "outputs": [
    {
     "name": "stdout",
     "output_type": "stream",
     "text": [
      "['1940', ' 2020']\n"
     ]
    }
   ],
   "source": [
    "Text = \"Dogum tarihi a1940 vefat tarihi 2020Nisan\"    ## a siz yazmak istedik o yuzden * isareti koydu\n",
    "patern = \"\\s*\\d{4}\"\n",
    "tarih = re.findall (patern,Text)\n",
    "print(tarih)"
   ]
  },
  {
   "cell_type": "code",
   "execution_count": 81,
   "metadata": {},
   "outputs": [
    {
     "name": "stdout",
     "output_type": "stream",
     "text": [
      "[' 2020Nisan']\n"
     ]
    }
   ],
   "source": [
    "Text = \"Dogum tarihi 1940 vefat tarihi 2020Nisan\"    ## 2020nisan i birlikte aldik  w+ rakamda karakterde olabilir\n",
    "patern = \"\\s\\d{4}\\w+\"\n",
    "tarih = re.findall (patern,Text)\n",
    "print(tarih)"
   ]
  },
  {
   "cell_type": "code",
   "execution_count": 82,
   "metadata": {},
   "outputs": [
    {
     "name": "stdout",
     "output_type": "stream",
     "text": [
      "[' 1940 vefat', ' 2020Nisan']\n"
     ]
    }
   ],
   "source": [
    "Text = \"Dogum tarihi 1940 vefat tarihi 2020Nisan\"    ## burada iki tarihi de almak istedik.\n",
    "patern = \"\\s\\d{4}\\s*\\w+\"\n",
    "tarih = re.findall (patern,Text)\n",
    "print(tarih)"
   ]
  },
  {
   "cell_type": "code",
   "execution_count": null,
   "metadata": {},
   "outputs": [],
   "source": [
    "### compile  sistemi kolaylstiriyor"
   ]
  },
  {
   "cell_type": "code",
   "execution_count": 83,
   "metadata": {},
   "outputs": [
    {
     "name": "stdout",
     "output_type": "stream",
     "text": [
      "<re.Match object; span=(12, 23), match=' 1940 vefat'>\n"
     ]
    }
   ],
   "source": [
    "Text = \"Dogum tarihi 1940 vefat tarihi 2020Nisan\"      ### search te bize ilk degeri gosteriyour\n",
    "comp = re.compile(\"\\s\\d{4}\")                          ### patern de yazabilirdik\n",
    "tarih = re.search (patern,Text)\n",
    "print(tarih)"
   ]
  },
  {
   "cell_type": "code",
   "execution_count": 87,
   "metadata": {},
   "outputs": [
    {
     "name": "stdout",
     "output_type": "stream",
     "text": [
      "['1940 Mart', '2020 Nisan', '2020 Mayis']\n"
     ]
    }
   ],
   "source": [
    "Text = \"Dogum tarihi 1940 Mart vefat tarihi 2020 Nisan 2020 Mayis\"    \n",
    "pat =  re.compile(\"\\d{4}\\s*\\w+\")\n",
    "tarih = pat.findall (Text)\n",
    "print(tarih)"
   ]
  },
  {
   "cell_type": "code",
   "execution_count": 89,
   "metadata": {},
   "outputs": [
    {
     "name": "stdout",
     "output_type": "stream",
     "text": [
      "Bugun 1 Temmuz yarin 2 Temmuz\n"
     ]
    }
   ],
   "source": [
    "Text = \"Bugun 1 ekim yarin 2 Ekim\"                        ## sub replace gibi\n",
    "comp = re.compile(\"ekim\", re.I)                           ##  I  ?????\n",
    "deg = comp.sub(\"Temmuz\",Text)\n",
    "print(deg)"
   ]
  },
  {
   "cell_type": "code",
   "execution_count": 90,
   "metadata": {},
   "outputs": [
    {
     "name": "stdout",
     "output_type": "stream",
     "text": [
      "('Bugun 1 Temmuz yarin 2 Temmuz', 2)\n"
     ]
    }
   ],
   "source": [
    "Text = \"Bugun 1 ekim yarin 2 Ekim\"                        ## subn  kac degisiklik yaptigini gosteriyour n\n",
    "comp = re.compile(\"ekim\", re.I)                           \n",
    "deg = comp.subn(\"Temmuz\",Text)\n",
    "print(deg)"
   ]
  },
  {
   "cell_type": "code",
   "execution_count": 91,
   "metadata": {},
   "outputs": [
    {
     "name": "stdout",
     "output_type": "stream",
     "text": [
      "Bugun 1 Temmuz yarin 2 Temmuz\n"
     ]
    }
   ],
   "source": [
    "Text = \"Bugun 1 ekim yarin 2 Ekim\"                        ## kactane degisiklik oldgunu gormek istemiyoz \n",
    "comp = re.compile(\"ekim\", re.I)                           \n",
    "deg = comp.subn(\"Temmuz\",Text)\n",
    "print(deg[0])"
   ]
  },
  {
   "cell_type": "code",
   "execution_count": 93,
   "metadata": {},
   "outputs": [
    {
     "name": "stdout",
     "output_type": "stream",
     "text": [
      "2\n"
     ]
    }
   ],
   "source": [
    "Text = \"Bugun 1 ekim yarin 2 Ekim\"                   ### sadece degisikligi kactane oldughunu gosteriyour    \n",
    "comp = re.compile(\"ekim\", re.I)                           \n",
    "deg = comp.subn(\"Temmuz\",Text)\n",
    "print(deg[1])"
   ]
  },
  {
   "cell_type": "code",
   "execution_count": 94,
   "metadata": {},
   "outputs": [],
   "source": [
    "Text = \"Dag Mahallesi. Sehrinaz Sok. No:2 360450 Kadikoy/istanbul\"\n"
   ]
  },
  {
   "cell_type": "code",
   "execution_count": 95,
   "metadata": {},
   "outputs": [],
   "source": [
    "patern = \"\\d\\d\\d\\d\\d\\d\"     ### 6 rakamli oalni goster"
   ]
  },
  {
   "cell_type": "code",
   "execution_count": 98,
   "metadata": {},
   "outputs": [],
   "source": [
    "patern = \"\\d{6}\"                    ### Bu sekilde de yazabiliryourz"
   ]
  },
  {
   "cell_type": "code",
   "execution_count": 99,
   "metadata": {},
   "outputs": [],
   "source": [
    "sonu=re.search(patern,Text)\n"
   ]
  },
  {
   "cell_type": "code",
   "execution_count": 100,
   "metadata": {},
   "outputs": [
    {
     "data": {
      "text/plain": [
       "(34, 40)"
      ]
     },
     "execution_count": 100,
     "metadata": {},
     "output_type": "execute_result"
    }
   ],
   "source": [
    "sonu.span()"
   ]
  },
  {
   "cell_type": "code",
   "execution_count": 101,
   "metadata": {},
   "outputs": [
    {
     "data": {
      "text/plain": [
       "'360450'"
      ]
     },
     "execution_count": 101,
     "metadata": {},
     "output_type": "execute_result"
    }
   ],
   "source": [
    "sonu.group()          ## eger patern = \"\\d{5}\" olursa 36045"
   ]
  },
  {
   "cell_type": "code",
   "execution_count": 102,
   "metadata": {},
   "outputs": [],
   "source": [
    "Text = \"Dag Mahallesi. Sehrinaz Sok. No:2 360450 Kadikoy/istanbul tlf: 0532-5327877\"\n",
    "patern = \"\\d{3,4}-\\d{7}\"\n",
    "sonu = re.search(patern,Text)"
   ]
  },
  {
   "cell_type": "code",
   "execution_count": 103,
   "metadata": {},
   "outputs": [
    {
     "data": {
      "text/plain": [
       "(63, 75)"
      ]
     },
     "execution_count": 103,
     "metadata": {},
     "output_type": "execute_result"
    }
   ],
   "source": [
    "sonu.span()"
   ]
  },
  {
   "cell_type": "code",
   "execution_count": 104,
   "metadata": {},
   "outputs": [
    {
     "data": {
      "text/plain": [
       "'0532-5327877'"
      ]
     },
     "execution_count": 104,
     "metadata": {},
     "output_type": "execute_result"
    }
   ],
   "source": [
    "sonu.group()"
   ]
  },
  {
   "cell_type": "code",
   "execution_count": 105,
   "metadata": {},
   "outputs": [
    {
     "data": {
      "text/plain": [
       "'Dag Mahallesi. Sehrinaz Sok. No:2 360450 Kadikoy/istanbul tlf: 0532-5327877'"
      ]
     },
     "execution_count": 105,
     "metadata": {},
     "output_type": "execute_result"
    }
   ],
   "source": [
    "sonu.string"
   ]
  },
  {
   "cell_type": "code",
   "execution_count": 106,
   "metadata": {},
   "outputs": [
    {
     "data": {
      "text/plain": [
       "((63, 75),)"
      ]
     },
     "execution_count": 106,
     "metadata": {},
     "output_type": "execute_result"
    }
   ],
   "source": [
    "sonu.regs"
   ]
  },
  {
   "cell_type": "code",
   "execution_count": null,
   "metadata": {},
   "outputs": [],
   "source": [
    "### \\d{3},\\d{3,},d\\{3,5}, d\\* (sifir ya da daha fazla), \\d+\\w+ (1 ya da daha fazla), A\\? ya 1 ada hic"
   ]
  },
  {
   "cell_type": "code",
   "execution_count": 107,
   "metadata": {},
   "outputs": [
    {
     "name": "stdout",
     "output_type": "stream",
     "text": [
      "(45, 50) selak\n"
     ]
    }
   ],
   "source": [
    "Text = \"kl 124 456 7891 abc defg hijklmn selm selami selak\"   \n",
    "patern = \"selak+\"\n",
    "netice = re.search(patern, Text)\n",
    "print(netice.span(), netice.group())\n"
   ]
  },
  {
   "cell_type": "code",
   "execution_count": 113,
   "metadata": {},
   "outputs": [],
   "source": []
  },
  {
   "cell_type": "code",
   "execution_count": 122,
   "metadata": {},
   "outputs": [
    {
     "name": "stdout",
     "output_type": "stream",
     "text": [
      "(0, 5)  Dag \n",
      "(60, 65)  tlf \n"
     ]
    }
   ],
   "source": [
    "Text = \" Dag Mahallesi. Sehrinaz Sok. No:2 360450 Kadikoy / istanbul tlf : 0532-5327877\"\n",
    "patern = \"\\s\\w{3,4}\\s\"\n",
    "for netice in re.finditer(patern,Text):\n",
    "     print(netice.span(),netice.group())"
   ]
  },
  {
   "cell_type": "code",
   "execution_count": 124,
   "metadata": {},
   "outputs": [
    {
     "name": "stdout",
     "output_type": "stream",
     "text": [
      "(0, 5)  Dag \n",
      "(15, 25)  Sehrinaz \n",
      "(34, 42)  360450 \n",
      "(42, 51)  Kadikoy \n",
      "(52, 62)  istanbul \n"
     ]
    }
   ],
   "source": [
    "Text = \" Dag Mahallesi. Sehrinaz Sok. No:2 360450  Kadikoy / istanbul tlf : 0532-5327877 \"\n",
    "patern = \"\\s\\w{3,28}\\s\"\n",
    "for netice in re.finditer(patern,Text):                      ### Burada karakter sayisini artirdik\n",
    "     print(netice.span(),netice.group())"
   ]
  },
  {
   "cell_type": "code",
   "execution_count": 126,
   "metadata": {},
   "outputs": [
    {
     "name": "stdout",
     "output_type": "stream",
     "text": [
      "(49, 52)  / \n",
      "(64, 67)  : \n"
     ]
    }
   ],
   "source": [
    "Text = \" Dag Mahallesi. Sehrinaz Sok. No:2 360450 Kadikoy / istanbul tlf : 0532-5327877\"\n",
    "patern = \"\\s\\W{1,28}\\s\"\n",
    "for netice in re.finditer(patern,Text):\n",
    "     print(netice.span(),netice.group())               ### W alfabetik olmayan harfler"
   ]
  },
  {
   "cell_type": "code",
   "execution_count": 127,
   "metadata": {},
   "outputs": [
    {
     "name": "stdout",
     "output_type": "stream",
     "text": [
      "(29, 34)  No:2\n"
     ]
    }
   ],
   "source": [
    "Text = \" Dag Mahallesi. Sehrinaz Sok. No:2 360450 Kadikoy / istanbul tlf : 0532-5327877\"\n",
    "patern = \"\\s\\D{3}\\d\"\n",
    "for netice in re.finditer(patern,Text):          ###saysal olmayan 3 karakterden sonra 1 sayi\n",
    "     print(netice.span(),netice.group())"
   ]
  },
  {
   "cell_type": "code",
   "execution_count": 130,
   "metadata": {},
   "outputs": [
    {
     "name": "stdout",
     "output_type": "stream",
     "text": [
      "['yagmur', 'ya']\n"
     ]
    }
   ],
   "source": [
    "txt = \"Bu sabah yagmur var ya istanbul'da...\"           ### kesmedn sonrakiler icin \\bi\\w+\\'\\w+\n",
    "x =re.findall(r\"\\by\\w+\", txt)\n",
    "print(x)                                               ###  b basinda  veya sonundaysa ile baslayan kelime"
   ]
  },
  {
   "cell_type": "code",
   "execution_count": null,
   "metadata": {},
   "outputs": [],
   "source": [
    "#### WEB PATERN OLUSTURMA        ????? "
   ]
  }
 ],
 "metadata": {
  "kernelspec": {
   "display_name": "Python 3.10.7 64-bit",
   "language": "python",
   "name": "python3"
  },
  "language_info": {
   "codemirror_mode": {
    "name": "ipython",
    "version": 3
   },
   "file_extension": ".py",
   "mimetype": "text/x-python",
   "name": "python",
   "nbconvert_exporter": "python",
   "pygments_lexer": "ipython3",
   "version": "3.10.7"
  },
  "orig_nbformat": 4,
  "vscode": {
   "interpreter": {
    "hash": "974597dd8ef7879a11ba597ac90f8b666a0a4c4068cc994294f584311e4770be"
   }
  }
 },
 "nbformat": 4,
 "nbformat_minor": 2
}
