{
 "cells": [
  {
   "cell_type": "code",
   "execution_count": 4,
   "metadata": {},
   "outputs": [],
   "source": [
    "####  GLOBAL DEGIMI"
   ]
  },
  {
   "cell_type": "code",
   "execution_count": 5,
   "metadata": {},
   "outputs": [],
   "source": [
    "a=55\n",
    "def deneme (x,y) :\n",
    "    return x+y+a"
   ]
  },
  {
   "cell_type": "code",
   "execution_count": 6,
   "metadata": {},
   "outputs": [
    {
     "data": {
      "text/plain": [
       "66"
      ]
     },
     "execution_count": 6,
     "metadata": {},
     "output_type": "execute_result"
    }
   ],
   "source": [
    "b=deneme(5,6)\n",
    "b"
   ]
  },
  {
   "cell_type": "code",
   "execution_count": 7,
   "metadata": {},
   "outputs": [],
   "source": [
    "a=55\n",
    "def deneme (x,y) :\n",
    "    a=25\n",
    "    return x+y+a"
   ]
  },
  {
   "cell_type": "code",
   "execution_count": 8,
   "metadata": {},
   "outputs": [
    {
     "data": {
      "text/plain": [
       "36"
      ]
     },
     "execution_count": 8,
     "metadata": {},
     "output_type": "execute_result"
    }
   ],
   "source": [
    "b=deneme(5,6)\n",
    "b"
   ]
  },
  {
   "cell_type": "code",
   "execution_count": 9,
   "metadata": {},
   "outputs": [
    {
     "data": {
      "text/plain": [
       "55"
      ]
     },
     "execution_count": 9,
     "metadata": {},
     "output_type": "execute_result"
    }
   ],
   "source": [
    "a"
   ]
  },
  {
   "cell_type": "code",
   "execution_count": 10,
   "metadata": {},
   "outputs": [],
   "source": [
    "x=set()\n",
    "def fonk():\n",
    "    x.add(10)\n",
    "    return x"
   ]
  },
  {
   "cell_type": "code",
   "execution_count": 11,
   "metadata": {},
   "outputs": [
    {
     "name": "stdout",
     "output_type": "stream",
     "text": [
      "{10}\n"
     ]
    }
   ],
   "source": [
    "print(fonk())"
   ]
  },
  {
   "cell_type": "code",
   "execution_count": 12,
   "metadata": {},
   "outputs": [
    {
     "data": {
      "text/plain": [
       "'Trabi Ozgul'"
      ]
     },
     "execution_count": 12,
     "metadata": {},
     "output_type": "execute_result"
    }
   ],
   "source": [
    "isim='Trabi'\n",
    "isim += ' Ozgul'                                     ###isim.add('ozgul')\n",
    "isim"
   ]
  },
  {
   "cell_type": "code",
   "execution_count": 13,
   "metadata": {},
   "outputs": [
    {
     "ename": "UnboundLocalError",
     "evalue": "local variable 'isim' referenced before assignment",
     "output_type": "error",
     "traceback": [
      "\u001b[1;31m---------------------------------------------------------------------------\u001b[0m",
      "\u001b[1;31mUnboundLocalError\u001b[0m                         Traceback (most recent call last)",
      "Cell \u001b[1;32mIn [13], line 6\u001b[0m\n\u001b[0;32m      3\u001b[0m     isim \u001b[39m+\u001b[39m\u001b[39m=\u001b[39m \u001b[39m'\u001b[39m\u001b[39m Ozgul\u001b[39m\u001b[39m'\u001b[39m\n\u001b[0;32m      4\u001b[0m     \u001b[39mreturn\u001b[39;00m  isim\n\u001b[1;32m----> 6\u001b[0m \u001b[39mprint\u001b[39m(fonk())\n",
      "Cell \u001b[1;32mIn [13], line 3\u001b[0m, in \u001b[0;36mfonk\u001b[1;34m()\u001b[0m\n\u001b[0;32m      2\u001b[0m \u001b[39mdef\u001b[39;00m \u001b[39mfonk\u001b[39m():\n\u001b[1;32m----> 3\u001b[0m     isim \u001b[39m+\u001b[39m\u001b[39m=\u001b[39m \u001b[39m'\u001b[39m\u001b[39m Ozgul\u001b[39m\u001b[39m'\u001b[39m\n\u001b[0;32m      4\u001b[0m     \u001b[39mreturn\u001b[39;00m  isim\n",
      "\u001b[1;31mUnboundLocalError\u001b[0m: local variable 'isim' referenced before assignment"
     ]
    }
   ],
   "source": [
    "isim = 'Trabi'\n",
    "def fonk():\n",
    "    isim += ' Ozgul'\n",
    "    return  isim\n",
    "\n",
    "print(fonk())"
   ]
  },
  {
   "cell_type": "code",
   "execution_count": null,
   "metadata": {},
   "outputs": [
    {
     "name": "stdout",
     "output_type": "stream",
     "text": [
      "Trabi Ozgul\n"
     ]
    }
   ],
   "source": [
    "isim = 'Trabi'                                    ### global i dikkatli kullanmak lazim\n",
    "def fonk():\n",
    "    global isim\n",
    "    isim += ' Ozgul'\n",
    "    return  isim\n",
    "\n",
    "print(fonk())"
   ]
  },
  {
   "cell_type": "code",
   "execution_count": null,
   "metadata": {},
   "outputs": [],
   "source": [
    "def deneme (x,y):\n",
    "    f=25\n",
    "    return x+y+f"
   ]
  },
  {
   "cell_type": "code",
   "execution_count": null,
   "metadata": {},
   "outputs": [
    {
     "data": {
      "text/plain": [
       "55"
      ]
     },
     "execution_count": 26,
     "metadata": {},
     "output_type": "execute_result"
    }
   ],
   "source": [
    "deneme(10,20)\n"
   ]
  },
  {
   "cell_type": "code",
   "execution_count": null,
   "metadata": {},
   "outputs": [],
   "source": [
    "def deneme (x,y):\n",
    "    global f\n",
    "    f=25\n",
    "    return x+y+f"
   ]
  },
  {
   "cell_type": "code",
   "execution_count": null,
   "metadata": {},
   "outputs": [
    {
     "data": {
      "text/plain": [
       "55"
      ]
     },
     "execution_count": 28,
     "metadata": {},
     "output_type": "execute_result"
    }
   ],
   "source": [
    "deneme(10,20)"
   ]
  },
  {
   "cell_type": "code",
   "execution_count": null,
   "metadata": {},
   "outputs": [
    {
     "data": {
      "text/plain": [
       "25"
      ]
     },
     "execution_count": 29,
     "metadata": {},
     "output_type": "execute_result"
    }
   ],
   "source": [
    "f"
   ]
  },
  {
   "cell_type": "code",
   "execution_count": null,
   "metadata": {},
   "outputs": [],
   "source": [
    "##########              eval() ve exec()             ############"
   ]
  },
  {
   "cell_type": "code",
   "execution_count": 16,
   "metadata": {},
   "outputs": [],
   "source": [
    "ocak=mart=mayis=temmuz=31\n",
    "nisan=haziran=30\n",
    "subat=28"
   ]
  },
  {
   "cell_type": "code",
   "execution_count": 14,
   "metadata": {},
   "outputs": [],
   "source": [
    "donem = input(\"\"\"Hangi aa ait faturayi hesaplamak istersiniz?\n",
    "(lutfen a adini tamami kucuk harf..\\n)\"\"\")"
   ]
  },
  {
   "cell_type": "code",
   "execution_count": 17,
   "metadata": {},
   "outputs": [
    {
     "name": "stdout",
     "output_type": "stream",
     "text": [
      "subat 28\n"
     ]
    }
   ],
   "source": [
    "ay = eval (donem)       #### eval in ozelligi  icindeki herseyi calistirir.  String bir ifadeyi de ceviriyour\n",
    "print(donem,ay)\n"
   ]
  },
  {
   "cell_type": "code",
   "execution_count": 18,
   "metadata": {},
   "outputs": [
    {
     "data": {
      "text/plain": [
       "'5+6'"
      ]
     },
     "execution_count": 18,
     "metadata": {},
     "output_type": "execute_result"
    }
   ],
   "source": [
    "'5+6'"
   ]
  },
  {
   "cell_type": "code",
   "execution_count": 19,
   "metadata": {},
   "outputs": [
    {
     "data": {
      "text/plain": [
       "11"
      ]
     },
     "execution_count": 19,
     "metadata": {},
     "output_type": "execute_result"
    }
   ],
   "source": [
    "eval('5+6')"
   ]
  },
  {
   "cell_type": "code",
   "execution_count": 20,
   "metadata": {},
   "outputs": [
    {
     "name": "stdout",
     "output_type": "stream",
     "text": [
      "\n",
      "Basit bir hesap makinesi uygulaması.\n",
      "İşleçler:\n",
      "    +   toplama\n",
      "    -   çıkarma\n",
      "    *   çarpma\n",
      "    /   bölme\n",
      "Yapmak istediğiniz işlemi yazıp ENTER\n",
      "tuşuna basın. (Örneğin 23 ve 46 sayılarını\n",
      "çarpmak için 23 * 46 yazdıktan sonra\n",
      "ENTER tuşuna basın.)\n",
      "\n",
      "1058\n"
     ]
    }
   ],
   "source": [
    "print(\"\"\"\n",
    "Basit bir hesap makinesi uygulaması.\n",
    "İşleçler:\n",
    "    +   toplama\n",
    "    -   çıkarma\n",
    "    *   çarpma\n",
    "    /   bölme\n",
    "Yapmak istediğiniz işlemi yazıp ENTER\n",
    "tuşuna basın. (Örneğin 23 ve 46 sayılarını\n",
    "çarpmak için 23 * 46 yazdıktan sonra\n",
    "ENTER tuşuna basın.)\n",
    "\"\"\")\n",
    "veri = input(\"İşleminiz: \")\n",
    "hesap = eval(veri)\n",
    "print(hesap)"
   ]
  },
  {
   "cell_type": "code",
   "execution_count": 21,
   "metadata": {},
   "outputs": [
    {
     "data": {
      "text/plain": [
       "'23*46'"
      ]
     },
     "execution_count": 21,
     "metadata": {},
     "output_type": "execute_result"
    }
   ],
   "source": [
    "veri"
   ]
  },
  {
   "cell_type": "code",
   "execution_count": 24,
   "metadata": {},
   "outputs": [
    {
     "name": "stdout",
     "output_type": "stream",
     "text": [
      "\n",
      "Basit bir hesap makinesi uygulaması.\n",
      "İşleçler:\n",
      "    +   toplama\n",
      "    -   çıkarma\n",
      "    *   çarpma\n",
      "    /   bölme\n",
      "Yapmak istediğiniz işlemi yazıp ENTER\n",
      "tuşuna basın. (Örneğin 23 ve 46 sayılarını\n",
      "çarpmak için 23 * 46 yazdıktan sonra\n",
      "ENTER tuşuna basın.)\n",
      "\n",
      "Isine bak!\n"
     ]
    },
    {
     "ename": "SyntaxError",
     "evalue": "invalid syntax (<string>, line 1)",
     "output_type": "error",
     "traceback": [
      "Traceback \u001b[1;36m(most recent call last)\u001b[0m:\n",
      "\u001b[0m  File \u001b[0;32m~\\AppData\\Roaming\\Python\\Python310\\site-packages\\IPython\\core\\interactiveshell.py:3378\u001b[0m in \u001b[0;35mrun_code\u001b[0m\n    exec(code_obj, self.user_global_ns, self.user_ns)\u001b[0m\n",
      "\u001b[1;36m  Cell \u001b[1;32mIn [24], line 19\u001b[1;36m\n\u001b[1;33m    hesap = eval(veri)\u001b[1;36m\n",
      "\u001b[1;36m  File \u001b[1;32m<string>:1\u001b[1;36m\u001b[0m\n\u001b[1;33m    open..\u001b[0m\n\u001b[1;37m         ^\u001b[0m\n\u001b[1;31mSyntaxError\u001b[0m\u001b[1;31m:\u001b[0m invalid syntax\n"
     ]
    }
   ],
   "source": [
    "izinler = \"1234567890+/*-\"\n",
    "print(\"\"\"\n",
    "Basit bir hesap makinesi uygulaması.\n",
    "İşleçler:\n",
    "    +   toplama\n",
    "    -   çıkarma\n",
    "    *   çarpma\n",
    "    /   bölme\n",
    "Yapmak istediğiniz işlemi yazıp ENTER\n",
    "tuşuna basın. (Örneğin 23 ve 46 sayılarını\n",
    "çarpmak için 23 * 46 yazdıktan sonra\n",
    "ENTER tuşuna basın.)\n",
    "\"\"\")\n",
    "veri = input(\"İşleminiz: \")\n",
    "for s in veri:\n",
    "    if s not in izinler:\n",
    "        print(\"Isine bak!\")\n",
    "        break\n",
    "hesap = eval(veri)\n",
    "print(hesap)"
   ]
  },
  {
   "cell_type": "code",
   "execution_count": 30,
   "metadata": {},
   "outputs": [],
   "source": [
    "############# exec   #########"
   ]
  },
  {
   "cell_type": "code",
   "execution_count": 26,
   "metadata": {},
   "outputs": [
    {
     "ename": "SyntaxError",
     "evalue": "invalid syntax (<string>, line 1)",
     "output_type": "error",
     "traceback": [
      "Traceback \u001b[1;36m(most recent call last)\u001b[0m:\n",
      "\u001b[0m  File \u001b[0;32m~\\AppData\\Roaming\\Python\\Python310\\site-packages\\IPython\\core\\interactiveshell.py:3378\u001b[0m in \u001b[0;35mrun_code\u001b[0m\n    exec(code_obj, self.user_global_ns, self.user_ns)\u001b[0m\n",
      "\u001b[1;36m  Cell \u001b[1;32mIn [26], line 1\u001b[1;36m\n\u001b[1;33m    eval ('a=45')\u001b[1;36m\n",
      "\u001b[1;36m  File \u001b[1;32m<string>:1\u001b[1;36m\u001b[0m\n\u001b[1;33m    a=45\u001b[0m\n\u001b[1;37m     ^\u001b[0m\n\u001b[1;31mSyntaxError\u001b[0m\u001b[1;31m:\u001b[0m invalid syntax\n"
     ]
    }
   ],
   "source": [
    "eval ('a=45')"
   ]
  },
  {
   "cell_type": "code",
   "execution_count": 29,
   "metadata": {},
   "outputs": [],
   "source": [
    "exec('a=45')"
   ]
  },
  {
   "cell_type": "code",
   "execution_count": 38,
   "metadata": {},
   "outputs": [
    {
     "name": "stdout",
     "output_type": "stream",
     "text": [
      "\n",
      "Gördüğünüz gibi print() fonksiyonu, kendisine\n",
      "parametre olarak verilen değerleri ekrana basıyor.\n",
      "Böylece ilk dersimizi tamamlamış olduk. Şimdi bir\n",
      "sonraki dersimize geçebiliriz.\n"
     ]
    }
   ],
   "source": [
    "d1 = \"\"\"\n",
    "Python'da ekrana çıktı verebilmek için print() adlı bir\n",
    "fonksiyondan yararlanıyoruz. Bu fonksiyonu şöyle kullanabilirsiniz:\n",
    ">>> print(\"Merhaba Dünya\")\n",
    "Şimdi de aynı kodu siz yazın!\n",
    ">>> \"\"\"\n",
    "girdi = input(d1)\n",
    "exec(girdi)\n",
    "d2 = \"\"\"\n",
    "Gördüğünüz gibi print() fonksiyonu, kendisine\n",
    "parametre olarak verilen değerleri ekrana basıyor.\n",
    "Böylece ilk dersimizi tamamlamış olduk. Şimdi bir\n",
    "sonraki dersimize geçebiliriz.\"\"\"\n",
    "print(d2)"
   ]
  },
  {
   "cell_type": "code",
   "execution_count": 40,
   "metadata": {},
   "outputs": [],
   "source": [
    "exec(girdi)"
   ]
  },
  {
   "cell_type": "code",
   "execution_count": 1,
   "metadata": {},
   "outputs": [],
   "source": [
    "#Python: Dilekçe Oluşturmak. Bir Metinin İçerisine Kendi Bilgilerimizi Nasıl Gireriz?\n",
    "dilekçe = \"\"\"\n",
    "tarih: {}\n",
    "T.C.\n",
    "{} ÜNİVERSİTESİ\n",
    "{} Fakültesi Dekanlığına\n",
    "Fakülteniz {} Bölümü {} numaralı öğrencisiyim. Ekte sunduğum belgede\n",
    "belirtilen mazeretim gereğince {} Eğitim-Öğretim Yılı {}.\n",
    "yarıyılında öğrenime ara izni (kayıt dondurma) istiyorum.\n",
    "Bilgilerinizi ve gereğini arz ederim.\n",
    "        İmza\n",
    "Ad : {}\n",
    "Soyad : {}\n",
    "T.C. Kimlik No. : {}\n",
    "Adres : {}\n",
    "Tel. : {}\n",
    "Ekler : {}\n",
    "\"\"\"\n",
    "tarih = input(\"tarih: \")\n",
    "üniversite = input(\"üniversite adı: \")\n",
    "fakülte = input(\"fakülte adı: \")\n",
    "bölüm = input(\"bölüm adı: \")\n",
    "öğrenci_no = input(\"öğrenci no. :\")\n",
    "öğretim_yılı = input(\"öğretim yılı: \")\n",
    "yarıyıl = input(\"yarıyıl: \")\n",
    "ad = input(\"öğrencinin adı: \")\n",
    "soyad = input(\"öğrencinin soyadı: \")\n",
    "tc_kimlik_no = input(\"TC Kimlik no. :\")\n",
    "adres = input(\"adres: \")\n",
    "tel = input(\"telefon: \")\n",
    "ekler = input(\"ekler: \")\n",
    "print(dilekçe.format(tarih, üniversite, fakülte, bölüm,\n",
    "öğrenci_no, öğretim_yılı, yarıyıl,\n",
    "ad, soyad, tc_kimlik_no,\n",
    "adres, tel, ekler))"
   ]
  },
  {
   "cell_type": "code",
   "execution_count": 1,
   "metadata": {},
   "outputs": [
    {
     "name": "stdout",
     "output_type": "stream",
     "text": [
      "\n",
      "Sayın Ayşe Hanımefendi\n",
      "April,2021 tarihinde yapmıs oldugunuz,\n",
      "\n",
      "iş ile ilgili basvurunuz onaylanmıştır. İşe alındınız\n",
      "\n"
     ]
    }
   ],
   "source": [
    "from  string import Template\n",
    "text=Template(\"\"\"\n",
    "Sayın $name Hanımefendi\\n$date tarihinde yapmıs oldugunuz,\n",
    "\\n$konu ile ilgili basvurunuz onaylanmıştır. İşe alındınız\n",
    "\"\"\")\n",
    "sonuc=text.substitute(name=\"Ayşe\",date=\"April,2021\",konu=\"iş\")\n",
    "print(sonuc)"
   ]
  },
  {
   "cell_type": "code",
   "execution_count": null,
   "metadata": {},
   "outputs": [],
   "source": [
    "##########  list comprehension, Lambda, map ,filter fonksiyonlari  #####"
   ]
  },
  {
   "cell_type": "code",
   "execution_count": 4,
   "metadata": {},
   "outputs": [],
   "source": [
    "l=[1,2,3,5,10,20,30]"
   ]
  },
  {
   "cell_type": "code",
   "execution_count": 5,
   "metadata": {},
   "outputs": [
    {
     "name": "stdout",
     "output_type": "stream",
     "text": [
      "[1, 4, 9, 25, 100, 400, 900]\n"
     ]
    }
   ],
   "source": [
    "yeni=[]\n",
    "for i in l:\n",
    "    yeni.append(i**2)\n",
    "\n",
    "print(yeni)    "
   ]
  },
  {
   "cell_type": "code",
   "execution_count": 6,
   "metadata": {},
   "outputs": [
    {
     "data": {
      "text/plain": [
       "[1, 4, 9, 25, 100, 400, 900]"
      ]
     },
     "execution_count": 6,
     "metadata": {},
     "output_type": "execute_result"
    }
   ],
   "source": [
    "[i**2 for i in l]                               #### burada list comprehension la yapildo."
   ]
  },
  {
   "cell_type": "code",
   "execution_count": 8,
   "metadata": {},
   "outputs": [],
   "source": [
    "def cift_sayi (x) :\n",
    "    if x % 2 == 0 :\n",
    "        return x\n",
    "    else: \n",
    "        None"
   ]
  },
  {
   "cell_type": "code",
   "execution_count": 9,
   "metadata": {},
   "outputs": [
    {
     "data": {
      "text/plain": [
       "60"
      ]
     },
     "execution_count": 9,
     "metadata": {},
     "output_type": "execute_result"
    }
   ],
   "source": [
    "cift_sayi(60)"
   ]
  },
  {
   "cell_type": "code",
   "execution_count": 12,
   "metadata": {},
   "outputs": [],
   "source": [
    "cift_sayi(55)"
   ]
  },
  {
   "cell_type": "code",
   "execution_count": 13,
   "metadata": {},
   "outputs": [],
   "source": [
    "def cift_sayi(x) :\n",
    "    return x if x %2 == 0 else None"
   ]
  },
  {
   "cell_type": "code",
   "execution_count": 14,
   "metadata": {},
   "outputs": [
    {
     "data": {
      "text/plain": [
       "50"
      ]
     },
     "execution_count": 14,
     "metadata": {},
     "output_type": "execute_result"
    }
   ],
   "source": [
    "cift_sayi(50)"
   ]
  },
  {
   "cell_type": "code",
   "execution_count": 18,
   "metadata": {},
   "outputs": [
    {
     "data": {
      "text/plain": [
       "[1,\n",
       " 2,\n",
       " 3,\n",
       " 4,\n",
       " 5,\n",
       " 6,\n",
       " 7,\n",
       " 8,\n",
       " 9,\n",
       " 10,\n",
       " 11,\n",
       " 12,\n",
       " 13,\n",
       " 14,\n",
       " 15,\n",
       " 16,\n",
       " 17,\n",
       " 18,\n",
       " 19,\n",
       " 20,\n",
       " 21,\n",
       " 22,\n",
       " 23,\n",
       " 24,\n",
       " 25,\n",
       " 26,\n",
       " 27,\n",
       " 28,\n",
       " 29,\n",
       " 30,\n",
       " 31,\n",
       " 32,\n",
       " 33,\n",
       " 34,\n",
       " 35,\n",
       " 36,\n",
       " 37,\n",
       " 38,\n",
       " 39,\n",
       " 40,\n",
       " 41,\n",
       " 42,\n",
       " 43,\n",
       " 44,\n",
       " 45,\n",
       " 46,\n",
       " 47,\n",
       " 48,\n",
       " 49,\n",
       " 50,\n",
       " 51,\n",
       " 52,\n",
       " 53,\n",
       " 54,\n",
       " 55,\n",
       " 56,\n",
       " 57,\n",
       " 58,\n",
       " 59,\n",
       " 60,\n",
       " 61,\n",
       " 62,\n",
       " 63,\n",
       " 64,\n",
       " 65,\n",
       " 66,\n",
       " 67,\n",
       " 68,\n",
       " 69,\n",
       " 70,\n",
       " 71,\n",
       " 72,\n",
       " 73,\n",
       " 74,\n",
       " 75,\n",
       " 76,\n",
       " 77,\n",
       " 78,\n",
       " 79,\n",
       " 80,\n",
       " 81,\n",
       " 82,\n",
       " 83,\n",
       " 84,\n",
       " 85,\n",
       " 86,\n",
       " 87,\n",
       " 88,\n",
       " 89,\n",
       " 90,\n",
       " 91,\n",
       " 92,\n",
       " 93,\n",
       " 94,\n",
       " 95,\n",
       " 96,\n",
       " 97,\n",
       " 98,\n",
       " 99,\n",
       " 100]"
      ]
     },
     "execution_count": 18,
     "metadata": {},
     "output_type": "execute_result"
    }
   ],
   "source": [
    "myl=[i for i in range(1,101)]\n",
    "myl"
   ]
  },
  {
   "cell_type": "code",
   "execution_count": 16,
   "metadata": {},
   "outputs": [
    {
     "data": {
      "text/plain": [
       "[1,\n",
       " 3,\n",
       " 5,\n",
       " 7,\n",
       " 9,\n",
       " 11,\n",
       " 13,\n",
       " 15,\n",
       " 17,\n",
       " 19,\n",
       " 21,\n",
       " 23,\n",
       " 25,\n",
       " 27,\n",
       " 29,\n",
       " 31,\n",
       " 33,\n",
       " 35,\n",
       " 37,\n",
       " 39,\n",
       " 41,\n",
       " 43,\n",
       " 45,\n",
       " 47,\n",
       " 49,\n",
       " 51,\n",
       " 53,\n",
       " 55,\n",
       " 57,\n",
       " 59,\n",
       " 61,\n",
       " 63,\n",
       " 65,\n",
       " 67,\n",
       " 69,\n",
       " 71,\n",
       " 73,\n",
       " 75,\n",
       " 77,\n",
       " 79,\n",
       " 81,\n",
       " 83,\n",
       " 85,\n",
       " 87,\n",
       " 89,\n",
       " 91,\n",
       " 93,\n",
       " 95,\n",
       " 97,\n",
       " 99]"
      ]
     },
     "execution_count": 16,
     "metadata": {},
     "output_type": "execute_result"
    }
   ],
   "source": [
    "myl=[i for i in range(1,101)if i%2 !=0]\n",
    "myl"
   ]
  },
  {
   "cell_type": "code",
   "execution_count": 19,
   "metadata": {},
   "outputs": [
    {
     "data": {
      "text/plain": [
       "[0,\n",
       " 2,\n",
       " 4,\n",
       " 6,\n",
       " 8,\n",
       " 10,\n",
       " 12,\n",
       " 14,\n",
       " 16,\n",
       " 18,\n",
       " 20,\n",
       " 22,\n",
       " 24,\n",
       " 26,\n",
       " 28,\n",
       " 30,\n",
       " 32,\n",
       " 34,\n",
       " 36,\n",
       " 38,\n",
       " 40,\n",
       " 42,\n",
       " 44,\n",
       " 46,\n",
       " 48,\n",
       " 50,\n",
       " 52,\n",
       " 54,\n",
       " 56,\n",
       " 58,\n",
       " 60,\n",
       " 62,\n",
       " 64,\n",
       " 66,\n",
       " 68,\n",
       " 70,\n",
       " 72,\n",
       " 74,\n",
       " 76,\n",
       " 78,\n",
       " 80,\n",
       " 82,\n",
       " 84,\n",
       " 86,\n",
       " 88,\n",
       " 90,\n",
       " 92,\n",
       " 94,\n",
       " 96,\n",
       " 98,\n",
       " 100]"
      ]
     },
     "execution_count": 19,
     "metadata": {},
     "output_type": "execute_result"
    }
   ],
   "source": [
    "myl=[i for i in range(0,101)if i%2 ==0]             #### burada range yi sifirdan baslattik\n",
    "myl"
   ]
  },
  {
   "cell_type": "code",
   "execution_count": 24,
   "metadata": {},
   "outputs": [
    {
     "name": "stdout",
     "output_type": "stream",
     "text": [
      "[0, 0, 2, 0, 3, 6]\n"
     ]
    }
   ],
   "source": [
    "list= [x*y for x in range(4) for y in range(3) if x>y]          ## x      0,1,2,3\n",
    "                                                                ## y      0,1,2\n",
    "print(list)"
   ]
  },
  {
   "cell_type": "code",
   "execution_count": 31,
   "metadata": {},
   "outputs": [
    {
     "name": "stdout",
     "output_type": "stream",
     "text": [
      "['Hi Ali', 'Hi Veli', 'Hi Bob']\n"
     ]
    }
   ],
   "source": [
    "l=[('Hi '+ x) for x in ['Ali', 'Veli', 'Bob']]\n",
    "print(l)"
   ]
  },
  {
   "cell_type": "code",
   "execution_count": 33,
   "metadata": {},
   "outputs": [
    {
     "ename": "FileNotFoundError",
     "evalue": "[WinError 3] The system cannot find the path specified: 'C:/Users/DELL/Downloads'",
     "output_type": "error",
     "traceback": [
      "\u001b[1;31m---------------------------------------------------------------------------\u001b[0m",
      "\u001b[1;31mFileNotFoundError\u001b[0m                         Traceback (most recent call last)",
      "Cell \u001b[1;32mIn [33], line 3\u001b[0m\n\u001b[0;32m      1\u001b[0m \u001b[39mimport\u001b[39;00m \u001b[39mos\u001b[39;00m\n\u001b[0;32m      2\u001b[0m dosyalar \u001b[39m=\u001b[39m[]\n\u001b[1;32m----> 3\u001b[0m \u001b[39mfor\u001b[39;00m d \u001b[39min\u001b[39;00m os\u001b[39m.\u001b[39;49mlistdir(\u001b[39m\"\u001b[39;49m\u001b[39mC:/Users/DELL/Downloads\u001b[39;49m\u001b[39m\"\u001b[39;49m):\n\u001b[0;32m      4\u001b[0m     \u001b[39mif\u001b[39;00m d\u001b[39m.\u001b[39mendswith(\u001b[39m\"\u001b[39m\u001b[39m.pdf\u001b[39m\u001b[39m\"\u001b[39m):\n\u001b[0;32m      5\u001b[0m        dosyalar\u001b[39m.\u001b[39mappend(d)\n",
      "\u001b[1;31mFileNotFoundError\u001b[0m: [WinError 3] The system cannot find the path specified: 'C:/Users/DELL/Downloads'"
     ]
    }
   ],
   "source": [
    "import os                                                ### Hocaninkinden yaptim o yuzden dosyalari bulamadi.\n",
    "dosyalar =[]\n",
    "for d in os.listdir(\"C:/Users/DELL/Downloads\"):\n",
    "    if d.endswith(\".pdf\"):\n",
    "       dosyalar.append(d)\n",
    "print(dosyalar)"
   ]
  },
  {
   "cell_type": "code",
   "execution_count": 34,
   "metadata": {},
   "outputs": [
    {
     "ename": "FileNotFoundError",
     "evalue": "[WinError 3] The system cannot find the path specified: 'C:/Users/DELL/Downloads'",
     "output_type": "error",
     "traceback": [
      "\u001b[1;31m---------------------------------------------------------------------------\u001b[0m",
      "\u001b[1;31mFileNotFoundError\u001b[0m                         Traceback (most recent call last)",
      "Cell \u001b[1;32mIn [34], line 1\u001b[0m\n\u001b[1;32m----> 1\u001b[0m dosyalar1\u001b[39m=\u001b[39m [d \u001b[39mfor\u001b[39;00m d \u001b[39min\u001b[39;00m os\u001b[39m.\u001b[39;49mlistdir(\u001b[39m\"\u001b[39;49m\u001b[39mC:/Users/DELL/Downloads\u001b[39;49m\u001b[39m\"\u001b[39;49m)\u001b[39mif\u001b[39;00m d\u001b[39m.\u001b[39mendswith(\u001b[39m\"\u001b[39m\u001b[39m.pdf\u001b[39m\u001b[39m\"\u001b[39m)]\n",
      "\u001b[1;31mFileNotFoundError\u001b[0m: [WinError 3] The system cannot find the path specified: 'C:/Users/DELL/Downloads'"
     ]
    }
   ],
   "source": [
    "dosyalar1= [d for d in os.listdir(\"C:/Users/DELL/Downloads\")if d.endswith(\".pdf\")]           ## 2.yol tek bir sirada yapildi\n",
    "  "
   ]
  },
  {
   "cell_type": "code",
   "execution_count": null,
   "metadata": {},
   "outputs": [],
   "source": [
    "#### lambda fonksiyonu  ###"
   ]
  },
  {
   "cell_type": "code",
   "execution_count": 35,
   "metadata": {},
   "outputs": [],
   "source": [
    "fonk = lambda param1, param2: param1 +param2"
   ]
  },
  {
   "cell_type": "code",
   "execution_count": 36,
   "metadata": {},
   "outputs": [
    {
     "data": {
      "text/plain": [
       "30"
      ]
     },
     "execution_count": 36,
     "metadata": {},
     "output_type": "execute_result"
    }
   ],
   "source": [
    "fonk(5,25)"
   ]
  },
  {
   "cell_type": "code",
   "execution_count": 38,
   "metadata": {},
   "outputs": [],
   "source": [
    "cift_mi = lambda sayi:sayi % 2 == 0"
   ]
  },
  {
   "cell_type": "code",
   "execution_count": 39,
   "metadata": {},
   "outputs": [
    {
     "data": {
      "text/plain": [
       "False"
      ]
     },
     "execution_count": 39,
     "metadata": {},
     "output_type": "execute_result"
    }
   ],
   "source": [
    "cift_mi(101)"
   ]
  },
  {
   "cell_type": "code",
   "execution_count": 40,
   "metadata": {},
   "outputs": [
    {
     "data": {
      "text/plain": [
       "True"
      ]
     },
     "execution_count": 40,
     "metadata": {},
     "output_type": "execute_result"
    }
   ],
   "source": [
    "cift_mi(100)"
   ]
  },
  {
   "cell_type": "code",
   "execution_count": 41,
   "metadata": {},
   "outputs": [
    {
     "name": "stdout",
     "output_type": "stream",
     "text": [
      "210\n"
     ]
    }
   ],
   "source": [
    "c = lambda x, y, z: x*y*z\n",
    "print(c(5,6,7))"
   ]
  },
  {
   "cell_type": "code",
   "execution_count": 43,
   "metadata": {},
   "outputs": [],
   "source": [
    "c = lambda x : x**2"
   ]
  },
  {
   "cell_type": "code",
   "execution_count": 44,
   "metadata": {},
   "outputs": [
    {
     "data": {
      "text/plain": [
       "16"
      ]
     },
     "execution_count": 44,
     "metadata": {},
     "output_type": "execute_result"
    }
   ],
   "source": [
    "c(4)"
   ]
  },
  {
   "cell_type": "code",
   "execution_count": 46,
   "metadata": {},
   "outputs": [],
   "source": [
    "def myfunc(n):\n",
    "    return lambda a : a*n"
   ]
  },
  {
   "cell_type": "code",
   "execution_count": 47,
   "metadata": {},
   "outputs": [
    {
     "data": {
      "text/plain": [
       "84"
      ]
     },
     "execution_count": 47,
     "metadata": {},
     "output_type": "execute_result"
    }
   ],
   "source": [
    "k=myfunc(42)                                        ### Burada icice fonksiyonlar olustu.\n",
    "b=k(2)\n",
    "b"
   ]
  },
  {
   "cell_type": "code",
   "execution_count": 57,
   "metadata": {},
   "outputs": [
    {
     "ename": "NameError",
     "evalue": "name 'list' is not defined",
     "output_type": "error",
     "traceback": [
      "\u001b[1;31m---------------------------------------------------------------------------\u001b[0m",
      "\u001b[1;31mNameError\u001b[0m                                 Traceback (most recent call last)",
      "Cell \u001b[1;32mIn [57], line 1\u001b[0m\n\u001b[1;32m----> 1\u001b[0m \u001b[39mdel\u001b[39;00m \u001b[39mlist\u001b[39m                                                           \u001b[39m###  ???????\u001b[39;00m\n\u001b[0;32m      2\u001b[0m \u001b[39mlist\u001b[39m(\u001b[39mmap\u001b[39m (\u001b[39mlambda\u001b[39;00m x : x\u001b[39m*\u001b[39m\u001b[39m*\u001b[39m\u001b[39m2\u001b[39m, \u001b[39mrange\u001b[39m(\u001b[39m1\u001b[39m,\u001b[39m10\u001b[39m)))\n\u001b[0;32m      3\u001b[0m c\n",
      "\u001b[1;31mNameError\u001b[0m: name 'list' is not defined"
     ]
    }
   ],
   "source": [
    "del list                                                           ###  ???????\n",
    "list(map (lambda x : x**2, range(1,10)))                           ### map(fonk,liste) yani bir satirda yazdirdik map fonksiyonu ile\n",
    "c"
   ]
  },
  {
   "cell_type": "code",
   "execution_count": 58,
   "metadata": {},
   "outputs": [],
   "source": [
    "import math                                                ### map her fornksiyon icin kullanilabilir"
   ]
  },
  {
   "cell_type": "code",
   "execution_count": 59,
   "metadata": {},
   "outputs": [
    {
     "data": {
      "text/plain": [
       "[1, 2, 6, 24, 120, 720, 5040, 40320, 362880]"
      ]
     },
     "execution_count": 59,
     "metadata": {},
     "output_type": "execute_result"
    }
   ],
   "source": [
    "[*map(math.factorial, range(1,10))]"
   ]
  },
  {
   "cell_type": "code",
   "execution_count": null,
   "metadata": {},
   "outputs": [],
   "source": []
  }
 ],
 "metadata": {
  "kernelspec": {
   "display_name": "Python 3.10.7 64-bit",
   "language": "python",
   "name": "python3"
  },
  "language_info": {
   "codemirror_mode": {
    "name": "ipython",
    "version": 3
   },
   "file_extension": ".py",
   "mimetype": "text/x-python",
   "name": "python",
   "nbconvert_exporter": "python",
   "pygments_lexer": "ipython3",
   "version": "3.10.7"
  },
  "orig_nbformat": 4,
  "vscode": {
   "interpreter": {
    "hash": "974597dd8ef7879a11ba597ac90f8b666a0a4c4068cc994294f584311e4770be"
   }
  }
 },
 "nbformat": 4,
 "nbformat_minor": 2
}
