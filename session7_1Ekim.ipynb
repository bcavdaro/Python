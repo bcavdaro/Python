{
 "cells": [
  {
   "cell_type": "code",
   "execution_count": 1,
   "metadata": {},
   "outputs": [],
   "source": [
    "name = \"Techpro\""
   ]
  },
  {
   "cell_type": "markdown",
   "metadata": {},
   "source": []
  },
  {
   "cell_type": "code",
   "execution_count": 2,
   "metadata": {},
   "outputs": [
    {
     "data": {
      "text/plain": [
       "7"
      ]
     },
     "execution_count": 2,
     "metadata": {},
     "output_type": "execute_result"
    }
   ],
   "source": [
    "len(name)"
   ]
  },
  {
   "cell_type": "code",
   "execution_count": 4,
   "metadata": {},
   "outputs": [
    {
     "data": {
      "text/plain": [
       "9"
      ]
     },
     "execution_count": 4,
     "metadata": {},
     "output_type": "execute_result"
    }
   ],
   "source": [
    "len(\"ben + sen\")    ### bensen  olarak yazdirir bunun toplami da 6 dir."
   ]
  },
  {
   "cell_type": "code",
   "execution_count": 5,
   "metadata": {},
   "outputs": [
    {
     "data": {
      "text/plain": [
       "1"
      ]
     },
     "execution_count": 5,
     "metadata": {},
     "output_type": "execute_result"
    }
   ],
   "source": [
    "len(\"TechPro\" [0])   ### 0 inci sayinini indexini istiyor. 0 = T dir oda bir karakterdir."
   ]
  },
  {
   "cell_type": "code",
   "execution_count": 6,
   "metadata": {},
   "outputs": [
    {
     "data": {
      "text/plain": [
       "4"
      ]
     },
     "execution_count": 6,
     "metadata": {},
     "output_type": "execute_result"
    }
   ],
   "source": [
    "len(\"TechPro\" [2:6]) ### chpr 4 "
   ]
  },
  {
   "cell_type": "code",
   "execution_count": 7,
   "metadata": {},
   "outputs": [
    {
     "ename": "TypeError",
     "evalue": "object of type 'int' has no len()",
     "output_type": "error",
     "traceback": [
      "\u001b[1;31m---------------------------------------------------------------------------\u001b[0m",
      "\u001b[1;31mTypeError\u001b[0m                                 Traceback (most recent call last)",
      "Cell \u001b[1;32mIn [7], line 1\u001b[0m\n\u001b[1;32m----> 1\u001b[0m \u001b[38;5;28;43mlen\u001b[39;49m\u001b[43m(\u001b[49m\u001b[38;5;241;43m1453\u001b[39;49m\u001b[43m)\u001b[49m\n",
      "\u001b[1;31mTypeError\u001b[0m: object of type 'int' has no len()"
     ]
    }
   ],
   "source": [
    "len(1453) "
   ]
  },
  {
   "cell_type": "code",
   "execution_count": 8,
   "metadata": {},
   "outputs": [
    {
     "data": {
      "text/plain": [
       "4"
      ]
     },
     "execution_count": 8,
     "metadata": {},
     "output_type": "execute_result"
    }
   ],
   "source": [
    "len(\"1453\") "
   ]
  },
  {
   "cell_type": "markdown",
   "metadata": {},
   "source": []
  },
  {
   "cell_type": "code",
   "execution_count": 10,
   "metadata": {},
   "outputs": [
    {
     "data": {
      "text/plain": [
       "4"
      ]
     },
     "execution_count": 10,
     "metadata": {},
     "output_type": "execute_result"
    }
   ],
   "source": [
    "len(str(int(\"1453\")))"
   ]
  },
  {
   "cell_type": "markdown",
   "metadata": {},
   "source": []
  },
  {
   "cell_type": "code",
   "execution_count": 13,
   "metadata": {},
   "outputs": [
    {
     "data": {
      "text/plain": [
       "0"
      ]
     },
     "execution_count": 13,
     "metadata": {},
     "output_type": "execute_result"
    }
   ],
   "source": [
    "len(\"\") ###icinde eleman yok o yuzden 0 eger bosluk koysak sonuc 1 verir"
   ]
  },
  {
   "cell_type": "code",
   "execution_count": 14,
   "metadata": {},
   "outputs": [
    {
     "data": {
      "text/plain": [
       "'Techpro'"
      ]
     },
     "execution_count": 14,
     "metadata": {},
     "output_type": "execute_result"
    }
   ],
   "source": [
    " name"
   ]
  },
  {
   "cell_type": "code",
   "execution_count": 15,
   "metadata": {},
   "outputs": [
    {
     "data": {
      "text/plain": [
       "True"
      ]
     },
     "execution_count": 15,
     "metadata": {},
     "output_type": "execute_result"
    }
   ],
   "source": [
    "\"T\" in name  #####  Bu degerin icinde olup olmadigini soyler. bool bir ifadedir."
   ]
  },
  {
   "cell_type": "code",
   "execution_count": null,
   "metadata": {},
   "outputs": [],
   "source": [
    "#######   If Elif Else   ###########  kosullu ifadelerden bahseder."
   ]
  },
  {
   "cell_type": "code",
   "execution_count": 17,
   "metadata": {},
   "outputs": [
    {
     "name": "stdout",
     "output_type": "stream",
     "text": [
      "27\n"
     ]
    }
   ],
   "source": [
    "if 5 > 2:                   #### IKICI SATIR 4 BOSLUK ICERDEN BASLAR BU IF IN KURALI\n",
    "    print(3 * 9)           #### burada true oldugu icin cevap verdi"
   ]
  },
  {
   "cell_type": "code",
   "execution_count": 21,
   "metadata": {},
   "outputs": [],
   "source": [
    "if 5 < 2:                  #### bunun ciktisini alamadik cunku 5 2 den kucuk degil \n",
    "    print (3 * 9)          #### #burada false oldugu icin cevap vermedi."
   ]
  },
  {
   "cell_type": "code",
   "execution_count": 22,
   "metadata": {},
   "outputs": [
    {
     "name": "stdout",
     "output_type": "stream",
     "text": [
      "5 2 den kucuk degildir\n"
     ]
    }
   ],
   "source": [
    "if 5 < 2:\n",
    "    print(\"Dogru degil\")\n",
    "else:\n",
    "    print(\"5 2 den kucuk degildir\")   "
   ]
  },
  {
   "cell_type": "code",
   "execution_count": 23,
   "metadata": {},
   "outputs": [],
   "source": [
    "x = 8"
   ]
  },
  {
   "cell_type": "code",
   "execution_count": 25,
   "metadata": {},
   "outputs": [
    {
     "name": "stdout",
     "output_type": "stream",
     "text": [
      "elif\n"
     ]
    }
   ],
   "source": [
    "if x < 2:                          #### burasi false isim  yok benim\n",
    "    print (\"if\")                        \n",
    "elif x > 5:                        #### burasi true\n",
    "    print(\"elif\")\n",
    "else:                              ####  bir onceki true cikinca else gerei yo\n",
    "    print(\"else\")"
   ]
  },
  {
   "cell_type": "code",
   "execution_count": 26,
   "metadata": {},
   "outputs": [],
   "source": [
    "x = 4"
   ]
  },
  {
   "cell_type": "code",
   "execution_count": 27,
   "metadata": {},
   "outputs": [
    {
     "name": "stdout",
     "output_type": "stream",
     "text": [
      "else\n"
     ]
    }
   ],
   "source": [
    "if x < 2:                         \n",
    "    print (\"if\")                        \n",
    "elif x > 5:                        \n",
    "    print(\"elif\")\n",
    "else:                             \n",
    "    print(\"else\")"
   ]
  },
  {
   "cell_type": "code",
   "execution_count": 28,
   "metadata": {},
   "outputs": [],
   "source": [
    "x = -1"
   ]
  },
  {
   "cell_type": "code",
   "execution_count": 29,
   "metadata": {},
   "outputs": [
    {
     "name": "stdout",
     "output_type": "stream",
     "text": [
      "if\n"
     ]
    }
   ],
   "source": [
    "if x < 2:                         \n",
    "    print (\"if\")                        \n",
    "elif x > 5:                        \n",
    "    print(\"elif\")\n",
    "else:                             \n",
    "    print(\"else\")"
   ]
  },
  {
   "cell_type": "code",
   "execution_count": 30,
   "metadata": {},
   "outputs": [
    {
     "name": "stdout",
     "output_type": "stream",
     "text": [
      "if\n"
     ]
    }
   ],
   "source": [
    "x = -1\n",
    "if x < 2 and len (\"Tech\") == 4:     ###   x kucuktur 2 den ve len techno = 4 bu da dogru,dolayisilya if e gecti.                     \n",
    "    print (\"if\")                        \n",
    "elif x > 5:                        \n",
    "    print(\"elif\")\n",
    "else:                             \n",
    "    print(\"else\")"
   ]
  },
  {
   "cell_type": "code",
   "execution_count": 32,
   "metadata": {},
   "outputs": [
    {
     "ename": "SyntaxError",
     "evalue": "invalid syntax (4113719251.py, line 2)",
     "output_type": "error",
     "traceback": [
      "\u001b[1;36m  Cell \u001b[1;32mIn [32], line 2\u001b[1;36m\u001b[0m\n\u001b[1;33m    30 ile 50 dahil arasinda ise \"cocuklar nasil\"\u001b[0m\n\u001b[1;37m       ^\u001b[0m\n\u001b[1;31mSyntaxError\u001b[0m\u001b[1;31m:\u001b[0m invalid syntax\n"
     ]
    }
   ],
   "source": [
    "##### 30 dahil \"daha cok gencsin\"\n",
    "######30 ile 50 dahil arasinda ise \"cocuklar nasil\"                             SORU\n",
    "####  50 den buyukse \"ellerinden operim\""
   ]
  },
  {
   "cell_type": "code",
   "execution_count": 34,
   "metadata": {},
   "outputs": [],
   "source": [
    "x = input(\"Enter your age\")"
   ]
  },
  {
   "cell_type": "code",
   "execution_count": 38,
   "metadata": {},
   "outputs": [
    {
     "name": "stdout",
     "output_type": "stream",
     "text": [
      "daha cok gencsin\n"
     ]
    }
   ],
   "source": [
    "x = input(\"Enter your age\")\n",
    "x = int(x)\n",
    "if x <= 30:\n",
    "    print(\"daha cok gencsin\")\n",
    "elif 30 < x <= 50:\n",
    "    print(\"cocuklar nasil\")\n",
    "else:\n",
    "    print(\"ellerini operim\")"
   ]
  },
  {
   "cell_type": "code",
   "execution_count": 35,
   "metadata": {},
   "outputs": [
    {
     "data": {
      "text/plain": [
       "'12'"
      ]
     },
     "execution_count": 35,
     "metadata": {},
     "output_type": "execute_result"
    }
   ],
   "source": [
    "x"
   ]
  },
  {
   "cell_type": "code",
   "execution_count": 36,
   "metadata": {},
   "outputs": [
    {
     "name": "stdout",
     "output_type": "stream",
     "text": [
      "daha cok gencsin\n"
     ]
    }
   ],
   "source": [
    "x=int(input(\"yasinizi giriniz\"))# kosullu ifadelere if ve elif ayni ama synaxleri farkli olur. eger ikinci kere if dersek onu farkli algilar\n",
    "if x<=30:                       ## if ve else basta ve sonda elif isteginiz kadar farkli durum yazabillirsiniz.\n",
    "    print(\"daha cok gencsin\")\n",
    "elif 30<x<50:                   # Bu yukaridaki sorunun farkli yapilmis hali\n",
    "    print(\"cocuklar nasil\")\n",
    "elif x > 50:\n",
    "    print(\"aa\")\n",
    "else:\n",
    "    print(\"ellerinden oper\")"
   ]
  },
  {
   "cell_type": "code",
   "execution_count": null,
   "metadata": {},
   "outputs": [],
   "source": [
    "#### soru cozmek\n"
   ]
  },
  {
   "cell_type": "code",
   "execution_count": null,
   "metadata": {},
   "outputs": [],
   "source": [
    "'Kullanicidan aldiginiz iki sayinin tiplamini fromat yontemlerinden biri ile yazdirin.'"
   ]
  },
  {
   "cell_type": "code",
   "execution_count": 45,
   "metadata": {},
   "outputs": [
    {
     "name": "stdout",
     "output_type": "stream",
     "text": [
      "toplam : 9.0\n"
     ]
    }
   ],
   "source": [
    "num_1 = float(input(\"sayi gir\"))\n",
    "num_2 = float(input(\"sayi gir\"))\n",
    "print(\"toplam : {}\" .format (num_1 +num_2))\n"
   ]
  },
  {
   "cell_type": "code",
   "execution_count": 46,
   "metadata": {},
   "outputs": [
    {
     "data": {
      "text/plain": [
       "'Kullanicidan aldiginiz iki sayinin farki ile toplaminin carpimini bulan bir python kodu yazin'"
      ]
     },
     "execution_count": 46,
     "metadata": {},
     "output_type": "execute_result"
    }
   ],
   "source": [
    "'Kullanicidan aldiginiz iki sayinin farki ile toplaminin carpimini bulan bir python kodu yazin'  #####  SORU"
   ]
  },
  {
   "cell_type": "code",
   "execution_count": 50,
   "metadata": {},
   "outputs": [
    {
     "name": "stdout",
     "output_type": "stream",
     "text": [
      "toplam : 8toplam : 8toplam : 8toplam : 8toplam : 8toplam : 8toplam : 8toplam : 8toplam : 8toplam : 8toplam : 8toplam : 8\n"
     ]
    }
   ],
   "source": [
    "x = int (input(\"sayi gir\"))\n",
    "Y = int (input(\"sayi gir\"))\n",
    "print(\"toplam : {}\" .format (x - Y) * (x + Y))   ###### Ben yaptim ama yanlis cikti sanirim.\n"
   ]
  },
  {
   "cell_type": "code",
   "execution_count": 53,
   "metadata": {},
   "outputs": [
    {
     "name": "stdout",
     "output_type": "stream",
     "text": [
      "16\n"
     ]
    }
   ],
   "source": [
    "x = int(input(\"1. Sayi degerini gir\"))                    ###  x 5 gir y 3 gir\n",
    "y = int(input(\"2.Sayi degerini gir\"))\n",
    "print(f\"{(x -y) * ( x + y)}\")"
   ]
  },
  {
   "cell_type": "code",
   "execution_count": null,
   "metadata": {},
   "outputs": [],
   "source": [
    "Kullanicinin girdigi boy ve kilodan vucut kitle indeksini hesaplayan bir program yaziniz.  (kilo / boy **2)"
   ]
  },
  {
   "cell_type": "code",
   "execution_count": 57,
   "metadata": {},
   "outputs": [
    {
     "name": "stdout",
     "output_type": "stream",
     "text": [
      "27.13141179099237\n"
     ]
    }
   ],
   "source": [
    "x = int(input(\"kilonuzu kg cinsinden giriniz\"))         ## kilo 85   boy 1.77\n",
    "y = float(input(\"boyunuzu metre cinsinden giriniz\"))\n",
    "print(x / (y**2))"
   ]
  },
  {
   "cell_type": "code",
   "execution_count": null,
   "metadata": {},
   "outputs": [],
   "source": [
    "##SORU  Kullanicidan iki sayi isteyin ve bu sayilari degiskenlere atayin ve bu degiskenlerin degerlerini birbirleriyle degistirin."
   ]
  },
  {
   "cell_type": "code",
   "execution_count": 60,
   "metadata": {},
   "outputs": [
    {
     "name": "stdout",
     "output_type": "stream",
     "text": [
      "Degistirilmeden once Degerler\n",
      "a: 5 b: 10\n",
      "\n",
      "Degistirildikten sonraki Degerler\n",
      "a: 10 b: 5\n",
      "\n"
     ]
    }
   ],
   "source": [
    "a = input (\"a:\")\n",
    "b = input (\"b:\")\n",
    "print (\"Degistirilmeden once Degerler\\na: {} b: {}\\n\" .format(a,b))\n",
    "a,b = b,a\n",
    "print(\"Degistirildikten sonraki Degerler\\na: {} b: {}\\n\" .format(a,b))"
   ]
  },
  {
   "cell_type": "code",
   "execution_count": null,
   "metadata": {},
   "outputs": [],
   "source": [
    "### 200 birim paraniz var. fiyatini bilmediginiz urunden 11 tane alabileceginizi soyledi satici. Urunun fiyati nedir?\n",
    "### 200 birim paranizdan geriye ne kadar kalir?"
   ]
  },
  {
   "cell_type": "code",
   "execution_count": 61,
   "metadata": {},
   "outputs": [
    {
     "data": {
      "text/plain": [
       "18"
      ]
     },
     "execution_count": 61,
     "metadata": {},
     "output_type": "execute_result"
    }
   ],
   "source": [
    "200 // 11"
   ]
  },
  {
   "cell_type": "code",
   "execution_count": 62,
   "metadata": {},
   "outputs": [
    {
     "data": {
      "text/plain": [
       "2"
      ]
     },
     "execution_count": 62,
     "metadata": {},
     "output_type": "execute_result"
    }
   ],
   "source": [
    "200 % 11"
   ]
  },
  {
   "cell_type": "code",
   "execution_count": null,
   "metadata": {},
   "outputs": [],
   "source": [
    "#### Kullanicidan bir string ve bir tamsayi girdisi alin ve ornekteki gibi ciktiyi alin.\n",
    "Or : kelime = \"TechPro\"  sayi  =  3 Output  >> ProProPro"
   ]
  },
  {
   "cell_type": "code",
   "execution_count": 64,
   "metadata": {},
   "outputs": [
    {
     "name": "stdout",
     "output_type": "stream",
     "text": [
      "propropro\n"
     ]
    }
   ],
   "source": [
    "a = input (\"kelime giriniz...\")\n",
    "b = int(input(\"sayi giriniz\"))\n",
    "print(a[-b:]*b)"
   ]
  }
 ],
 "metadata": {
  "kernelspec": {
   "display_name": "Python 3.10.7 64-bit",
   "language": "python",
   "name": "python3"
  },
  "language_info": {
   "codemirror_mode": {
    "name": "ipython",
    "version": 3
   },
   "file_extension": ".py",
   "mimetype": "text/x-python",
   "name": "python",
   "nbconvert_exporter": "python",
   "pygments_lexer": "ipython3",
   "version": "3.10.7"
  },
  "orig_nbformat": 4,
  "vscode": {
   "interpreter": {
    "hash": "974597dd8ef7879a11ba597ac90f8b666a0a4c4068cc994294f584311e4770be"
   }
  }
 },
 "nbformat": 4,
 "nbformat_minor": 2
}
